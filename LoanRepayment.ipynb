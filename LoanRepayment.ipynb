{
 "cells": [
  {
   "cell_type": "code",
   "execution_count": 1,
   "metadata": {
    "scrolled": false
   },
   "outputs": [
    {
     "name": "stderr",
     "output_type": "stream",
     "text": [
      "/opt/anaconda3/lib/python3.7/site-packages/sklearn/externals/joblib/__init__.py:15: FutureWarning: sklearn.externals.joblib is deprecated in 0.21 and will be removed in 0.23. Please import this functionality directly from joblib, which can be installed with: pip install joblib. If this warning is raised when loading pickled models, you may need to re-serialize those models with scikit-learn 0.21+.\n",
      "  warnings.warn(msg, category=FutureWarning)\n",
      "/opt/anaconda3/lib/python3.7/site-packages/statsmodels/tools/_testing.py:19: FutureWarning: pandas.util.testing is deprecated. Use the functions in the public API at pandas.testing instead.\n",
      "  import pandas.util.testing as tm\n"
     ]
    }
   ],
   "source": [
    "import pandas as pd\n",
    "import numpy as np\n",
    "import os\n",
    "import matplotlib.pyplot as plt\n",
    "%matplotlib inline\n",
    "from sklearn.externals import joblib \n",
    "import seaborn as sns\n",
    "#import ggplot"
   ]
  },
  {
   "cell_type": "code",
   "execution_count": 2,
   "metadata": {},
   "outputs": [],
   "source": [
    "import re\n",
    "import time \n",
    "\n",
    "from sklearn.feature_extraction.text import TfidfVectorizer \n",
    "from sklearn.metrics import accuracy_score,recall_score,precision_score,f1_score, classification_report\n",
    "from sklearn.model_selection import GridSearchCV\n",
    "from sklearn.utils import shuffle # to shuffle the data \n",
    "\n",
    "%matplotlib inline\n",
    "plt.style.use('seaborn-whitegrid')\n",
    "\n",
    "from subprocess import check_output\n",
    "from wordcloud import WordCloud, STOPWORDS\n",
    "from sklearn.model_selection import KFold, StratifiedKFold"
   ]
  },
  {
   "cell_type": "markdown",
   "metadata": {},
   "source": [
    "#### There are 25 variables:\n",
    "\n",
    "ID: ID of each client\n",
    "LIMIT_BAL: Amount of given credit in NT dollars (includes individual and family/supplementary credit\n",
    "SEX: Gender (1=male, 2=female)\n",
    "EDUCATION: (1=graduate school, 2=university, 3=high school, 4=others, 5=unknown, 6=unknown)\n",
    "MARRIAGE: Marital status (1=married, 2=single, 3=others)\n",
    "AGE: Age in years\n",
    "PAY_0: Repayment status in September, 2005 (-1=pay duly, 1=payment delay for one month, 2=payment delay for two months, ... 8=payment delay for eight months, 9=payment delay for nine months and above)\n",
    "PAY_2: Repayment status in August, 2005 (scale same as above)\n",
    "PAY_3: Repayment status in July, 2005 (scale same as above)\n",
    "PAY_4: Repayment status in June, 2005 (scale same as above)\n",
    "PAY_5: Repayment status in May, 2005 (scale same as above)\n",
    "PAY_6: Repayment status in April, 2005 (scale same as above)\n",
    "BILL_AMT1: Amount of bill statement in September, 2005 (NT dollar)\n",
    "BILL_AMT2: Amount of bill statement in August, 2005 (NT dollar)\n",
    "BILL_AMT3: Amount of bill statement in July, 2005 (NT dollar)\n",
    "BILL_AMT4: Amount of bill statement in June, 2005 (NT dollar)\n",
    "BILL_AMT5: Amount of bill statement in May, 2005 (NT dollar)\n",
    "BILL_AMT6: Amount of bill statement in April, 2005 (NT dollar)\n",
    "PAY_AMT1: Amount of previous payment in September, 2005 (NT dollar)\n",
    "PAY_AMT2: Amount of previous payment in August, 2005 (NT dollar)\n",
    "PAY_AMT3: Amount of previous payment in July, 2005 (NT dollar)\n",
    "PAY_AMT4: Amount of previous payment in June, 2005 (NT dollar)\n",
    "PAY_AMT5: Amount of previous payment in May, 2005 (NT dollar)\n",
    "PAY_AMT6: Amount of previous payment in April, 2005 (NT dollar)\n",
    "default.payment.next.month: Default payment (1=yes, 0=no)"
   ]
  },
  {
   "cell_type": "code",
   "execution_count": 3,
   "metadata": {},
   "outputs": [],
   "source": [
    "data = pd.read_csv(\"UCI_Credit_Card.csv\")"
   ]
  },
  {
   "cell_type": "code",
   "execution_count": 4,
   "metadata": {},
   "outputs": [],
   "source": [
    "lis = [ 'LIMIT_BAL','AGE','BILL_AMT1', 'BILL_AMT2','BILL_AMT3', 'BILL_AMT4', 'BILL_AMT5', 'BILL_AMT6', 'PAY_AMT1',\n",
    "       'PAY_AMT2', 'PAY_AMT3', 'PAY_AMT4', 'PAY_AMT5', 'PAY_AMT6', 'default_pay']"
   ]
  },
  {
   "cell_type": "code",
   "execution_count": 4,
   "metadata": {},
   "outputs": [],
   "source": [
    "data = data.rename(columns={'default.payment.next.month': 'default_pay', 'PAY_0': 'PAY_1'})"
   ]
  },
  {
   "cell_type": "code",
   "execution_count": 6,
   "metadata": {
    "scrolled": true
   },
   "outputs": [
    {
     "data": {
      "text/html": [
       "<div>\n",
       "<style scoped>\n",
       "    .dataframe tbody tr th:only-of-type {\n",
       "        vertical-align: middle;\n",
       "    }\n",
       "\n",
       "    .dataframe tbody tr th {\n",
       "        vertical-align: top;\n",
       "    }\n",
       "\n",
       "    .dataframe thead th {\n",
       "        text-align: right;\n",
       "    }\n",
       "</style>\n",
       "<table border=\"1\" class=\"dataframe\">\n",
       "  <thead>\n",
       "    <tr style=\"text-align: right;\">\n",
       "      <th></th>\n",
       "      <th>ID</th>\n",
       "      <th>LIMIT_BAL</th>\n",
       "      <th>SEX</th>\n",
       "      <th>EDUCATION</th>\n",
       "      <th>MARRIAGE</th>\n",
       "      <th>AGE</th>\n",
       "      <th>PAY_1</th>\n",
       "      <th>PAY_2</th>\n",
       "      <th>PAY_3</th>\n",
       "      <th>PAY_4</th>\n",
       "      <th>...</th>\n",
       "      <th>BILL_AMT4</th>\n",
       "      <th>BILL_AMT5</th>\n",
       "      <th>BILL_AMT6</th>\n",
       "      <th>PAY_AMT1</th>\n",
       "      <th>PAY_AMT2</th>\n",
       "      <th>PAY_AMT3</th>\n",
       "      <th>PAY_AMT4</th>\n",
       "      <th>PAY_AMT5</th>\n",
       "      <th>PAY_AMT6</th>\n",
       "      <th>default_pay</th>\n",
       "    </tr>\n",
       "  </thead>\n",
       "  <tbody>\n",
       "    <tr>\n",
       "      <td>0</td>\n",
       "      <td>1</td>\n",
       "      <td>20000.0</td>\n",
       "      <td>2</td>\n",
       "      <td>2</td>\n",
       "      <td>1</td>\n",
       "      <td>24</td>\n",
       "      <td>2</td>\n",
       "      <td>2</td>\n",
       "      <td>-1</td>\n",
       "      <td>-1</td>\n",
       "      <td>...</td>\n",
       "      <td>0.0</td>\n",
       "      <td>0.0</td>\n",
       "      <td>0.0</td>\n",
       "      <td>0.0</td>\n",
       "      <td>689.0</td>\n",
       "      <td>0.0</td>\n",
       "      <td>0.0</td>\n",
       "      <td>0.0</td>\n",
       "      <td>0.0</td>\n",
       "      <td>1</td>\n",
       "    </tr>\n",
       "    <tr>\n",
       "      <td>1</td>\n",
       "      <td>2</td>\n",
       "      <td>120000.0</td>\n",
       "      <td>2</td>\n",
       "      <td>2</td>\n",
       "      <td>2</td>\n",
       "      <td>26</td>\n",
       "      <td>-1</td>\n",
       "      <td>2</td>\n",
       "      <td>0</td>\n",
       "      <td>0</td>\n",
       "      <td>...</td>\n",
       "      <td>3272.0</td>\n",
       "      <td>3455.0</td>\n",
       "      <td>3261.0</td>\n",
       "      <td>0.0</td>\n",
       "      <td>1000.0</td>\n",
       "      <td>1000.0</td>\n",
       "      <td>1000.0</td>\n",
       "      <td>0.0</td>\n",
       "      <td>2000.0</td>\n",
       "      <td>1</td>\n",
       "    </tr>\n",
       "    <tr>\n",
       "      <td>2</td>\n",
       "      <td>3</td>\n",
       "      <td>90000.0</td>\n",
       "      <td>2</td>\n",
       "      <td>2</td>\n",
       "      <td>2</td>\n",
       "      <td>34</td>\n",
       "      <td>0</td>\n",
       "      <td>0</td>\n",
       "      <td>0</td>\n",
       "      <td>0</td>\n",
       "      <td>...</td>\n",
       "      <td>14331.0</td>\n",
       "      <td>14948.0</td>\n",
       "      <td>15549.0</td>\n",
       "      <td>1518.0</td>\n",
       "      <td>1500.0</td>\n",
       "      <td>1000.0</td>\n",
       "      <td>1000.0</td>\n",
       "      <td>1000.0</td>\n",
       "      <td>5000.0</td>\n",
       "      <td>0</td>\n",
       "    </tr>\n",
       "    <tr>\n",
       "      <td>3</td>\n",
       "      <td>4</td>\n",
       "      <td>50000.0</td>\n",
       "      <td>2</td>\n",
       "      <td>2</td>\n",
       "      <td>1</td>\n",
       "      <td>37</td>\n",
       "      <td>0</td>\n",
       "      <td>0</td>\n",
       "      <td>0</td>\n",
       "      <td>0</td>\n",
       "      <td>...</td>\n",
       "      <td>28314.0</td>\n",
       "      <td>28959.0</td>\n",
       "      <td>29547.0</td>\n",
       "      <td>2000.0</td>\n",
       "      <td>2019.0</td>\n",
       "      <td>1200.0</td>\n",
       "      <td>1100.0</td>\n",
       "      <td>1069.0</td>\n",
       "      <td>1000.0</td>\n",
       "      <td>0</td>\n",
       "    </tr>\n",
       "    <tr>\n",
       "      <td>4</td>\n",
       "      <td>5</td>\n",
       "      <td>50000.0</td>\n",
       "      <td>1</td>\n",
       "      <td>2</td>\n",
       "      <td>1</td>\n",
       "      <td>57</td>\n",
       "      <td>-1</td>\n",
       "      <td>0</td>\n",
       "      <td>-1</td>\n",
       "      <td>0</td>\n",
       "      <td>...</td>\n",
       "      <td>20940.0</td>\n",
       "      <td>19146.0</td>\n",
       "      <td>19131.0</td>\n",
       "      <td>2000.0</td>\n",
       "      <td>36681.0</td>\n",
       "      <td>10000.0</td>\n",
       "      <td>9000.0</td>\n",
       "      <td>689.0</td>\n",
       "      <td>679.0</td>\n",
       "      <td>0</td>\n",
       "    </tr>\n",
       "  </tbody>\n",
       "</table>\n",
       "<p>5 rows × 25 columns</p>\n",
       "</div>"
      ],
      "text/plain": [
       "   ID  LIMIT_BAL  SEX  EDUCATION  MARRIAGE  AGE  PAY_1  PAY_2  PAY_3  PAY_4  \\\n",
       "0   1    20000.0    2          2         1   24      2      2     -1     -1   \n",
       "1   2   120000.0    2          2         2   26     -1      2      0      0   \n",
       "2   3    90000.0    2          2         2   34      0      0      0      0   \n",
       "3   4    50000.0    2          2         1   37      0      0      0      0   \n",
       "4   5    50000.0    1          2         1   57     -1      0     -1      0   \n",
       "\n",
       "   ...  BILL_AMT4  BILL_AMT5  BILL_AMT6  PAY_AMT1  PAY_AMT2  PAY_AMT3  \\\n",
       "0  ...        0.0        0.0        0.0       0.0     689.0       0.0   \n",
       "1  ...     3272.0     3455.0     3261.0       0.0    1000.0    1000.0   \n",
       "2  ...    14331.0    14948.0    15549.0    1518.0    1500.0    1000.0   \n",
       "3  ...    28314.0    28959.0    29547.0    2000.0    2019.0    1200.0   \n",
       "4  ...    20940.0    19146.0    19131.0    2000.0   36681.0   10000.0   \n",
       "\n",
       "   PAY_AMT4  PAY_AMT5  PAY_AMT6  default_pay  \n",
       "0       0.0       0.0       0.0            1  \n",
       "1    1000.0       0.0    2000.0            1  \n",
       "2    1000.0    1000.0    5000.0            0  \n",
       "3    1100.0    1069.0    1000.0            0  \n",
       "4    9000.0     689.0     679.0            0  \n",
       "\n",
       "[5 rows x 25 columns]"
      ]
     },
     "execution_count": 6,
     "metadata": {},
     "output_type": "execute_result"
    }
   ],
   "source": [
    "data.head()\n",
    "# default_pay (1=yes, 0=No)\n",
    "# gender (1=male, 2=female)\n",
    "# MARRIAGE (1=married, 2=single, 3=others)"
   ]
  },
  {
   "cell_type": "code",
   "execution_count": 7,
   "metadata": {},
   "outputs": [
    {
     "data": {
      "text/plain": [
       "(30000, 25)"
      ]
     },
     "execution_count": 7,
     "metadata": {},
     "output_type": "execute_result"
    }
   ],
   "source": [
    "data.shape"
   ]
  },
  {
   "cell_type": "markdown",
   "metadata": {},
   "source": [
    "EDUCATION has categories 5, 6 and 0 that are unlabelled.\n",
    "MARRIAGE has a label 0 that is undocumented"
   ]
  },
  {
   "cell_type": "code",
   "execution_count": 8,
   "metadata": {},
   "outputs": [],
   "source": [
    "data['EDUCATION'].replace(0, 4,inplace=True)\n",
    "data['EDUCATION'].replace(5, 4,inplace=True)\n",
    "data['EDUCATION'].replace(6, 4,inplace=True)"
   ]
  },
  {
   "cell_type": "code",
   "execution_count": 9,
   "metadata": {},
   "outputs": [
    {
     "data": {
      "text/plain": [
       "2    14030\n",
       "1    10585\n",
       "3     4917\n",
       "4      468\n",
       "Name: EDUCATION, dtype: int64"
      ]
     },
     "execution_count": 9,
     "metadata": {},
     "output_type": "execute_result"
    }
   ],
   "source": [
    "data.EDUCATION.value_counts()"
   ]
  },
  {
   "cell_type": "markdown",
   "metadata": {},
   "source": [
    "for payment we are now using (0=pay duly, 1 = delay for one month, 2 = delay for two months etc.)"
   ]
  },
  {
   "cell_type": "code",
   "execution_count": 10,
   "metadata": {},
   "outputs": [],
   "source": [
    "data['PAY_1'].replace(-1, 0,inplace=True)\n",
    "data['PAY_1'].replace(-2, 0,inplace=True)"
   ]
  },
  {
   "cell_type": "code",
   "execution_count": 11,
   "metadata": {},
   "outputs": [],
   "source": [
    "data['PAY_2'].replace(-1, 0,inplace=True)\n",
    "data['PAY_2'].replace(-2, 0,inplace=True)"
   ]
  },
  {
   "cell_type": "code",
   "execution_count": 12,
   "metadata": {},
   "outputs": [],
   "source": [
    "data['PAY_3'].replace(-1, 0,inplace=True)\n",
    "data['PAY_3'].replace(-2, 0,inplace=True)"
   ]
  },
  {
   "cell_type": "code",
   "execution_count": 13,
   "metadata": {},
   "outputs": [],
   "source": [
    "data['PAY_4'].replace(-1, 0,inplace=True)\n",
    "data['PAY_4'].replace(-2, 0,inplace=True)"
   ]
  },
  {
   "cell_type": "code",
   "execution_count": 14,
   "metadata": {},
   "outputs": [],
   "source": [
    "data['PAY_5'].replace(-1, 0,inplace=True)\n",
    "data['PAY_5'].replace(-2, 0,inplace=True)"
   ]
  },
  {
   "cell_type": "code",
   "execution_count": 15,
   "metadata": {},
   "outputs": [],
   "source": [
    "data['PAY_6'].replace(-1, 0,inplace=True)\n",
    "data['PAY_6'].replace(-2, 0,inplace=True)"
   ]
  },
  {
   "cell_type": "code",
   "execution_count": 16,
   "metadata": {},
   "outputs": [],
   "source": [
    "# changing '0' to '3' for marriage (1=married, 2=single, 3=others)\n",
    "data['MARRIAGE'].replace(0, 3, inplace=True)"
   ]
  },
  {
   "cell_type": "code",
   "execution_count": 17,
   "metadata": {
    "scrolled": true
   },
   "outputs": [
    {
     "data": {
      "text/plain": [
       "SEX  default_pay\n",
       "1    0               9015\n",
       "     1               2873\n",
       "2    0              14349\n",
       "     1               3763\n",
       "dtype: int64"
      ]
     },
     "execution_count": 17,
     "metadata": {},
     "output_type": "execute_result"
    }
   ],
   "source": [
    "data.groupby(['SEX', 'default_pay']).size()"
   ]
  },
  {
   "cell_type": "markdown",
   "metadata": {},
   "source": [
    "### replace all negative values with nan in dataset "
   ]
  },
  {
   "cell_type": "code",
   "execution_count": 18,
   "metadata": {},
   "outputs": [],
   "source": [
    "data.loc[(data['BILL_AMT1'] < 0), 'BILL_AMT1']=np.nan\n",
    "data.loc[(data['BILL_AMT2'] < 0), 'BILL_AMT2']=np.nan\n",
    "data.loc[(data['BILL_AMT3'] < 0), 'BILL_AMT3']=np.nan\n",
    "data.loc[(data['BILL_AMT4'] < 0), 'BILL_AMT4']=np.nan\n",
    "data.loc[(data['BILL_AMT5'] < 0), 'BILL_AMT5']=np.nan\n",
    "data.loc[(data['BILL_AMT6'] < 0), 'BILL_AMT6']=np.nan"
   ]
  },
  {
   "cell_type": "code",
   "execution_count": 19,
   "metadata": {},
   "outputs": [
    {
     "data": {
      "text/plain": [
       "17"
      ]
     },
     "execution_count": 19,
     "metadata": {},
     "output_type": "execute_result"
    }
   ],
   "source": [
    "data.columns.get_loc(\"BILL_AMT6\")"
   ]
  },
  {
   "cell_type": "code",
   "execution_count": 20,
   "metadata": {},
   "outputs": [
    {
     "data": {
      "text/plain": [
       "BILL_AMT1    590\n",
       "BILL_AMT2    669\n",
       "BILL_AMT3    655\n",
       "BILL_AMT4    675\n",
       "BILL_AMT5    655\n",
       "BILL_AMT6    688\n",
       "dtype: int64"
      ]
     },
     "execution_count": 20,
     "metadata": {},
     "output_type": "execute_result"
    }
   ],
   "source": [
    "data.iloc[:,12:18 ].isnull().sum()"
   ]
  },
  {
   "cell_type": "code",
   "execution_count": 21,
   "metadata": {},
   "outputs": [
    {
     "data": {
      "text/html": [
       "<div>\n",
       "<style scoped>\n",
       "    .dataframe tbody tr th:only-of-type {\n",
       "        vertical-align: middle;\n",
       "    }\n",
       "\n",
       "    .dataframe tbody tr th {\n",
       "        vertical-align: top;\n",
       "    }\n",
       "\n",
       "    .dataframe thead th {\n",
       "        text-align: right;\n",
       "    }\n",
       "</style>\n",
       "<table border=\"1\" class=\"dataframe\">\n",
       "  <thead>\n",
       "    <tr style=\"text-align: right;\">\n",
       "      <th></th>\n",
       "      <th>ID</th>\n",
       "      <th>LIMIT_BAL</th>\n",
       "      <th>SEX</th>\n",
       "      <th>EDUCATION</th>\n",
       "      <th>MARRIAGE</th>\n",
       "      <th>AGE</th>\n",
       "      <th>PAY_1</th>\n",
       "      <th>PAY_2</th>\n",
       "      <th>PAY_3</th>\n",
       "      <th>PAY_4</th>\n",
       "      <th>PAY_5</th>\n",
       "      <th>PAY_6</th>\n",
       "      <th>BILL_AMT1</th>\n",
       "      <th>BILL_AMT2</th>\n",
       "      <th>BILL_AMT3</th>\n",
       "      <th>BILL_AMT4</th>\n",
       "      <th>BILL_AMT5</th>\n",
       "      <th>BILL_AMT6</th>\n",
       "      <th>PAY_AMT1</th>\n",
       "      <th>PAY_AMT2</th>\n",
       "      <th>PAY_AMT3</th>\n",
       "      <th>PAY_AMT4</th>\n",
       "      <th>PAY_AMT5</th>\n",
       "      <th>PAY_AMT6</th>\n",
       "      <th>default_pay</th>\n",
       "    </tr>\n",
       "  </thead>\n",
       "  <tbody>\n",
       "    <tr>\n",
       "      <td>29990</td>\n",
       "      <td>29991</td>\n",
       "      <td>140000.0</td>\n",
       "      <td>1</td>\n",
       "      <td>2</td>\n",
       "      <td>1</td>\n",
       "      <td>41</td>\n",
       "      <td>0</td>\n",
       "      <td>0</td>\n",
       "      <td>0</td>\n",
       "      <td>0</td>\n",
       "      <td>0</td>\n",
       "      <td>0</td>\n",
       "      <td>138325.0</td>\n",
       "      <td>137142.0</td>\n",
       "      <td>139110.0</td>\n",
       "      <td>138262.0</td>\n",
       "      <td>49675.0</td>\n",
       "      <td>46121.0</td>\n",
       "      <td>6000.0</td>\n",
       "      <td>7000.0</td>\n",
       "      <td>4228.0</td>\n",
       "      <td>1505.0</td>\n",
       "      <td>2000.0</td>\n",
       "      <td>2000.0</td>\n",
       "      <td>0</td>\n",
       "    </tr>\n",
       "    <tr>\n",
       "      <td>29991</td>\n",
       "      <td>29992</td>\n",
       "      <td>210000.0</td>\n",
       "      <td>1</td>\n",
       "      <td>2</td>\n",
       "      <td>1</td>\n",
       "      <td>34</td>\n",
       "      <td>3</td>\n",
       "      <td>2</td>\n",
       "      <td>2</td>\n",
       "      <td>2</td>\n",
       "      <td>2</td>\n",
       "      <td>2</td>\n",
       "      <td>2500.0</td>\n",
       "      <td>2500.0</td>\n",
       "      <td>2500.0</td>\n",
       "      <td>2500.0</td>\n",
       "      <td>2500.0</td>\n",
       "      <td>2500.0</td>\n",
       "      <td>0.0</td>\n",
       "      <td>0.0</td>\n",
       "      <td>0.0</td>\n",
       "      <td>0.0</td>\n",
       "      <td>0.0</td>\n",
       "      <td>0.0</td>\n",
       "      <td>1</td>\n",
       "    </tr>\n",
       "    <tr>\n",
       "      <td>29992</td>\n",
       "      <td>29993</td>\n",
       "      <td>10000.0</td>\n",
       "      <td>1</td>\n",
       "      <td>3</td>\n",
       "      <td>1</td>\n",
       "      <td>43</td>\n",
       "      <td>0</td>\n",
       "      <td>0</td>\n",
       "      <td>0</td>\n",
       "      <td>0</td>\n",
       "      <td>0</td>\n",
       "      <td>0</td>\n",
       "      <td>8802.0</td>\n",
       "      <td>10400.0</td>\n",
       "      <td>0.0</td>\n",
       "      <td>0.0</td>\n",
       "      <td>0.0</td>\n",
       "      <td>0.0</td>\n",
       "      <td>2000.0</td>\n",
       "      <td>0.0</td>\n",
       "      <td>0.0</td>\n",
       "      <td>0.0</td>\n",
       "      <td>0.0</td>\n",
       "      <td>0.0</td>\n",
       "      <td>0</td>\n",
       "    </tr>\n",
       "    <tr>\n",
       "      <td>29993</td>\n",
       "      <td>29994</td>\n",
       "      <td>100000.0</td>\n",
       "      <td>1</td>\n",
       "      <td>1</td>\n",
       "      <td>2</td>\n",
       "      <td>38</td>\n",
       "      <td>0</td>\n",
       "      <td>0</td>\n",
       "      <td>0</td>\n",
       "      <td>0</td>\n",
       "      <td>0</td>\n",
       "      <td>0</td>\n",
       "      <td>3042.0</td>\n",
       "      <td>1427.0</td>\n",
       "      <td>102996.0</td>\n",
       "      <td>70626.0</td>\n",
       "      <td>69473.0</td>\n",
       "      <td>55004.0</td>\n",
       "      <td>2000.0</td>\n",
       "      <td>111784.0</td>\n",
       "      <td>4000.0</td>\n",
       "      <td>3000.0</td>\n",
       "      <td>2000.0</td>\n",
       "      <td>2000.0</td>\n",
       "      <td>0</td>\n",
       "    </tr>\n",
       "    <tr>\n",
       "      <td>29994</td>\n",
       "      <td>29995</td>\n",
       "      <td>80000.0</td>\n",
       "      <td>1</td>\n",
       "      <td>2</td>\n",
       "      <td>2</td>\n",
       "      <td>34</td>\n",
       "      <td>2</td>\n",
       "      <td>2</td>\n",
       "      <td>2</td>\n",
       "      <td>2</td>\n",
       "      <td>2</td>\n",
       "      <td>2</td>\n",
       "      <td>72557.0</td>\n",
       "      <td>77708.0</td>\n",
       "      <td>79384.0</td>\n",
       "      <td>77519.0</td>\n",
       "      <td>82607.0</td>\n",
       "      <td>81158.0</td>\n",
       "      <td>7000.0</td>\n",
       "      <td>3500.0</td>\n",
       "      <td>0.0</td>\n",
       "      <td>7000.0</td>\n",
       "      <td>0.0</td>\n",
       "      <td>4000.0</td>\n",
       "      <td>1</td>\n",
       "    </tr>\n",
       "    <tr>\n",
       "      <td>29995</td>\n",
       "      <td>29996</td>\n",
       "      <td>220000.0</td>\n",
       "      <td>1</td>\n",
       "      <td>3</td>\n",
       "      <td>1</td>\n",
       "      <td>39</td>\n",
       "      <td>0</td>\n",
       "      <td>0</td>\n",
       "      <td>0</td>\n",
       "      <td>0</td>\n",
       "      <td>0</td>\n",
       "      <td>0</td>\n",
       "      <td>188948.0</td>\n",
       "      <td>192815.0</td>\n",
       "      <td>208365.0</td>\n",
       "      <td>88004.0</td>\n",
       "      <td>31237.0</td>\n",
       "      <td>15980.0</td>\n",
       "      <td>8500.0</td>\n",
       "      <td>20000.0</td>\n",
       "      <td>5003.0</td>\n",
       "      <td>3047.0</td>\n",
       "      <td>5000.0</td>\n",
       "      <td>1000.0</td>\n",
       "      <td>0</td>\n",
       "    </tr>\n",
       "    <tr>\n",
       "      <td>29996</td>\n",
       "      <td>29997</td>\n",
       "      <td>150000.0</td>\n",
       "      <td>1</td>\n",
       "      <td>3</td>\n",
       "      <td>2</td>\n",
       "      <td>43</td>\n",
       "      <td>0</td>\n",
       "      <td>0</td>\n",
       "      <td>0</td>\n",
       "      <td>0</td>\n",
       "      <td>0</td>\n",
       "      <td>0</td>\n",
       "      <td>1683.0</td>\n",
       "      <td>1828.0</td>\n",
       "      <td>3502.0</td>\n",
       "      <td>8979.0</td>\n",
       "      <td>5190.0</td>\n",
       "      <td>0.0</td>\n",
       "      <td>1837.0</td>\n",
       "      <td>3526.0</td>\n",
       "      <td>8998.0</td>\n",
       "      <td>129.0</td>\n",
       "      <td>0.0</td>\n",
       "      <td>0.0</td>\n",
       "      <td>0</td>\n",
       "    </tr>\n",
       "    <tr>\n",
       "      <td>29997</td>\n",
       "      <td>29998</td>\n",
       "      <td>30000.0</td>\n",
       "      <td>1</td>\n",
       "      <td>2</td>\n",
       "      <td>2</td>\n",
       "      <td>37</td>\n",
       "      <td>4</td>\n",
       "      <td>3</td>\n",
       "      <td>2</td>\n",
       "      <td>0</td>\n",
       "      <td>0</td>\n",
       "      <td>0</td>\n",
       "      <td>3565.0</td>\n",
       "      <td>3356.0</td>\n",
       "      <td>2758.0</td>\n",
       "      <td>20878.0</td>\n",
       "      <td>20582.0</td>\n",
       "      <td>19357.0</td>\n",
       "      <td>0.0</td>\n",
       "      <td>0.0</td>\n",
       "      <td>22000.0</td>\n",
       "      <td>4200.0</td>\n",
       "      <td>2000.0</td>\n",
       "      <td>3100.0</td>\n",
       "      <td>1</td>\n",
       "    </tr>\n",
       "    <tr>\n",
       "      <td>29998</td>\n",
       "      <td>29999</td>\n",
       "      <td>80000.0</td>\n",
       "      <td>1</td>\n",
       "      <td>3</td>\n",
       "      <td>1</td>\n",
       "      <td>41</td>\n",
       "      <td>1</td>\n",
       "      <td>0</td>\n",
       "      <td>0</td>\n",
       "      <td>0</td>\n",
       "      <td>0</td>\n",
       "      <td>0</td>\n",
       "      <td>NaN</td>\n",
       "      <td>78379.0</td>\n",
       "      <td>76304.0</td>\n",
       "      <td>52774.0</td>\n",
       "      <td>11855.0</td>\n",
       "      <td>48944.0</td>\n",
       "      <td>85900.0</td>\n",
       "      <td>3409.0</td>\n",
       "      <td>1178.0</td>\n",
       "      <td>1926.0</td>\n",
       "      <td>52964.0</td>\n",
       "      <td>1804.0</td>\n",
       "      <td>1</td>\n",
       "    </tr>\n",
       "    <tr>\n",
       "      <td>29999</td>\n",
       "      <td>30000</td>\n",
       "      <td>50000.0</td>\n",
       "      <td>1</td>\n",
       "      <td>2</td>\n",
       "      <td>1</td>\n",
       "      <td>46</td>\n",
       "      <td>0</td>\n",
       "      <td>0</td>\n",
       "      <td>0</td>\n",
       "      <td>0</td>\n",
       "      <td>0</td>\n",
       "      <td>0</td>\n",
       "      <td>47929.0</td>\n",
       "      <td>48905.0</td>\n",
       "      <td>49764.0</td>\n",
       "      <td>36535.0</td>\n",
       "      <td>32428.0</td>\n",
       "      <td>15313.0</td>\n",
       "      <td>2078.0</td>\n",
       "      <td>1800.0</td>\n",
       "      <td>1430.0</td>\n",
       "      <td>1000.0</td>\n",
       "      <td>1000.0</td>\n",
       "      <td>1000.0</td>\n",
       "      <td>1</td>\n",
       "    </tr>\n",
       "  </tbody>\n",
       "</table>\n",
       "</div>"
      ],
      "text/plain": [
       "          ID  LIMIT_BAL  SEX  EDUCATION  MARRIAGE  AGE  PAY_1  PAY_2  PAY_3  \\\n",
       "29990  29991   140000.0    1          2         1   41      0      0      0   \n",
       "29991  29992   210000.0    1          2         1   34      3      2      2   \n",
       "29992  29993    10000.0    1          3         1   43      0      0      0   \n",
       "29993  29994   100000.0    1          1         2   38      0      0      0   \n",
       "29994  29995    80000.0    1          2         2   34      2      2      2   \n",
       "29995  29996   220000.0    1          3         1   39      0      0      0   \n",
       "29996  29997   150000.0    1          3         2   43      0      0      0   \n",
       "29997  29998    30000.0    1          2         2   37      4      3      2   \n",
       "29998  29999    80000.0    1          3         1   41      1      0      0   \n",
       "29999  30000    50000.0    1          2         1   46      0      0      0   \n",
       "\n",
       "       PAY_4  PAY_5  PAY_6  BILL_AMT1  BILL_AMT2  BILL_AMT3  BILL_AMT4  \\\n",
       "29990      0      0      0   138325.0   137142.0   139110.0   138262.0   \n",
       "29991      2      2      2     2500.0     2500.0     2500.0     2500.0   \n",
       "29992      0      0      0     8802.0    10400.0        0.0        0.0   \n",
       "29993      0      0      0     3042.0     1427.0   102996.0    70626.0   \n",
       "29994      2      2      2    72557.0    77708.0    79384.0    77519.0   \n",
       "29995      0      0      0   188948.0   192815.0   208365.0    88004.0   \n",
       "29996      0      0      0     1683.0     1828.0     3502.0     8979.0   \n",
       "29997      0      0      0     3565.0     3356.0     2758.0    20878.0   \n",
       "29998      0      0      0        NaN    78379.0    76304.0    52774.0   \n",
       "29999      0      0      0    47929.0    48905.0    49764.0    36535.0   \n",
       "\n",
       "       BILL_AMT5  BILL_AMT6  PAY_AMT1  PAY_AMT2  PAY_AMT3  PAY_AMT4  PAY_AMT5  \\\n",
       "29990    49675.0    46121.0    6000.0    7000.0    4228.0    1505.0    2000.0   \n",
       "29991     2500.0     2500.0       0.0       0.0       0.0       0.0       0.0   \n",
       "29992        0.0        0.0    2000.0       0.0       0.0       0.0       0.0   \n",
       "29993    69473.0    55004.0    2000.0  111784.0    4000.0    3000.0    2000.0   \n",
       "29994    82607.0    81158.0    7000.0    3500.0       0.0    7000.0       0.0   \n",
       "29995    31237.0    15980.0    8500.0   20000.0    5003.0    3047.0    5000.0   \n",
       "29996     5190.0        0.0    1837.0    3526.0    8998.0     129.0       0.0   \n",
       "29997    20582.0    19357.0       0.0       0.0   22000.0    4200.0    2000.0   \n",
       "29998    11855.0    48944.0   85900.0    3409.0    1178.0    1926.0   52964.0   \n",
       "29999    32428.0    15313.0    2078.0    1800.0    1430.0    1000.0    1000.0   \n",
       "\n",
       "       PAY_AMT6  default_pay  \n",
       "29990    2000.0            0  \n",
       "29991       0.0            1  \n",
       "29992       0.0            0  \n",
       "29993    2000.0            0  \n",
       "29994    4000.0            1  \n",
       "29995    1000.0            0  \n",
       "29996       0.0            0  \n",
       "29997    3100.0            1  \n",
       "29998    1804.0            1  \n",
       "29999    1000.0            1  "
      ]
     },
     "metadata": {},
     "output_type": "display_data"
    }
   ],
   "source": [
    "# To view all columns\n",
    "from IPython.display import display\n",
    "pd.options.display.max_columns = None\n",
    "display(data.tail(10))"
   ]
  },
  {
   "cell_type": "markdown",
   "metadata": {},
   "source": [
    "### Replacing the nan values using imputation method\n",
    "There are clients that paid more then they were asked to, had even a negative bill in Sept., and still have a month of delay, and even defaulted the next month, so i am going to convert all the negative values into nan's and will replace them with mean."
   ]
  },
  {
   "cell_type": "code",
   "execution_count": 22,
   "metadata": {},
   "outputs": [
    {
     "data": {
      "text/plain": [
       "64400.0"
      ]
     },
     "execution_count": 22,
     "metadata": {},
     "output_type": "execute_result"
    }
   ],
   "source": [
    "data['BILL_AMT1'].loc[5]"
   ]
  },
  {
   "cell_type": "code",
   "execution_count": 28,
   "metadata": {},
   "outputs": [
    {
     "name": "stderr",
     "output_type": "stream",
     "text": [
      "/opt/anaconda3/lib/python3.7/site-packages/pandas/core/indexing.py:205: SettingWithCopyWarning: \n",
      "A value is trying to be set on a copy of a slice from a DataFrame\n",
      "\n",
      "See the caveats in the documentation: http://pandas.pydata.org/pandas-docs/stable/user_guide/indexing.html#returning-a-view-versus-a-copy\n",
      "  self._setitem_with_indexer(indexer, value)\n"
     ]
    }
   ],
   "source": [
    "data['BILL_AMT1'].loc[5] = np.nan"
   ]
  },
  {
   "cell_type": "markdown",
   "metadata": {},
   "source": [
    "now we will fill the 5th location with mean/median and use the method which gives the closest result."
   ]
  },
  {
   "cell_type": "code",
   "execution_count": 29,
   "metadata": {},
   "outputs": [
    {
     "data": {
      "text/plain": [
       "52273.68686456527"
      ]
     },
     "execution_count": 29,
     "metadata": {},
     "output_type": "execute_result"
    }
   ],
   "source": [
    "data['BILL_AMT1'].mean()"
   ]
  },
  {
   "cell_type": "code",
   "execution_count": 30,
   "metadata": {},
   "outputs": [
    {
     "data": {
      "text/plain": [
       "23790.0"
      ]
     },
     "execution_count": 30,
     "metadata": {},
     "output_type": "execute_result"
    }
   ],
   "source": [
    "data['BILL_AMT1'].median()"
   ]
  },
  {
   "cell_type": "markdown",
   "metadata": {},
   "source": [
    "As mean is closer to actual result so using the mean to fill the nan values."
   ]
  },
  {
   "cell_type": "code",
   "execution_count": 23,
   "metadata": {},
   "outputs": [],
   "source": [
    "data['BILL_AMT1'] = data['BILL_AMT1'].fillna(data['BILL_AMT1'].mean())\n",
    "data['BILL_AMT2'] = data['BILL_AMT2'].fillna(data['BILL_AMT2'].mean())\n",
    "data['BILL_AMT3'] = data['BILL_AMT3'].fillna(data['BILL_AMT3'].mean())\n",
    "data['BILL_AMT4'] = data['BILL_AMT4'].fillna(data['BILL_AMT4'].mean())\n",
    "data['BILL_AMT5'] = data['BILL_AMT5'].fillna(data['BILL_AMT5'].mean())\n",
    "data['BILL_AMT6'] = data['BILL_AMT6'].fillna(data['BILL_AMT6'].mean())"
   ]
  },
  {
   "cell_type": "code",
   "execution_count": 24,
   "metadata": {},
   "outputs": [
    {
     "data": {
      "text/plain": [
       "BILL_AMT1    0\n",
       "BILL_AMT2    0\n",
       "BILL_AMT3    0\n",
       "BILL_AMT4    0\n",
       "BILL_AMT5    0\n",
       "BILL_AMT6    0\n",
       "dtype: int64"
      ]
     },
     "execution_count": 24,
     "metadata": {},
     "output_type": "execute_result"
    }
   ],
   "source": [
    "data.iloc[:,12:18 ].isna().sum()"
   ]
  },
  {
   "cell_type": "markdown",
   "metadata": {},
   "source": [
    "### Replacing the missing values with KNN imputation"
   ]
  },
  {
   "cell_type": "markdown",
   "metadata": {},
   "source": [
    "##### This is the second method used for comapring the null value replacement"
   ]
  },
  {
   "cell_type": "code",
   "execution_count": 1,
   "metadata": {},
   "outputs": [],
   "source": [
    "#from tqdm import tqdm"
   ]
  },
  {
   "cell_type": "code",
   "execution_count": 30,
   "metadata": {},
   "outputs": [],
   "source": [
    "# #using for loop to replace the negative values with nan\n",
    "# for i in tqdm(range (12, 18)):\n",
    "#     data2.iloc[:,i] = data2.iloc[:,i].replace((data2.iloc[:,i] < 0), np.nan)"
   ]
  },
  {
   "cell_type": "code",
   "execution_count": 23,
   "metadata": {},
   "outputs": [],
   "source": [
    "data2 = data"
   ]
  },
  {
   "cell_type": "code",
   "execution_count": 24,
   "metadata": {},
   "outputs": [],
   "source": [
    "data2.loc[(data2['BILL_AMT1'] < 0), 'BILL_AMT1']=np.nan\n",
    "data2.loc[(data2['BILL_AMT2'] < 0), 'BILL_AMT2']=np.nan\n",
    "data2.loc[(data2['BILL_AMT3'] < 0), 'BILL_AMT3']=np.nan\n",
    "data2.loc[(data2['BILL_AMT4'] < 0), 'BILL_AMT4']=np.nan\n",
    "data2.loc[(data2['BILL_AMT5'] < 0), 'BILL_AMT5']=np.nan\n",
    "data2.loc[(data2['BILL_AMT6'] < 0), 'BILL_AMT6']=np.nan"
   ]
  },
  {
   "cell_type": "code",
   "execution_count": 27,
   "metadata": {
    "scrolled": true
   },
   "outputs": [
    {
     "data": {
      "text/plain": [
       "BILL_AMT1    590\n",
       "BILL_AMT2    669\n",
       "BILL_AMT3    655\n",
       "BILL_AMT4    675\n",
       "BILL_AMT5    655\n",
       "BILL_AMT6    688\n",
       "dtype: int64"
      ]
     },
     "execution_count": 27,
     "metadata": {},
     "output_type": "execute_result"
    }
   ],
   "source": [
    "data2.iloc[:,12:18].isna().sum()"
   ]
  },
  {
   "cell_type": "code",
   "execution_count": 26,
   "metadata": {
    "scrolled": true
   },
   "outputs": [
    {
     "data": {
      "text/plain": [
       "'PAY_AMT1'"
      ]
     },
     "execution_count": 26,
     "metadata": {},
     "output_type": "execute_result"
    }
   ],
   "source": [
    "data2.columns[18]"
   ]
  },
  {
   "cell_type": "markdown",
   "metadata": {},
   "source": [
    "Replacing the missing values with KNN imputation"
   ]
  },
  {
   "cell_type": "code",
   "execution_count": 13,
   "metadata": {},
   "outputs": [],
   "source": [
    "from sklearn.impute import KNNImputer"
   ]
  },
  {
   "cell_type": "code",
   "execution_count": 14,
   "metadata": {},
   "outputs": [],
   "source": [
    "imputer = KNNImputer(n_neighbors=2)\n",
    "data2['BILL_AMT1']= imputer.fit_transform(data2[['BILL_AMT1']])\n",
    "data2['BILL_AMT2']= imputer.fit_transform(data2[['BILL_AMT2']])\n",
    "data2['BILL_AMT3']= imputer.fit_transform(data2[['BILL_AMT3']])\n",
    "data2['BILL_AMT4']= imputer.fit_transform(data2[['BILL_AMT4']])\n",
    "data2['BILL_AMT5']= imputer.fit_transform(data2[['BILL_AMT5']])\n",
    "data2['BILL_AMT6']= imputer.fit_transform(data2[['BILL_AMT6']])"
   ]
  },
  {
   "cell_type": "code",
   "execution_count": 60,
   "metadata": {
    "collapsed": true
   },
   "outputs": [
    {
     "data": {
      "text/html": [
       "<div>\n",
       "<style scoped>\n",
       "    .dataframe tbody tr th:only-of-type {\n",
       "        vertical-align: middle;\n",
       "    }\n",
       "\n",
       "    .dataframe tbody tr th {\n",
       "        vertical-align: top;\n",
       "    }\n",
       "\n",
       "    .dataframe thead th {\n",
       "        text-align: right;\n",
       "    }\n",
       "</style>\n",
       "<table border=\"1\" class=\"dataframe\">\n",
       "  <thead>\n",
       "    <tr style=\"text-align: right;\">\n",
       "      <th></th>\n",
       "      <th>ID</th>\n",
       "      <th>LIMIT_BAL</th>\n",
       "      <th>SEX</th>\n",
       "      <th>EDUCATION</th>\n",
       "      <th>MARRIAGE</th>\n",
       "      <th>AGE</th>\n",
       "      <th>PAY_1</th>\n",
       "      <th>PAY_2</th>\n",
       "      <th>PAY_3</th>\n",
       "      <th>PAY_4</th>\n",
       "      <th>...</th>\n",
       "      <th>BILL_AMT4</th>\n",
       "      <th>BILL_AMT5</th>\n",
       "      <th>BILL_AMT6</th>\n",
       "      <th>PAY_AMT1</th>\n",
       "      <th>PAY_AMT2</th>\n",
       "      <th>PAY_AMT3</th>\n",
       "      <th>PAY_AMT4</th>\n",
       "      <th>PAY_AMT5</th>\n",
       "      <th>PAY_AMT6</th>\n",
       "      <th>default_pay</th>\n",
       "    </tr>\n",
       "  </thead>\n",
       "  <tbody>\n",
       "    <tr>\n",
       "      <td>0</td>\n",
       "      <td>1</td>\n",
       "      <td>20000.0</td>\n",
       "      <td>2</td>\n",
       "      <td>2</td>\n",
       "      <td>1</td>\n",
       "      <td>24</td>\n",
       "      <td>2</td>\n",
       "      <td>2</td>\n",
       "      <td>0</td>\n",
       "      <td>0</td>\n",
       "      <td>...</td>\n",
       "      <td>0.0</td>\n",
       "      <td>0.0</td>\n",
       "      <td>0.0</td>\n",
       "      <td>0.0</td>\n",
       "      <td>689.0</td>\n",
       "      <td>0.0</td>\n",
       "      <td>0.0</td>\n",
       "      <td>0.0</td>\n",
       "      <td>0.0</td>\n",
       "      <td>1</td>\n",
       "    </tr>\n",
       "    <tr>\n",
       "      <td>1</td>\n",
       "      <td>2</td>\n",
       "      <td>120000.0</td>\n",
       "      <td>2</td>\n",
       "      <td>2</td>\n",
       "      <td>2</td>\n",
       "      <td>26</td>\n",
       "      <td>0</td>\n",
       "      <td>2</td>\n",
       "      <td>0</td>\n",
       "      <td>0</td>\n",
       "      <td>...</td>\n",
       "      <td>3272.0</td>\n",
       "      <td>3455.0</td>\n",
       "      <td>3261.0</td>\n",
       "      <td>0.0</td>\n",
       "      <td>1000.0</td>\n",
       "      <td>1000.0</td>\n",
       "      <td>1000.0</td>\n",
       "      <td>0.0</td>\n",
       "      <td>2000.0</td>\n",
       "      <td>1</td>\n",
       "    </tr>\n",
       "    <tr>\n",
       "      <td>2</td>\n",
       "      <td>3</td>\n",
       "      <td>90000.0</td>\n",
       "      <td>2</td>\n",
       "      <td>2</td>\n",
       "      <td>2</td>\n",
       "      <td>34</td>\n",
       "      <td>0</td>\n",
       "      <td>0</td>\n",
       "      <td>0</td>\n",
       "      <td>0</td>\n",
       "      <td>...</td>\n",
       "      <td>14331.0</td>\n",
       "      <td>14948.0</td>\n",
       "      <td>15549.0</td>\n",
       "      <td>1518.0</td>\n",
       "      <td>1500.0</td>\n",
       "      <td>1000.0</td>\n",
       "      <td>1000.0</td>\n",
       "      <td>1000.0</td>\n",
       "      <td>5000.0</td>\n",
       "      <td>0</td>\n",
       "    </tr>\n",
       "    <tr>\n",
       "      <td>3</td>\n",
       "      <td>4</td>\n",
       "      <td>50000.0</td>\n",
       "      <td>2</td>\n",
       "      <td>2</td>\n",
       "      <td>1</td>\n",
       "      <td>37</td>\n",
       "      <td>0</td>\n",
       "      <td>0</td>\n",
       "      <td>0</td>\n",
       "      <td>0</td>\n",
       "      <td>...</td>\n",
       "      <td>28314.0</td>\n",
       "      <td>28959.0</td>\n",
       "      <td>29547.0</td>\n",
       "      <td>2000.0</td>\n",
       "      <td>2019.0</td>\n",
       "      <td>1200.0</td>\n",
       "      <td>1100.0</td>\n",
       "      <td>1069.0</td>\n",
       "      <td>1000.0</td>\n",
       "      <td>0</td>\n",
       "    </tr>\n",
       "    <tr>\n",
       "      <td>4</td>\n",
       "      <td>5</td>\n",
       "      <td>50000.0</td>\n",
       "      <td>1</td>\n",
       "      <td>2</td>\n",
       "      <td>1</td>\n",
       "      <td>57</td>\n",
       "      <td>0</td>\n",
       "      <td>0</td>\n",
       "      <td>0</td>\n",
       "      <td>0</td>\n",
       "      <td>...</td>\n",
       "      <td>20940.0</td>\n",
       "      <td>19146.0</td>\n",
       "      <td>19131.0</td>\n",
       "      <td>2000.0</td>\n",
       "      <td>36681.0</td>\n",
       "      <td>10000.0</td>\n",
       "      <td>9000.0</td>\n",
       "      <td>689.0</td>\n",
       "      <td>679.0</td>\n",
       "      <td>0</td>\n",
       "    </tr>\n",
       "    <tr>\n",
       "      <td>...</td>\n",
       "      <td>...</td>\n",
       "      <td>...</td>\n",
       "      <td>...</td>\n",
       "      <td>...</td>\n",
       "      <td>...</td>\n",
       "      <td>...</td>\n",
       "      <td>...</td>\n",
       "      <td>...</td>\n",
       "      <td>...</td>\n",
       "      <td>...</td>\n",
       "      <td>...</td>\n",
       "      <td>...</td>\n",
       "      <td>...</td>\n",
       "      <td>...</td>\n",
       "      <td>...</td>\n",
       "      <td>...</td>\n",
       "      <td>...</td>\n",
       "      <td>...</td>\n",
       "      <td>...</td>\n",
       "      <td>...</td>\n",
       "      <td>...</td>\n",
       "    </tr>\n",
       "    <tr>\n",
       "      <td>29995</td>\n",
       "      <td>29996</td>\n",
       "      <td>220000.0</td>\n",
       "      <td>1</td>\n",
       "      <td>3</td>\n",
       "      <td>1</td>\n",
       "      <td>39</td>\n",
       "      <td>0</td>\n",
       "      <td>0</td>\n",
       "      <td>0</td>\n",
       "      <td>0</td>\n",
       "      <td>...</td>\n",
       "      <td>88004.0</td>\n",
       "      <td>31237.0</td>\n",
       "      <td>15980.0</td>\n",
       "      <td>8500.0</td>\n",
       "      <td>20000.0</td>\n",
       "      <td>5003.0</td>\n",
       "      <td>3047.0</td>\n",
       "      <td>5000.0</td>\n",
       "      <td>1000.0</td>\n",
       "      <td>0</td>\n",
       "    </tr>\n",
       "    <tr>\n",
       "      <td>29996</td>\n",
       "      <td>29997</td>\n",
       "      <td>150000.0</td>\n",
       "      <td>1</td>\n",
       "      <td>3</td>\n",
       "      <td>2</td>\n",
       "      <td>43</td>\n",
       "      <td>0</td>\n",
       "      <td>0</td>\n",
       "      <td>0</td>\n",
       "      <td>0</td>\n",
       "      <td>...</td>\n",
       "      <td>8979.0</td>\n",
       "      <td>5190.0</td>\n",
       "      <td>0.0</td>\n",
       "      <td>1837.0</td>\n",
       "      <td>3526.0</td>\n",
       "      <td>8998.0</td>\n",
       "      <td>129.0</td>\n",
       "      <td>0.0</td>\n",
       "      <td>0.0</td>\n",
       "      <td>0</td>\n",
       "    </tr>\n",
       "    <tr>\n",
       "      <td>29997</td>\n",
       "      <td>29998</td>\n",
       "      <td>30000.0</td>\n",
       "      <td>1</td>\n",
       "      <td>2</td>\n",
       "      <td>2</td>\n",
       "      <td>37</td>\n",
       "      <td>4</td>\n",
       "      <td>3</td>\n",
       "      <td>2</td>\n",
       "      <td>0</td>\n",
       "      <td>...</td>\n",
       "      <td>20878.0</td>\n",
       "      <td>20582.0</td>\n",
       "      <td>19357.0</td>\n",
       "      <td>0.0</td>\n",
       "      <td>0.0</td>\n",
       "      <td>22000.0</td>\n",
       "      <td>4200.0</td>\n",
       "      <td>2000.0</td>\n",
       "      <td>3100.0</td>\n",
       "      <td>1</td>\n",
       "    </tr>\n",
       "    <tr>\n",
       "      <td>29998</td>\n",
       "      <td>29999</td>\n",
       "      <td>80000.0</td>\n",
       "      <td>1</td>\n",
       "      <td>3</td>\n",
       "      <td>1</td>\n",
       "      <td>41</td>\n",
       "      <td>1</td>\n",
       "      <td>0</td>\n",
       "      <td>0</td>\n",
       "      <td>0</td>\n",
       "      <td>...</td>\n",
       "      <td>52774.0</td>\n",
       "      <td>11855.0</td>\n",
       "      <td>48944.0</td>\n",
       "      <td>85900.0</td>\n",
       "      <td>3409.0</td>\n",
       "      <td>1178.0</td>\n",
       "      <td>1926.0</td>\n",
       "      <td>52964.0</td>\n",
       "      <td>1804.0</td>\n",
       "      <td>1</td>\n",
       "    </tr>\n",
       "    <tr>\n",
       "      <td>29999</td>\n",
       "      <td>30000</td>\n",
       "      <td>50000.0</td>\n",
       "      <td>1</td>\n",
       "      <td>2</td>\n",
       "      <td>1</td>\n",
       "      <td>46</td>\n",
       "      <td>0</td>\n",
       "      <td>0</td>\n",
       "      <td>0</td>\n",
       "      <td>0</td>\n",
       "      <td>...</td>\n",
       "      <td>36535.0</td>\n",
       "      <td>32428.0</td>\n",
       "      <td>15313.0</td>\n",
       "      <td>2078.0</td>\n",
       "      <td>1800.0</td>\n",
       "      <td>1430.0</td>\n",
       "      <td>1000.0</td>\n",
       "      <td>1000.0</td>\n",
       "      <td>1000.0</td>\n",
       "      <td>1</td>\n",
       "    </tr>\n",
       "  </tbody>\n",
       "</table>\n",
       "<p>30000 rows × 25 columns</p>\n",
       "</div>"
      ],
      "text/plain": [
       "          ID  LIMIT_BAL  SEX  EDUCATION  MARRIAGE  AGE  PAY_1  PAY_2  PAY_3  \\\n",
       "0          1    20000.0    2          2         1   24      2      2      0   \n",
       "1          2   120000.0    2          2         2   26      0      2      0   \n",
       "2          3    90000.0    2          2         2   34      0      0      0   \n",
       "3          4    50000.0    2          2         1   37      0      0      0   \n",
       "4          5    50000.0    1          2         1   57      0      0      0   \n",
       "...      ...        ...  ...        ...       ...  ...    ...    ...    ...   \n",
       "29995  29996   220000.0    1          3         1   39      0      0      0   \n",
       "29996  29997   150000.0    1          3         2   43      0      0      0   \n",
       "29997  29998    30000.0    1          2         2   37      4      3      2   \n",
       "29998  29999    80000.0    1          3         1   41      1      0      0   \n",
       "29999  30000    50000.0    1          2         1   46      0      0      0   \n",
       "\n",
       "       PAY_4  ...  BILL_AMT4  BILL_AMT5  BILL_AMT6  PAY_AMT1  PAY_AMT2  \\\n",
       "0          0  ...        0.0        0.0        0.0       0.0     689.0   \n",
       "1          0  ...     3272.0     3455.0     3261.0       0.0    1000.0   \n",
       "2          0  ...    14331.0    14948.0    15549.0    1518.0    1500.0   \n",
       "3          0  ...    28314.0    28959.0    29547.0    2000.0    2019.0   \n",
       "4          0  ...    20940.0    19146.0    19131.0    2000.0   36681.0   \n",
       "...      ...  ...        ...        ...        ...       ...       ...   \n",
       "29995      0  ...    88004.0    31237.0    15980.0    8500.0   20000.0   \n",
       "29996      0  ...     8979.0     5190.0        0.0    1837.0    3526.0   \n",
       "29997      0  ...    20878.0    20582.0    19357.0       0.0       0.0   \n",
       "29998      0  ...    52774.0    11855.0    48944.0   85900.0    3409.0   \n",
       "29999      0  ...    36535.0    32428.0    15313.0    2078.0    1800.0   \n",
       "\n",
       "       PAY_AMT3  PAY_AMT4  PAY_AMT5  PAY_AMT6  default_pay  \n",
       "0           0.0       0.0       0.0       0.0            1  \n",
       "1        1000.0    1000.0       0.0    2000.0            1  \n",
       "2        1000.0    1000.0    1000.0    5000.0            0  \n",
       "3        1200.0    1100.0    1069.0    1000.0            0  \n",
       "4       10000.0    9000.0     689.0     679.0            0  \n",
       "...         ...       ...       ...       ...          ...  \n",
       "29995    5003.0    3047.0    5000.0    1000.0            0  \n",
       "29996    8998.0     129.0       0.0       0.0            0  \n",
       "29997   22000.0    4200.0    2000.0    3100.0            1  \n",
       "29998    1178.0    1926.0   52964.0    1804.0            1  \n",
       "29999    1430.0    1000.0    1000.0    1000.0            1  \n",
       "\n",
       "[30000 rows x 25 columns]"
      ]
     },
     "execution_count": 60,
     "metadata": {},
     "output_type": "execute_result"
    }
   ],
   "source": [
    "data2"
   ]
  },
  {
   "cell_type": "code",
   "execution_count": 15,
   "metadata": {
    "scrolled": true
   },
   "outputs": [
    {
     "data": {
      "text/plain": [
       "BILL_AMT1    0\n",
       "BILL_AMT2    0\n",
       "BILL_AMT3    0\n",
       "BILL_AMT4    0\n",
       "BILL_AMT5    0\n",
       "BILL_AMT6    0\n",
       "dtype: int64"
      ]
     },
     "execution_count": 15,
     "metadata": {},
     "output_type": "execute_result"
    }
   ],
   "source": [
    "data2.iloc[:,12:18].isna().sum()"
   ]
  },
  {
   "cell_type": "code",
   "execution_count": 26,
   "metadata": {
    "scrolled": true
   },
   "outputs": [],
   "source": [
    "#data2['BILL_AMT1'].isna().value_counts()"
   ]
  },
  {
   "cell_type": "markdown",
   "metadata": {},
   "source": [
    "### Outlier Analysis"
   ]
  },
  {
   "cell_type": "code",
   "execution_count": 27,
   "metadata": {},
   "outputs": [],
   "source": [
    "data2 = data"
   ]
  },
  {
   "cell_type": "code",
   "execution_count": 28,
   "metadata": {},
   "outputs": [],
   "source": [
    "for i in lis:\n",
    "    data2.loc[:,i] = data2.loc[:,i].astype('object')"
   ]
  },
  {
   "cell_type": "code",
   "execution_count": 29,
   "metadata": {},
   "outputs": [
    {
     "name": "stdout",
     "output_type": "stream",
     "text": [
      "CPU times: user 66.7 ms, sys: 4.25 ms, total: 70.9 ms\n",
      "Wall time: 77.9 ms\n"
     ]
    },
    {
     "data": {
      "text/plain": [
       "{'whiskers': [<matplotlib.lines.Line2D at 0x1a1f7e0e90>,\n",
       "  <matplotlib.lines.Line2D at 0x1a1f7c5f90>],\n",
       " 'caps': [<matplotlib.lines.Line2D at 0x1a1f7f0950>,\n",
       "  <matplotlib.lines.Line2D at 0x1a1f7f0e50>],\n",
       " 'boxes': [<matplotlib.lines.Line2D at 0x1a1f7e0250>],\n",
       " 'medians': [<matplotlib.lines.Line2D at 0x1a1f7e0f50>],\n",
       " 'fliers': [<matplotlib.lines.Line2D at 0x1a1f7f78d0>],\n",
       " 'means': []}"
      ]
     },
     "execution_count": 29,
     "metadata": {},
     "output_type": "execute_result"
    },
    {
     "data": {
      "image/png": "[encoded data removed]",
      "text/plain": [
       "<Figure size 432x288 with 1 Axes>"
      ]
     },
     "metadata": {
      "needs_background": "light"
     },
     "output_type": "display_data"
    }
   ],
   "source": [
    "%%time\n",
    "%matplotlib inline \n",
    "plt.boxplot(data2['BILL_AMT1'])"
   ]
  },
  {
   "cell_type": "code",
   "execution_count": 30,
   "metadata": {},
   "outputs": [
    {
     "name": "stdout",
     "output_type": "stream",
     "text": [
      "CPU times: user 56.1 ms, sys: 4.72 ms, total: 60.9 ms\n",
      "Wall time: 63.6 ms\n"
     ]
    },
    {
     "data": {
      "text/plain": [
       "{'whiskers': [<matplotlib.lines.Line2D at 0x1a1f5dbc10>,\n",
       "  <matplotlib.lines.Line2D at 0x1a1f5cef50>],\n",
       " 'caps': [<matplotlib.lines.Line2D at 0x1a1f5e0710>,\n",
       "  <matplotlib.lines.Line2D at 0x1a1f5e0c10>],\n",
       " 'boxes': [<matplotlib.lines.Line2D at 0x1a1f5cef10>],\n",
       " 'medians': [<matplotlib.lines.Line2D at 0x1a1f5dbcd0>],\n",
       " 'fliers': [<matplotlib.lines.Line2D at 0x1a1f5e8690>],\n",
       " 'means': []}"
      ]
     },
     "execution_count": 30,
     "metadata": {},
     "output_type": "execute_result"
    },
    {
     "data": {
      "image/png": "[encoded data removed]",
      "text/plain": [
       "<Figure size 432x288 with 1 Axes>"
      ]
     },
     "metadata": {
      "needs_background": "light"
     },
     "output_type": "display_data"
    }
   ],
   "source": [
    "%%time\n",
    "%matplotlib inline \n",
    "plt.boxplot(data2['AGE'])"
   ]
  },
  {
   "cell_type": "markdown",
   "metadata": {},
   "source": [
    "### Replacing the outliers with nan"
   ]
  },
  {
   "cell_type": "code",
   "execution_count": 29,
   "metadata": {},
   "outputs": [],
   "source": [
    "# dataset = []\n",
    "# for i in lis:\n",
    "#     Q1 = data2[i].quantile(0.25)\n",
    "#     Q3 = data2[i].quantile(0.75)\n",
    "#     IQR = Q3 - Q1\n",
    "#     min = Q1 - (IQR*1.5)\n",
    "#     max = Q3 + (IQR*1.5)\n",
    "#     data2.loc[data2[i]<min1, ] =np.nan\n",
    "#     data2.loc[data2['LIMIT_BAL']>max1, 'LIMIT_BAL'] =np.nan\n",
    "# #     fil = ((data2[i] < min) & (data2[i] > max))\n",
    "# #     dataset.append(fil)\n",
    "# #     #data2[i][fil] = np.nan"
   ]
  },
  {
   "cell_type": "code",
   "execution_count": 31,
   "metadata": {},
   "outputs": [
    {
     "name": "stdout",
     "output_type": "stream",
     "text": [
      "LIMIT_BAL\n",
      "167\n",
      "AGE\n",
      "272\n",
      "BILL_AMT1\n",
      "2430\n",
      "BILL_AMT2\n",
      "2426\n",
      "BILL_AMT3\n",
      "2504\n",
      "BILL_AMT4\n",
      "2670\n",
      "BILL_AMT5\n",
      "2766\n",
      "BILL_AMT6\n",
      "2727\n",
      "PAY_AMT1\n",
      "2745\n",
      "PAY_AMT2\n",
      "2714\n",
      "PAY_AMT3\n",
      "2598\n",
      "PAY_AMT4\n",
      "2994\n",
      "PAY_AMT5\n",
      "2945\n",
      "PAY_AMT6\n",
      "2958\n",
      "default_pay\n",
      "6636\n"
     ]
    }
   ],
   "source": [
    "values = []\n",
    "for i in lis:\n",
    "    Q1 = data2[i].quantile(0.25)\n",
    "    Q3 = data2[i].quantile(0.75)\n",
    "    IQR = Q3 - Q1\n",
    "    min1 = Q1 - (IQR*1.5)\n",
    "    max1 = Q3 + (IQR*1.5)\n",
    "    values.append((min1, max1))\n",
    "    print(i) \n",
    "    print(((data2[i] < (Q1 - 1.5 * IQR)) | (data2[i] > (Q3 + 1.5 * IQR))).sum())"
   ]
  },
  {
   "cell_type": "code",
   "execution_count": 32,
   "metadata": {},
   "outputs": [
    {
     "data": {
      "text/plain": [
       "[(-235000.0, 525000.0),\n",
       " (8.5, 60.5),\n",
       " (-89447.75, 161014.25),\n",
       " (-86009.375, 154015.625),\n",
       " (-81154.0, 144956.0),\n",
       " (-73944.0, 131576.0),\n",
       " (-69196.375, 121822.625),\n",
       " (-69219.875, 120249.125),\n",
       " (-5009.0, 11015.0),\n",
       " (-5417.5, 11250.5),\n",
       " (-5782.5, 10677.5),\n",
       " (-5279.875, 9589.125),\n",
       " (-5416.0, 9700.0),\n",
       " (-5705.625, 9823.375),\n",
       " (0.0, 0.0)]"
      ]
     },
     "execution_count": 32,
     "metadata": {},
     "output_type": "execute_result"
    }
   ],
   "source": [
    "values"
   ]
  },
  {
   "cell_type": "code",
   "execution_count": 27,
   "metadata": {},
   "outputs": [
    {
     "data": {
      "text/html": [
       "<div>\n",
       "<style scoped>\n",
       "    .dataframe tbody tr th:only-of-type {\n",
       "        vertical-align: middle;\n",
       "    }\n",
       "\n",
       "    .dataframe tbody tr th {\n",
       "        vertical-align: top;\n",
       "    }\n",
       "\n",
       "    .dataframe thead th {\n",
       "        text-align: right;\n",
       "    }\n",
       "</style>\n",
       "<table border=\"1\" class=\"dataframe\">\n",
       "  <thead>\n",
       "    <tr style=\"text-align: right;\">\n",
       "      <th></th>\n",
       "      <th>ID</th>\n",
       "      <th>LIMIT_BAL</th>\n",
       "      <th>SEX</th>\n",
       "      <th>EDUCATION</th>\n",
       "      <th>MARRIAGE</th>\n",
       "      <th>AGE</th>\n",
       "      <th>PAY_1</th>\n",
       "      <th>PAY_2</th>\n",
       "      <th>PAY_3</th>\n",
       "      <th>PAY_4</th>\n",
       "      <th>...</th>\n",
       "      <th>BILL_AMT4</th>\n",
       "      <th>BILL_AMT5</th>\n",
       "      <th>BILL_AMT6</th>\n",
       "      <th>PAY_AMT1</th>\n",
       "      <th>PAY_AMT2</th>\n",
       "      <th>PAY_AMT3</th>\n",
       "      <th>PAY_AMT4</th>\n",
       "      <th>PAY_AMT5</th>\n",
       "      <th>PAY_AMT6</th>\n",
       "      <th>default_pay</th>\n",
       "    </tr>\n",
       "  </thead>\n",
       "  <tbody>\n",
       "    <tr>\n",
       "      <td>0</td>\n",
       "      <td>1</td>\n",
       "      <td>20000</td>\n",
       "      <td>2</td>\n",
       "      <td>2</td>\n",
       "      <td>1</td>\n",
       "      <td>24</td>\n",
       "      <td>2</td>\n",
       "      <td>2</td>\n",
       "      <td>0</td>\n",
       "      <td>0</td>\n",
       "      <td>...</td>\n",
       "      <td>0</td>\n",
       "      <td>0</td>\n",
       "      <td>0</td>\n",
       "      <td>0</td>\n",
       "      <td>689</td>\n",
       "      <td>0</td>\n",
       "      <td>0</td>\n",
       "      <td>0</td>\n",
       "      <td>0</td>\n",
       "      <td>1</td>\n",
       "    </tr>\n",
       "    <tr>\n",
       "      <td>1</td>\n",
       "      <td>2</td>\n",
       "      <td>120000</td>\n",
       "      <td>2</td>\n",
       "      <td>2</td>\n",
       "      <td>2</td>\n",
       "      <td>26</td>\n",
       "      <td>0</td>\n",
       "      <td>2</td>\n",
       "      <td>0</td>\n",
       "      <td>0</td>\n",
       "      <td>...</td>\n",
       "      <td>3272</td>\n",
       "      <td>3455</td>\n",
       "      <td>3261</td>\n",
       "      <td>0</td>\n",
       "      <td>1000</td>\n",
       "      <td>1000</td>\n",
       "      <td>1000</td>\n",
       "      <td>0</td>\n",
       "      <td>2000</td>\n",
       "      <td>1</td>\n",
       "    </tr>\n",
       "    <tr>\n",
       "      <td>2</td>\n",
       "      <td>3</td>\n",
       "      <td>90000</td>\n",
       "      <td>2</td>\n",
       "      <td>2</td>\n",
       "      <td>2</td>\n",
       "      <td>34</td>\n",
       "      <td>0</td>\n",
       "      <td>0</td>\n",
       "      <td>0</td>\n",
       "      <td>0</td>\n",
       "      <td>...</td>\n",
       "      <td>14331</td>\n",
       "      <td>14948</td>\n",
       "      <td>15549</td>\n",
       "      <td>1518</td>\n",
       "      <td>1500</td>\n",
       "      <td>1000</td>\n",
       "      <td>1000</td>\n",
       "      <td>1000</td>\n",
       "      <td>5000</td>\n",
       "      <td>0</td>\n",
       "    </tr>\n",
       "    <tr>\n",
       "      <td>3</td>\n",
       "      <td>4</td>\n",
       "      <td>50000</td>\n",
       "      <td>2</td>\n",
       "      <td>2</td>\n",
       "      <td>1</td>\n",
       "      <td>37</td>\n",
       "      <td>0</td>\n",
       "      <td>0</td>\n",
       "      <td>0</td>\n",
       "      <td>0</td>\n",
       "      <td>...</td>\n",
       "      <td>28314</td>\n",
       "      <td>28959</td>\n",
       "      <td>29547</td>\n",
       "      <td>2000</td>\n",
       "      <td>2019</td>\n",
       "      <td>1200</td>\n",
       "      <td>1100</td>\n",
       "      <td>1069</td>\n",
       "      <td>1000</td>\n",
       "      <td>0</td>\n",
       "    </tr>\n",
       "    <tr>\n",
       "      <td>4</td>\n",
       "      <td>5</td>\n",
       "      <td>50000</td>\n",
       "      <td>1</td>\n",
       "      <td>2</td>\n",
       "      <td>1</td>\n",
       "      <td>57</td>\n",
       "      <td>0</td>\n",
       "      <td>0</td>\n",
       "      <td>0</td>\n",
       "      <td>0</td>\n",
       "      <td>...</td>\n",
       "      <td>20940</td>\n",
       "      <td>19146</td>\n",
       "      <td>19131</td>\n",
       "      <td>2000</td>\n",
       "      <td>36681</td>\n",
       "      <td>10000</td>\n",
       "      <td>9000</td>\n",
       "      <td>689</td>\n",
       "      <td>679</td>\n",
       "      <td>0</td>\n",
       "    </tr>\n",
       "    <tr>\n",
       "      <td>...</td>\n",
       "      <td>...</td>\n",
       "      <td>...</td>\n",
       "      <td>...</td>\n",
       "      <td>...</td>\n",
       "      <td>...</td>\n",
       "      <td>...</td>\n",
       "      <td>...</td>\n",
       "      <td>...</td>\n",
       "      <td>...</td>\n",
       "      <td>...</td>\n",
       "      <td>...</td>\n",
       "      <td>...</td>\n",
       "      <td>...</td>\n",
       "      <td>...</td>\n",
       "      <td>...</td>\n",
       "      <td>...</td>\n",
       "      <td>...</td>\n",
       "      <td>...</td>\n",
       "      <td>...</td>\n",
       "      <td>...</td>\n",
       "      <td>...</td>\n",
       "    </tr>\n",
       "    <tr>\n",
       "      <td>29995</td>\n",
       "      <td>29996</td>\n",
       "      <td>220000</td>\n",
       "      <td>1</td>\n",
       "      <td>3</td>\n",
       "      <td>1</td>\n",
       "      <td>39</td>\n",
       "      <td>0</td>\n",
       "      <td>0</td>\n",
       "      <td>0</td>\n",
       "      <td>0</td>\n",
       "      <td>...</td>\n",
       "      <td>88004</td>\n",
       "      <td>31237</td>\n",
       "      <td>15980</td>\n",
       "      <td>8500</td>\n",
       "      <td>20000</td>\n",
       "      <td>5003</td>\n",
       "      <td>3047</td>\n",
       "      <td>5000</td>\n",
       "      <td>1000</td>\n",
       "      <td>0</td>\n",
       "    </tr>\n",
       "    <tr>\n",
       "      <td>29996</td>\n",
       "      <td>29997</td>\n",
       "      <td>150000</td>\n",
       "      <td>1</td>\n",
       "      <td>3</td>\n",
       "      <td>2</td>\n",
       "      <td>43</td>\n",
       "      <td>0</td>\n",
       "      <td>0</td>\n",
       "      <td>0</td>\n",
       "      <td>0</td>\n",
       "      <td>...</td>\n",
       "      <td>8979</td>\n",
       "      <td>5190</td>\n",
       "      <td>0</td>\n",
       "      <td>1837</td>\n",
       "      <td>3526</td>\n",
       "      <td>8998</td>\n",
       "      <td>129</td>\n",
       "      <td>0</td>\n",
       "      <td>0</td>\n",
       "      <td>0</td>\n",
       "    </tr>\n",
       "    <tr>\n",
       "      <td>29997</td>\n",
       "      <td>29998</td>\n",
       "      <td>30000</td>\n",
       "      <td>1</td>\n",
       "      <td>2</td>\n",
       "      <td>2</td>\n",
       "      <td>37</td>\n",
       "      <td>4</td>\n",
       "      <td>3</td>\n",
       "      <td>2</td>\n",
       "      <td>0</td>\n",
       "      <td>...</td>\n",
       "      <td>20878</td>\n",
       "      <td>20582</td>\n",
       "      <td>19357</td>\n",
       "      <td>0</td>\n",
       "      <td>0</td>\n",
       "      <td>22000</td>\n",
       "      <td>4200</td>\n",
       "      <td>2000</td>\n",
       "      <td>3100</td>\n",
       "      <td>1</td>\n",
       "    </tr>\n",
       "    <tr>\n",
       "      <td>29998</td>\n",
       "      <td>29999</td>\n",
       "      <td>80000</td>\n",
       "      <td>1</td>\n",
       "      <td>3</td>\n",
       "      <td>1</td>\n",
       "      <td>41</td>\n",
       "      <td>1</td>\n",
       "      <td>0</td>\n",
       "      <td>0</td>\n",
       "      <td>0</td>\n",
       "      <td>...</td>\n",
       "      <td>52774</td>\n",
       "      <td>11855</td>\n",
       "      <td>48944</td>\n",
       "      <td>85900</td>\n",
       "      <td>3409</td>\n",
       "      <td>1178</td>\n",
       "      <td>1926</td>\n",
       "      <td>52964</td>\n",
       "      <td>1804</td>\n",
       "      <td>1</td>\n",
       "    </tr>\n",
       "    <tr>\n",
       "      <td>29999</td>\n",
       "      <td>30000</td>\n",
       "      <td>50000</td>\n",
       "      <td>1</td>\n",
       "      <td>2</td>\n",
       "      <td>1</td>\n",
       "      <td>46</td>\n",
       "      <td>0</td>\n",
       "      <td>0</td>\n",
       "      <td>0</td>\n",
       "      <td>0</td>\n",
       "      <td>...</td>\n",
       "      <td>36535</td>\n",
       "      <td>32428</td>\n",
       "      <td>15313</td>\n",
       "      <td>2078</td>\n",
       "      <td>1800</td>\n",
       "      <td>1430</td>\n",
       "      <td>1000</td>\n",
       "      <td>1000</td>\n",
       "      <td>1000</td>\n",
       "      <td>1</td>\n",
       "    </tr>\n",
       "  </tbody>\n",
       "</table>\n",
       "<p>30000 rows × 25 columns</p>\n",
       "</div>"
      ],
      "text/plain": [
       "          ID LIMIT_BAL  SEX  EDUCATION  MARRIAGE AGE  PAY_1  PAY_2  PAY_3  \\\n",
       "0          1     20000    2          2         1  24      2      2      0   \n",
       "1          2    120000    2          2         2  26      0      2      0   \n",
       "2          3     90000    2          2         2  34      0      0      0   \n",
       "3          4     50000    2          2         1  37      0      0      0   \n",
       "4          5     50000    1          2         1  57      0      0      0   \n",
       "...      ...       ...  ...        ...       ...  ..    ...    ...    ...   \n",
       "29995  29996    220000    1          3         1  39      0      0      0   \n",
       "29996  29997    150000    1          3         2  43      0      0      0   \n",
       "29997  29998     30000    1          2         2  37      4      3      2   \n",
       "29998  29999     80000    1          3         1  41      1      0      0   \n",
       "29999  30000     50000    1          2         1  46      0      0      0   \n",
       "\n",
       "       PAY_4  ...  BILL_AMT4  BILL_AMT5 BILL_AMT6 PAY_AMT1 PAY_AMT2 PAY_AMT3  \\\n",
       "0          0  ...          0          0         0        0      689        0   \n",
       "1          0  ...       3272       3455      3261        0     1000     1000   \n",
       "2          0  ...      14331      14948     15549     1518     1500     1000   \n",
       "3          0  ...      28314      28959     29547     2000     2019     1200   \n",
       "4          0  ...      20940      19146     19131     2000    36681    10000   \n",
       "...      ...  ...        ...        ...       ...      ...      ...      ...   \n",
       "29995      0  ...      88004      31237     15980     8500    20000     5003   \n",
       "29996      0  ...       8979       5190         0     1837     3526     8998   \n",
       "29997      0  ...      20878      20582     19357        0        0    22000   \n",
       "29998      0  ...      52774      11855     48944    85900     3409     1178   \n",
       "29999      0  ...      36535      32428     15313     2078     1800     1430   \n",
       "\n",
       "      PAY_AMT4 PAY_AMT5 PAY_AMT6 default_pay  \n",
       "0            0        0        0           1  \n",
       "1         1000        0     2000           1  \n",
       "2         1000     1000     5000           0  \n",
       "3         1100     1069     1000           0  \n",
       "4         9000      689      679           0  \n",
       "...        ...      ...      ...         ...  \n",
       "29995     3047     5000     1000           0  \n",
       "29996      129        0        0           0  \n",
       "29997     4200     2000     3100           1  \n",
       "29998     1926    52964     1804           1  \n",
       "29999     1000     1000     1000           1  \n",
       "\n",
       "[30000 rows x 25 columns]"
      ]
     },
     "execution_count": 27,
     "metadata": {},
     "output_type": "execute_result"
    }
   ],
   "source": [
    "data2"
   ]
  },
  {
   "cell_type": "code",
   "execution_count": 28,
   "metadata": {},
   "outputs": [],
   "source": [
    "df_outliers = pd.DataFrame(values) "
   ]
  },
  {
   "cell_type": "code",
   "execution_count": 29,
   "metadata": {},
   "outputs": [],
   "source": [
    "outlier_list = pd.DataFrame(values, columns = ['min1' , 'max1']) "
   ]
  },
  {
   "cell_type": "code",
   "execution_count": 55,
   "metadata": {},
   "outputs": [
    {
     "data": {
      "text/plain": [
       "min1    float64\n",
       "max1    float64\n",
       "dtype: object"
      ]
     },
     "execution_count": 55,
     "metadata": {},
     "output_type": "execute_result"
    }
   ],
   "source": [
    "outlier_list.dtypes"
   ]
  },
  {
   "cell_type": "code",
   "execution_count": 30,
   "metadata": {},
   "outputs": [
    {
     "data": {
      "text/html": [
       "<div>\n",
       "<style scoped>\n",
       "    .dataframe tbody tr th:only-of-type {\n",
       "        vertical-align: middle;\n",
       "    }\n",
       "\n",
       "    .dataframe tbody tr th {\n",
       "        vertical-align: top;\n",
       "    }\n",
       "\n",
       "    .dataframe thead th {\n",
       "        text-align: right;\n",
       "    }\n",
       "</style>\n",
       "<table border=\"1\" class=\"dataframe\">\n",
       "  <thead>\n",
       "    <tr style=\"text-align: right;\">\n",
       "      <th></th>\n",
       "      <th>min1</th>\n",
       "      <th>max1</th>\n",
       "    </tr>\n",
       "  </thead>\n",
       "  <tbody>\n",
       "    <tr>\n",
       "      <td>0</td>\n",
       "      <td>-235000.000</td>\n",
       "      <td>525000.000</td>\n",
       "    </tr>\n",
       "    <tr>\n",
       "      <td>1</td>\n",
       "      <td>8.500</td>\n",
       "      <td>60.500</td>\n",
       "    </tr>\n",
       "    <tr>\n",
       "      <td>2</td>\n",
       "      <td>-91739.625</td>\n",
       "      <td>162389.375</td>\n",
       "    </tr>\n",
       "    <tr>\n",
       "      <td>3</td>\n",
       "      <td>-88547.500</td>\n",
       "      <td>155538.500</td>\n",
       "    </tr>\n",
       "    <tr>\n",
       "      <td>4</td>\n",
       "      <td>-83581.500</td>\n",
       "      <td>146412.500</td>\n",
       "    </tr>\n",
       "    <tr>\n",
       "      <td>5</td>\n",
       "      <td>-75942.125</td>\n",
       "      <td>132774.875</td>\n",
       "    </tr>\n",
       "    <tr>\n",
       "      <td>6</td>\n",
       "      <td>-70878.250</td>\n",
       "      <td>122831.750</td>\n",
       "    </tr>\n",
       "    <tr>\n",
       "      <td>7</td>\n",
       "      <td>-70657.375</td>\n",
       "      <td>121111.625</td>\n",
       "    </tr>\n",
       "    <tr>\n",
       "      <td>8</td>\n",
       "      <td>-5009.000</td>\n",
       "      <td>11015.000</td>\n",
       "    </tr>\n",
       "    <tr>\n",
       "      <td>9</td>\n",
       "      <td>-5417.500</td>\n",
       "      <td>11250.500</td>\n",
       "    </tr>\n",
       "    <tr>\n",
       "      <td>10</td>\n",
       "      <td>-5782.500</td>\n",
       "      <td>10677.500</td>\n",
       "    </tr>\n",
       "    <tr>\n",
       "      <td>11</td>\n",
       "      <td>-5279.875</td>\n",
       "      <td>9589.125</td>\n",
       "    </tr>\n",
       "    <tr>\n",
       "      <td>12</td>\n",
       "      <td>-5416.000</td>\n",
       "      <td>9700.000</td>\n",
       "    </tr>\n",
       "    <tr>\n",
       "      <td>13</td>\n",
       "      <td>-5705.625</td>\n",
       "      <td>9823.375</td>\n",
       "    </tr>\n",
       "    <tr>\n",
       "      <td>14</td>\n",
       "      <td>0.000</td>\n",
       "      <td>0.000</td>\n",
       "    </tr>\n",
       "  </tbody>\n",
       "</table>\n",
       "</div>"
      ],
      "text/plain": [
       "          min1        max1\n",
       "0  -235000.000  525000.000\n",
       "1        8.500      60.500\n",
       "2   -91739.625  162389.375\n",
       "3   -88547.500  155538.500\n",
       "4   -83581.500  146412.500\n",
       "5   -75942.125  132774.875\n",
       "6   -70878.250  122831.750\n",
       "7   -70657.375  121111.625\n",
       "8    -5009.000   11015.000\n",
       "9    -5417.500   11250.500\n",
       "10   -5782.500   10677.500\n",
       "11   -5279.875    9589.125\n",
       "12   -5416.000    9700.000\n",
       "13   -5705.625    9823.375\n",
       "14       0.000       0.000"
      ]
     },
     "execution_count": 30,
     "metadata": {},
     "output_type": "execute_result"
    }
   ],
   "source": [
    "outlier_list"
   ]
  },
  {
   "cell_type": "code",
   "execution_count": 33,
   "metadata": {},
   "outputs": [],
   "source": [
    "Q1 = data2['LIMIT_BAL'].quantile(0.25)\n",
    "Q3 = data2['LIMIT_BAL'].quantile(0.75)\n",
    "IQR = Q3 - Q1\n",
    "min1 = Q1 - (IQR*1.5)\n",
    "max1 = Q3 + (IQR*1.5)\n",
    "data2.loc[data2['LIMIT_BAL']<min1, 'LIMIT_BAL'] =np.nan\n",
    "data2.loc[data2['LIMIT_BAL']>max1, 'LIMIT_BAL'] =np.nan"
   ]
  },
  {
   "cell_type": "code",
   "execution_count": 34,
   "metadata": {},
   "outputs": [],
   "source": [
    "Q1 = data2['AGE'].quantile(0.25)\n",
    "Q3 = data2['AGE'].quantile(0.75)\n",
    "IQR = Q3 - Q1\n",
    "min1 = Q1 - (IQR*1.5)\n",
    "max1 = Q3 + (IQR*1.5)\n",
    "data2.loc[data2['AGE']<min1, 'AGE'] =np.nan\n",
    "data2.loc[data2['AGE']>max1, 'AGE'] =np.nan"
   ]
  },
  {
   "cell_type": "code",
   "execution_count": 35,
   "metadata": {},
   "outputs": [],
   "source": [
    "Q1 = data2['BILL_AMT1'].quantile(0.25)\n",
    "Q3 = data2['BILL_AMT1'].quantile(0.75)\n",
    "IQR = Q3 - Q1\n",
    "min1 = Q1 - (IQR*1.5)\n",
    "max1 = Q3 + (IQR*1.5)\n",
    "data2.loc[data2['BILL_AMT1']<min1, 'BILL_AMT1'] =np.nan\n",
    "data2.loc[data2['BILL_AMT1']>max1, 'BILL_AMT1'] =np.nan"
   ]
  },
  {
   "cell_type": "code",
   "execution_count": 36,
   "metadata": {},
   "outputs": [],
   "source": [
    "Q1 = data2['BILL_AMT2'].quantile(0.25)\n",
    "Q3 = data2['BILL_AMT2'].quantile(0.75)\n",
    "IQR = Q3 - Q1\n",
    "min1 = Q1 - (IQR*1.5)\n",
    "max1 = Q3 + (IQR*1.5)\n",
    "data2.loc[data2['BILL_AMT2']<min1, 'BILL_AMT2'] =np.nan\n",
    "data2.loc[data2['BILL_AMT2']>max1, 'BILL_AMT2'] =np.nan"
   ]
  },
  {
   "cell_type": "code",
   "execution_count": 37,
   "metadata": {},
   "outputs": [],
   "source": [
    "Q1 = data2['BILL_AMT3'].quantile(0.25)\n",
    "Q3 = data2['BILL_AMT3'].quantile(0.75)\n",
    "IQR = Q3 - Q1\n",
    "min1 = Q1 - (IQR*1.5)\n",
    "max1 = Q3 + (IQR*1.5)\n",
    "data2.loc[data2['BILL_AMT3']<min1, 'BILL_AMT3'] =np.nan\n",
    "data2.loc[data2['BILL_AMT3']>max1, 'BILL_AMT3'] =np.nan"
   ]
  },
  {
   "cell_type": "code",
   "execution_count": 38,
   "metadata": {},
   "outputs": [],
   "source": [
    "Q1 = data2['BILL_AMT4'].quantile(0.25)\n",
    "Q3 = data2['BILL_AMT4'].quantile(0.75)\n",
    "IQR = Q3 - Q1\n",
    "min1 = Q1 - (IQR*1.5)\n",
    "max1 = Q3 + (IQR*1.5)\n",
    "data2.loc[data2['BILL_AMT4']<min1, 'BILL_AMT4'] =np.nan\n",
    "data2.loc[data2['BILL_AMT4']>max1, 'BILL_AMT4'] =np.nan"
   ]
  },
  {
   "cell_type": "code",
   "execution_count": 39,
   "metadata": {},
   "outputs": [],
   "source": [
    "Q1 = data2['BILL_AMT5'].quantile(0.25)\n",
    "Q3 = data2['BILL_AMT5'].quantile(0.75)\n",
    "IQR = Q3 - Q1\n",
    "min1 = Q1 - (IQR*1.5)\n",
    "max1 = Q3 + (IQR*1.5)\n",
    "data2.loc[data2['BILL_AMT5']<min1, 'BILL_AMT5'] =np.nan\n",
    "data2.loc[data2['BILL_AMT5']>max1, 'BILL_AMT5'] =np.nan"
   ]
  },
  {
   "cell_type": "code",
   "execution_count": 40,
   "metadata": {},
   "outputs": [],
   "source": [
    "Q1 = data2['BILL_AMT6'].quantile(0.25)\n",
    "Q3 = data2['BILL_AMT6'].quantile(0.75)\n",
    "IQR = Q3 - Q1\n",
    "min1 = Q1 - (IQR*1.5)\n",
    "max1 = Q3 + (IQR*1.5)\n",
    "data2.loc[data2['BILL_AMT6']<min1, 'BILL_AMT6'] =np.nan\n",
    "data2.loc[data2['BILL_AMT6']>max1, 'BILL_AMT6'] =np.nan"
   ]
  },
  {
   "cell_type": "code",
   "execution_count": 41,
   "metadata": {},
   "outputs": [],
   "source": [
    "Q1 = data2['PAY_AMT1'].quantile(0.25)\n",
    "Q3 = data2['PAY_AMT1'].quantile(0.75)\n",
    "IQR = Q3 - Q1\n",
    "min1 = Q1 - (IQR*1.5)\n",
    "max1 = Q3 + (IQR*1.5)\n",
    "data2.loc[data2['PAY_AMT1']<min1, 'PAY_AMT1'] =np.nan\n",
    "data2.loc[data2['PAY_AMT1']>max1, 'PAY_AMT1'] =np.nan"
   ]
  },
  {
   "cell_type": "code",
   "execution_count": 42,
   "metadata": {},
   "outputs": [],
   "source": [
    "Q1 = data2['PAY_AMT2'].quantile(0.25)\n",
    "Q3 = data2['PAY_AMT2'].quantile(0.75)\n",
    "IQR = Q3 - Q1\n",
    "min1 = Q1 - (IQR*1.5)\n",
    "max1 = Q3 + (IQR*1.5)\n",
    "data2.loc[data2['PAY_AMT2']<min1, 'PAY_AMT2'] =np.nan\n",
    "data2.loc[data2['PAY_AMT2']>max1, 'PAY_AMT2'] =np.nan"
   ]
  },
  {
   "cell_type": "code",
   "execution_count": 43,
   "metadata": {},
   "outputs": [],
   "source": [
    "Q1 = data2['PAY_AMT3'].quantile(0.25)\n",
    "Q3 = data2['PAY_AMT3'].quantile(0.75)\n",
    "IQR = Q3 - Q1\n",
    "min1 = Q1 - (IQR*1.5)\n",
    "max1 = Q3 + (IQR*1.5)\n",
    "data2.loc[data2['PAY_AMT3']<min1, 'PAY_AMT3'] =np.nan\n",
    "data2.loc[data2['PAY_AMT3']>max1, 'PAY_AMT3'] =np.nan"
   ]
  },
  {
   "cell_type": "code",
   "execution_count": 44,
   "metadata": {},
   "outputs": [],
   "source": [
    "Q1 = data2['PAY_AMT4'].quantile(0.25)\n",
    "Q3 = data2['PAY_AMT4'].quantile(0.75)\n",
    "IQR = Q3 - Q1\n",
    "min1 = Q1 - (IQR*1.5)\n",
    "max1 = Q3 + (IQR*1.5)\n",
    "data2.loc[data2['PAY_AMT4']<min1, 'PAY_AMT4'] =np.nan\n",
    "data2.loc[data2['PAY_AMT4']>max1, 'PAY_AMT4'] =np.nan"
   ]
  },
  {
   "cell_type": "code",
   "execution_count": 45,
   "metadata": {},
   "outputs": [],
   "source": [
    "Q1 = data2['PAY_AMT5'].quantile(0.25)\n",
    "Q3 = data2['PAY_AMT5'].quantile(0.75)\n",
    "IQR = Q3 - Q1\n",
    "min1 = Q1 - (IQR*1.5)\n",
    "max1 = Q3 + (IQR*1.5)\n",
    "data2.loc[data2['PAY_AMT5']<min1, 'PAY_AMT5'] =np.nan\n",
    "data2.loc[data2['PAY_AMT5']>max1, 'PAY_AMT5'] =np.nan"
   ]
  },
  {
   "cell_type": "code",
   "execution_count": 46,
   "metadata": {},
   "outputs": [],
   "source": [
    "Q1 = data2['PAY_AMT6'].quantile(0.25)\n",
    "Q3 = data2['PAY_AMT6'].quantile(0.75)\n",
    "IQR = Q3 - Q1\n",
    "min1 = Q1 - (IQR*1.5)\n",
    "max1 = Q3 + (IQR*1.5)\n",
    "data2.loc[data2['PAY_AMT6']<min1, 'PAY_AMT6'] =np.nan\n",
    "data2.loc[data2['PAY_AMT6']>max1, 'PAY_AMT6'] =np.nan"
   ]
  },
  {
   "cell_type": "markdown",
   "metadata": {},
   "source": [
    "we didn't replce the outliers with means directly as the outliers will affect the mean. Now replacing the null values with mean."
   ]
  },
  {
   "cell_type": "code",
   "execution_count": 47,
   "metadata": {},
   "outputs": [
    {
     "data": {
      "text/plain": [
       "BILL_AMT1    2430\n",
       "BILL_AMT2    2426\n",
       "BILL_AMT3    2504\n",
       "BILL_AMT4    2670\n",
       "BILL_AMT5    2766\n",
       "BILL_AMT6    2727\n",
       "dtype: int64"
      ]
     },
     "execution_count": 47,
     "metadata": {},
     "output_type": "execute_result"
    }
   ],
   "source": [
    "data2.iloc[:,12:18 ].isna().sum()"
   ]
  },
  {
   "cell_type": "code",
   "execution_count": 48,
   "metadata": {},
   "outputs": [],
   "source": [
    "data2['LIMIT_BAL'] = data2['LIMIT_BAL'].fillna(data2['LIMIT_BAL'].mean())\n",
    "data2['AGE'] = data2['AGE'].fillna(data2['AGE'].mean())\n",
    "data2['BILL_AMT1'] = data2['BILL_AMT1'].fillna(data2['BILL_AMT1'].mean())\n",
    "data2['BILL_AMT2'] = data2['BILL_AMT2'].fillna(data2['BILL_AMT2'].mean())\n",
    "data2['BILL_AMT3'] = data2['BILL_AMT3'].fillna(data2['BILL_AMT3'].mean())\n",
    "data2['BILL_AMT4'] = data2['BILL_AMT4'].fillna(data2['BILL_AMT4'].mean())\n",
    "data2['BILL_AMT5'] = data2['BILL_AMT5'].fillna(data2['BILL_AMT5'].mean())\n",
    "data2['BILL_AMT6'] = data2['BILL_AMT6'].fillna(data2['BILL_AMT6'].mean())\n",
    "\n",
    "data2['PAY_AMT1'] = data2['PAY_AMT1'].fillna(data2['PAY_AMT1'].mean())\n",
    "data2['PAY_AMT2'] = data2['PAY_AMT2'].fillna(data2['PAY_AMT2'].mean())\n",
    "data2['PAY_AMT3'] = data2['PAY_AMT3'].fillna(data2['PAY_AMT3'].mean())\n",
    "data2['PAY_AMT4'] = data2['PAY_AMT4'].fillna(data2['PAY_AMT4'].mean())\n",
    "data2['PAY_AMT5'] = data2['PAY_AMT5'].fillna(data2['PAY_AMT5'].mean())\n",
    "data2['PAY_AMT6'] = data2['PAY_AMT6'].fillna(data2['PAY_AMT6'].mean())"
   ]
  },
  {
   "cell_type": "markdown",
   "metadata": {},
   "source": [
    "### Feature Selection (Correlation Analysis)"
   ]
  },
  {
   "cell_type": "code",
   "execution_count": 49,
   "metadata": {},
   "outputs": [
    {
     "data": {
      "text/plain": [
       "Index(['ID', 'LIMIT_BAL', 'SEX', 'EDUCATION', 'MARRIAGE', 'AGE', 'PAY_1',\n",
       "       'PAY_2', 'PAY_3', 'PAY_4', 'PAY_5', 'PAY_6', 'BILL_AMT1', 'BILL_AMT2',\n",
       "       'BILL_AMT3', 'BILL_AMT4', 'BILL_AMT5', 'BILL_AMT6', 'PAY_AMT1',\n",
       "       'PAY_AMT2', 'PAY_AMT3', 'PAY_AMT4', 'PAY_AMT5', 'PAY_AMT6',\n",
       "       'default_pay'],\n",
       "      dtype='object')"
      ]
     },
     "execution_count": 49,
     "metadata": {},
     "output_type": "execute_result"
    }
   ],
   "source": [
    "data2.columns"
   ]
  },
  {
   "cell_type": "code",
   "execution_count": 50,
   "metadata": {},
   "outputs": [
    {
     "data": {
      "image/png": "[encoded data removed]",
      "text/plain": [
       "<Figure size 1080x720 with 2 Axes>"
      ]
     },
     "metadata": {
      "needs_background": "light"
     },
     "output_type": "display_data"
    }
   ],
   "source": [
    "def correlation_matrix(df):\n",
    "    from matplotlib import pyplot as plt\n",
    "    from matplotlib import cm as cm\n",
    "\n",
    "    fig = plt.figure(figsize=(15,10))\n",
    "    ax1 = fig.add_subplot(111)\n",
    "    cmap = cm.get_cmap('jet', 30)\n",
    "    cax = ax1.imshow(df.corr(),interpolation=\"nearest\", cmap=cmap)\n",
    "    ax1.grid(True)\n",
    "    plt.title('Feature Correlation')\n",
    "    labels=['ID', 'LIMIT_BAL', 'SEX', 'EDUCATION', 'MARRIAGE', 'AGE', 'PAY_1',\n",
    "       'PAY_2', 'PAY_3', 'PAY_4', 'PAY_5', 'PAY_6', 'BILL_AMT1', 'BILL_AMT2',\n",
    "       'BILL_AMT3', 'BILL_AMT4', 'BILL_AMT5', 'BILL_AMT6', 'PAY_AMT1',\n",
    "       'PAY_AMT2', 'PAY_AMT3', 'PAY_AMT4', 'PAY_AMT5', 'PAY_AMT6',\n",
    "       'default_pay']\n",
    "    ax1.set_yticklabels(labels)\n",
    "    ax1.set_xticklabels(labels)\n",
    "    #ax1.set_xticklabels(labels,fontsize=10)\n",
    "    #ax1.set_yticklabels(labels,fontsize=10)\n",
    "    # Add colorbar, make sure to specify tick locations to match desired ticklabels\n",
    "    fig.colorbar(cax, ticks=[.70,.75,.8,.85,.90,.95,1])\n",
    "    plt.show()\n",
    "\n",
    "correlation_matrix(data2)"
   ]
  },
  {
   "cell_type": "code",
   "execution_count": 51,
   "metadata": {},
   "outputs": [
    {
     "data": {
      "text/plain": [
       "<matplotlib.axes._subplots.AxesSubplot at 0x1a1fcb2b90>"
      ]
     },
     "execution_count": 51,
     "metadata": {},
     "output_type": "execute_result"
    },
    {
     "data": {
      "image/png": "[encoded data removed]",
      "text/plain": [
       "<Figure size 1080x720 with 2 Axes>"
      ]
     },
     "metadata": {
      "needs_background": "light"
     },
     "output_type": "display_data"
    }
   ],
   "source": [
    "corrmat = data2.corr() \n",
    "\n",
    "f, ax = plt.subplots(figsize =(15, 10)) \n",
    "sns.heatmap(corrmat, ax = ax, cmap =\"YlGnBu\", linewidths = 0.1) "
   ]
  },
  {
   "cell_type": "code",
   "execution_count": 53,
   "metadata": {},
   "outputs": [],
   "source": [
    "def correlation(Col1, Col2):\n",
    "    res = data2.groupby([Col1, Col2]).size().unstack()\n",
    "    res['perc'] = (res[res.columns[1]]/(res[res.columns[0]] + res[res.columns[1]]))\n",
    "    return res"
   ]
  },
  {
   "cell_type": "code",
   "execution_count": 54,
   "metadata": {},
   "outputs": [
    {
     "data": {
      "text/html": [
       "<div>\n",
       "<style scoped>\n",
       "    .dataframe tbody tr th:only-of-type {\n",
       "        vertical-align: middle;\n",
       "    }\n",
       "\n",
       "    .dataframe tbody tr th {\n",
       "        vertical-align: top;\n",
       "    }\n",
       "\n",
       "    .dataframe thead th {\n",
       "        text-align: right;\n",
       "    }\n",
       "</style>\n",
       "<table border=\"1\" class=\"dataframe\">\n",
       "  <thead>\n",
       "    <tr style=\"text-align: right;\">\n",
       "      <th>default_pay</th>\n",
       "      <th>0</th>\n",
       "      <th>1</th>\n",
       "      <th>perc</th>\n",
       "    </tr>\n",
       "    <tr>\n",
       "      <th>EDUCATION</th>\n",
       "      <th></th>\n",
       "      <th></th>\n",
       "      <th></th>\n",
       "    </tr>\n",
       "  </thead>\n",
       "  <tbody>\n",
       "    <tr>\n",
       "      <td>1</td>\n",
       "      <td>8549</td>\n",
       "      <td>2036</td>\n",
       "      <td>0.192348</td>\n",
       "    </tr>\n",
       "    <tr>\n",
       "      <td>2</td>\n",
       "      <td>10700</td>\n",
       "      <td>3330</td>\n",
       "      <td>0.237349</td>\n",
       "    </tr>\n",
       "    <tr>\n",
       "      <td>3</td>\n",
       "      <td>3680</td>\n",
       "      <td>1237</td>\n",
       "      <td>0.251576</td>\n",
       "    </tr>\n",
       "    <tr>\n",
       "      <td>4</td>\n",
       "      <td>435</td>\n",
       "      <td>33</td>\n",
       "      <td>0.070513</td>\n",
       "    </tr>\n",
       "  </tbody>\n",
       "</table>\n",
       "</div>"
      ],
      "text/plain": [
       "default_pay      0     1      perc\n",
       "EDUCATION                         \n",
       "1             8549  2036  0.192348\n",
       "2            10700  3330  0.237349\n",
       "3             3680  1237  0.251576\n",
       "4              435    33  0.070513"
      ]
     },
     "execution_count": 54,
     "metadata": {},
     "output_type": "execute_result"
    }
   ],
   "source": [
    "correlation('EDUCATION', 'default_pay')\n",
    "#Higher the education lower is the probability of defaulting "
   ]
  },
  {
   "cell_type": "code",
   "execution_count": 68,
   "metadata": {},
   "outputs": [
    {
     "data": {
      "text/html": [
       "<div>\n",
       "<style scoped>\n",
       "    .dataframe tbody tr th:only-of-type {\n",
       "        vertical-align: middle;\n",
       "    }\n",
       "\n",
       "    .dataframe tbody tr th {\n",
       "        vertical-align: top;\n",
       "    }\n",
       "\n",
       "    .dataframe thead th {\n",
       "        text-align: right;\n",
       "    }\n",
       "</style>\n",
       "<table border=\"1\" class=\"dataframe\">\n",
       "  <thead>\n",
       "    <tr style=\"text-align: right;\">\n",
       "      <th>default_pay</th>\n",
       "      <th>0</th>\n",
       "      <th>1</th>\n",
       "      <th>perc</th>\n",
       "    </tr>\n",
       "    <tr>\n",
       "      <th>MARRIAGE</th>\n",
       "      <th></th>\n",
       "      <th></th>\n",
       "      <th></th>\n",
       "    </tr>\n",
       "  </thead>\n",
       "  <tbody>\n",
       "    <tr>\n",
       "      <td>1</td>\n",
       "      <td>10453</td>\n",
       "      <td>3206</td>\n",
       "      <td>0.234717</td>\n",
       "    </tr>\n",
       "    <tr>\n",
       "      <td>2</td>\n",
       "      <td>12623</td>\n",
       "      <td>3341</td>\n",
       "      <td>0.209283</td>\n",
       "    </tr>\n",
       "    <tr>\n",
       "      <td>3</td>\n",
       "      <td>288</td>\n",
       "      <td>89</td>\n",
       "      <td>0.236074</td>\n",
       "    </tr>\n",
       "  </tbody>\n",
       "</table>\n",
       "</div>"
      ],
      "text/plain": [
       "default_pay      0     1      perc\n",
       "MARRIAGE                          \n",
       "1            10453  3206  0.234717\n",
       "2            12623  3341  0.209283\n",
       "3              288    89  0.236074"
      ]
     },
     "execution_count": 68,
     "metadata": {},
     "output_type": "execute_result"
    }
   ],
   "source": [
    "correlation('MARRIAGE', 'default_pay')\n",
    "#married people and other are most likey gonna default"
   ]
  },
  {
   "cell_type": "code",
   "execution_count": 69,
   "metadata": {},
   "outputs": [
    {
     "data": {
      "text/html": [
       "<div>\n",
       "<style scoped>\n",
       "    .dataframe tbody tr th:only-of-type {\n",
       "        vertical-align: middle;\n",
       "    }\n",
       "\n",
       "    .dataframe tbody tr th {\n",
       "        vertical-align: top;\n",
       "    }\n",
       "\n",
       "    .dataframe thead th {\n",
       "        text-align: right;\n",
       "    }\n",
       "</style>\n",
       "<table border=\"1\" class=\"dataframe\">\n",
       "  <thead>\n",
       "    <tr style=\"text-align: right;\">\n",
       "      <th>SEX</th>\n",
       "      <th>1</th>\n",
       "      <th>2</th>\n",
       "      <th>perc</th>\n",
       "    </tr>\n",
       "    <tr>\n",
       "      <th>EDUCATION</th>\n",
       "      <th></th>\n",
       "      <th></th>\n",
       "      <th></th>\n",
       "    </tr>\n",
       "  </thead>\n",
       "  <tbody>\n",
       "    <tr>\n",
       "      <td>1</td>\n",
       "      <td>4354</td>\n",
       "      <td>6231</td>\n",
       "      <td>0.588663</td>\n",
       "    </tr>\n",
       "    <tr>\n",
       "      <td>2</td>\n",
       "      <td>5374</td>\n",
       "      <td>8656</td>\n",
       "      <td>0.616964</td>\n",
       "    </tr>\n",
       "    <tr>\n",
       "      <td>3</td>\n",
       "      <td>1990</td>\n",
       "      <td>2927</td>\n",
       "      <td>0.595282</td>\n",
       "    </tr>\n",
       "    <tr>\n",
       "      <td>4</td>\n",
       "      <td>170</td>\n",
       "      <td>298</td>\n",
       "      <td>0.636752</td>\n",
       "    </tr>\n",
       "  </tbody>\n",
       "</table>\n",
       "</div>"
      ],
      "text/plain": [
       "SEX           1     2      perc\n",
       "EDUCATION                      \n",
       "1          4354  6231  0.588663\n",
       "2          5374  8656  0.616964\n",
       "3          1990  2927  0.595282\n",
       "4           170   298  0.636752"
      ]
     },
     "execution_count": 69,
     "metadata": {},
     "output_type": "execute_result"
    }
   ],
   "source": [
    "correlation('EDUCATION', 'SEX')"
   ]
  },
  {
   "cell_type": "code",
   "execution_count": 70,
   "metadata": {},
   "outputs": [
    {
     "data": {
      "text/html": [
       "<div>\n",
       "<style scoped>\n",
       "    .dataframe tbody tr th:only-of-type {\n",
       "        vertical-align: middle;\n",
       "    }\n",
       "\n",
       "    .dataframe tbody tr th {\n",
       "        vertical-align: top;\n",
       "    }\n",
       "\n",
       "    .dataframe thead th {\n",
       "        text-align: right;\n",
       "    }\n",
       "</style>\n",
       "<table border=\"1\" class=\"dataframe\">\n",
       "  <thead>\n",
       "    <tr style=\"text-align: right;\">\n",
       "      <th></th>\n",
       "      <th>BILL_AMT2</th>\n",
       "      <th>PAY_AMT1</th>\n",
       "      <th>default_pay</th>\n",
       "    </tr>\n",
       "  </thead>\n",
       "  <tbody>\n",
       "    <tr>\n",
       "      <td>24810</td>\n",
       "      <td>390.0</td>\n",
       "      <td>390.000000</td>\n",
       "      <td>1</td>\n",
       "    </tr>\n",
       "    <tr>\n",
       "      <td>25006</td>\n",
       "      <td>46868.0</td>\n",
       "      <td>0.000000</td>\n",
       "      <td>1</td>\n",
       "    </tr>\n",
       "    <tr>\n",
       "      <td>9892</td>\n",
       "      <td>140013.0</td>\n",
       "      <td>2739.524821</td>\n",
       "      <td>1</td>\n",
       "    </tr>\n",
       "    <tr>\n",
       "      <td>27823</td>\n",
       "      <td>79062.0</td>\n",
       "      <td>15.000000</td>\n",
       "      <td>1</td>\n",
       "    </tr>\n",
       "    <tr>\n",
       "      <td>2530</td>\n",
       "      <td>390.0</td>\n",
       "      <td>390.000000</td>\n",
       "      <td>1</td>\n",
       "    </tr>\n",
       "    <tr>\n",
       "      <td>17812</td>\n",
       "      <td>6571.0</td>\n",
       "      <td>0.000000</td>\n",
       "      <td>1</td>\n",
       "    </tr>\n",
       "    <tr>\n",
       "      <td>19091</td>\n",
       "      <td>42816.0</td>\n",
       "      <td>4600.000000</td>\n",
       "      <td>1</td>\n",
       "    </tr>\n",
       "    <tr>\n",
       "      <td>25312</td>\n",
       "      <td>100190.0</td>\n",
       "      <td>5000.000000</td>\n",
       "      <td>1</td>\n",
       "    </tr>\n",
       "    <tr>\n",
       "      <td>25652</td>\n",
       "      <td>17770.0</td>\n",
       "      <td>1558.000000</td>\n",
       "      <td>1</td>\n",
       "    </tr>\n",
       "    <tr>\n",
       "      <td>5075</td>\n",
       "      <td>21187.0</td>\n",
       "      <td>0.000000</td>\n",
       "      <td>1</td>\n",
       "    </tr>\n",
       "  </tbody>\n",
       "</table>\n",
       "</div>"
      ],
      "text/plain": [
       "       BILL_AMT2     PAY_AMT1 default_pay\n",
       "24810      390.0   390.000000           1\n",
       "25006    46868.0     0.000000           1\n",
       "9892    140013.0  2739.524821           1\n",
       "27823    79062.0    15.000000           1\n",
       "2530       390.0   390.000000           1\n",
       "17812     6571.0     0.000000           1\n",
       "19091    42816.0  4600.000000           1\n",
       "25312   100190.0  5000.000000           1\n",
       "25652    17770.0  1558.000000           1\n",
       "5075     21187.0     0.000000           1"
      ]
     },
     "execution_count": 70,
     "metadata": {},
     "output_type": "execute_result"
    }
   ],
   "source": [
    "data2[data2.default_pay == 1][['BILL_AMT2', 'PAY_AMT1', 'default_pay']].sample(10)"
   ]
  },
  {
   "cell_type": "markdown",
   "metadata": {},
   "source": [
    "I saw that men are most likely to default and also that married people are most likely to default. \n",
    "Thus why not combine them in a single variable given by the product of the two.\n",
    "as we can see high correlation between the two categories hence we are going to combime 'SEX' and 'MARRIAGE' and make a new column"
   ]
  },
  {
   "cell_type": "code",
   "execution_count": 55,
   "metadata": {},
   "outputs": [
    {
     "data": {
      "text/html": [
       "<div>\n",
       "<style scoped>\n",
       "    .dataframe tbody tr th:only-of-type {\n",
       "        vertical-align: middle;\n",
       "    }\n",
       "\n",
       "    .dataframe tbody tr th {\n",
       "        vertical-align: top;\n",
       "    }\n",
       "\n",
       "    .dataframe thead th {\n",
       "        text-align: right;\n",
       "    }\n",
       "</style>\n",
       "<table border=\"1\" class=\"dataframe\">\n",
       "  <thead>\n",
       "    <tr style=\"text-align: right;\">\n",
       "      <th>default_pay</th>\n",
       "      <th>0</th>\n",
       "      <th>1</th>\n",
       "      <th>perc</th>\n",
       "    </tr>\n",
       "    <tr>\n",
       "      <th>gen_mar</th>\n",
       "      <th></th>\n",
       "      <th></th>\n",
       "      <th></th>\n",
       "    </tr>\n",
       "  </thead>\n",
       "  <tbody>\n",
       "    <tr>\n",
       "      <td>1</td>\n",
       "      <td>3844</td>\n",
       "      <td>1346</td>\n",
       "      <td>0.259345</td>\n",
       "    </tr>\n",
       "    <tr>\n",
       "      <td>2</td>\n",
       "      <td>5068</td>\n",
       "      <td>1485</td>\n",
       "      <td>0.226614</td>\n",
       "    </tr>\n",
       "    <tr>\n",
       "      <td>3</td>\n",
       "      <td>103</td>\n",
       "      <td>42</td>\n",
       "      <td>0.289655</td>\n",
       "    </tr>\n",
       "    <tr>\n",
       "      <td>4</td>\n",
       "      <td>6609</td>\n",
       "      <td>1860</td>\n",
       "      <td>0.219625</td>\n",
       "    </tr>\n",
       "    <tr>\n",
       "      <td>5</td>\n",
       "      <td>7555</td>\n",
       "      <td>1856</td>\n",
       "      <td>0.197216</td>\n",
       "    </tr>\n",
       "    <tr>\n",
       "      <td>6</td>\n",
       "      <td>185</td>\n",
       "      <td>47</td>\n",
       "      <td>0.202586</td>\n",
       "    </tr>\n",
       "  </tbody>\n",
       "</table>\n",
       "</div>"
      ],
      "text/plain": [
       "default_pay     0     1      perc\n",
       "gen_mar                          \n",
       "1            3844  1346  0.259345\n",
       "2            5068  1485  0.226614\n",
       "3             103    42  0.289655\n",
       "4            6609  1860  0.219625\n",
       "5            7555  1856  0.197216\n",
       "6             185    47  0.202586"
      ]
     },
     "execution_count": 55,
     "metadata": {},
     "output_type": "execute_result"
    }
   ],
   "source": [
    "data2['gen_mar'] = 0\n",
    "data2.loc[((data2.SEX == 1) & (data2.MARRIAGE == 1)) , 'gen_mar'] = 1 #married man\n",
    "data2.loc[((data2.SEX == 1) & (data2.MARRIAGE == 2)) , 'gen_mar'] = 2 #single man\n",
    "data2.loc[((data2.SEX == 1) & (data2.MARRIAGE == 3)) , 'gen_mar'] = 3 #divorced man\n",
    "data2.loc[((data2.SEX == 2) & (data2.MARRIAGE == 1)) , 'gen_mar'] = 4 #married woman\n",
    "data2.loc[((data2.SEX == 2) & (data2.MARRIAGE == 2)) , 'gen_mar'] = 5 #single woman\n",
    "data2.loc[((data2.SEX == 2) & (data2.MARRIAGE == 3)) , 'gen_mar'] = 6 #divorced woman\n",
    "correlation('gen_mar', 'default_pay')"
   ]
  },
  {
   "cell_type": "markdown",
   "metadata": {},
   "source": [
    "###  Deleting columns 'SEX' and 'MARRIAGE'\n"
   ]
  },
  {
   "cell_type": "code",
   "execution_count": 56,
   "metadata": {},
   "outputs": [],
   "source": [
    "del data2['SEX']\n",
    "del data2['MARRIAGE']"
   ]
  },
  {
   "cell_type": "markdown",
   "metadata": {},
   "source": [
    "### Making bin for various age groups "
   ]
  },
  {
   "cell_type": "code",
   "execution_count": 57,
   "metadata": {},
   "outputs": [],
   "source": [
    "data2['Age_bin'] = pd.cut(data2.AGE, bins = 6, labels=[1,2,3,4,5,6])"
   ]
  },
  {
   "cell_type": "code",
   "execution_count": 58,
   "metadata": {},
   "outputs": [
    {
     "data": {
      "text/plain": [
       "5    9411\n",
       "4    8469\n",
       "2    6553\n",
       "1    5190\n",
       "6     232\n",
       "3     145\n",
       "Name: gen_mar, dtype: int64"
      ]
     },
     "execution_count": 58,
     "metadata": {},
     "output_type": "execute_result"
    }
   ],
   "source": [
    "data2.gen_mar.value_counts()"
   ]
  },
  {
   "cell_type": "code",
   "execution_count": 59,
   "metadata": {},
   "outputs": [
    {
     "data": {
      "text/plain": [
       "Index(['ID', 'LIMIT_BAL', 'EDUCATION', 'AGE', 'PAY_1', 'PAY_2', 'PAY_3',\n",
       "       'PAY_4', 'PAY_5', 'PAY_6', 'BILL_AMT1', 'BILL_AMT2', 'BILL_AMT3',\n",
       "       'BILL_AMT4', 'BILL_AMT5', 'BILL_AMT6', 'PAY_AMT1', 'PAY_AMT2',\n",
       "       'PAY_AMT3', 'PAY_AMT4', 'PAY_AMT5', 'PAY_AMT6', 'default_pay',\n",
       "       'gen_mar', 'Age_bin'],\n",
       "      dtype='object')"
      ]
     },
     "execution_count": 59,
     "metadata": {},
     "output_type": "execute_result"
    }
   ],
   "source": [
    "data2.columns"
   ]
  },
  {
   "cell_type": "code",
   "execution_count": 60,
   "metadata": {},
   "outputs": [
    {
     "data": {
      "text/plain": [
       "(30000, 25)"
      ]
     },
     "execution_count": 60,
     "metadata": {},
     "output_type": "execute_result"
    }
   ],
   "source": [
    "data2.shape"
   ]
  },
  {
   "cell_type": "code",
   "execution_count": 61,
   "metadata": {},
   "outputs": [],
   "source": [
    "cols = list(data2.columns)\n",
    "cols = cols[:-3] + [cols[-2]] + [cols[-1]] +[cols[-3]]\n",
    "data2 = data2[cols]"
   ]
  },
  {
   "cell_type": "code",
   "execution_count": 62,
   "metadata": {},
   "outputs": [],
   "source": [
    "del data2['AGE']"
   ]
  },
  {
   "cell_type": "code",
   "execution_count": 63,
   "metadata": {},
   "outputs": [
    {
     "data": {
      "text/plain": [
       "Index(['ID', 'LIMIT_BAL', 'EDUCATION', 'PAY_1', 'PAY_2', 'PAY_3', 'PAY_4',\n",
       "       'PAY_5', 'PAY_6', 'BILL_AMT1', 'BILL_AMT2', 'BILL_AMT3', 'BILL_AMT4',\n",
       "       'BILL_AMT5', 'BILL_AMT6', 'PAY_AMT1', 'PAY_AMT2', 'PAY_AMT3',\n",
       "       'PAY_AMT4', 'PAY_AMT5', 'PAY_AMT6', 'gen_mar', 'Age_bin',\n",
       "       'default_pay'],\n",
       "      dtype='object')"
      ]
     },
     "execution_count": 63,
     "metadata": {},
     "output_type": "execute_result"
    }
   ],
   "source": [
    "data2.columns"
   ]
  },
  {
   "cell_type": "code",
   "execution_count": 64,
   "metadata": {},
   "outputs": [
    {
     "data": {
      "text/plain": [
       "(30000, 24)"
      ]
     },
     "execution_count": 64,
     "metadata": {},
     "output_type": "execute_result"
    }
   ],
   "source": [
    "data2.shape"
   ]
  },
  {
   "cell_type": "markdown",
   "metadata": {},
   "source": [
    "### Load the final dataset "
   ]
  },
  {
   "cell_type": "code",
   "execution_count": 81,
   "metadata": {},
   "outputs": [
    {
     "data": {
      "text/plain": [
       "['cleanedcreditcard_1.pkl']"
      ]
     },
     "execution_count": 81,
     "metadata": {},
     "output_type": "execute_result"
    }
   ],
   "source": [
    "# # save data (without replacing -ve values + replacing outliers + feature selection) as pikel file \n",
    "# joblib.dump(data2, 'cleanedcreditcard_1.pkl')"
   ]
  },
  {
   "cell_type": "code",
   "execution_count": 3,
   "metadata": {},
   "outputs": [],
   "source": [
    "# # Load the data(without replacing -ve values + replacing outliers + feature selection) clean data from the file \n",
    "# data2 = joblib.load('cleanedcreditcard_1.pkl')"
   ]
  },
  {
   "cell_type": "code",
   "execution_count": 65,
   "metadata": {},
   "outputs": [
    {
     "data": {
      "text/plain": [
       "['cleanedcreditcard_2.pkl']"
      ]
     },
     "execution_count": 65,
     "metadata": {},
     "output_type": "execute_result"
    }
   ],
   "source": [
    "# # save data (replacing -ve values + replacing outliers + feature selection) as pikel file \n",
    "# joblib.dump(data2, 'cleanedcreditcard_2.pkl')"
   ]
  },
  {
   "cell_type": "code",
   "execution_count": 3,
   "metadata": {},
   "outputs": [],
   "source": [
    "# Load the data(without replacing -ve values + replacing outliers + feature selection) clean data from the file \n",
    "data2 = joblib.load('cleanedcreditcard_2.pkl')"
   ]
  },
  {
   "cell_type": "code",
   "execution_count": 4,
   "metadata": {},
   "outputs": [
    {
     "data": {
      "text/plain": [
       "Index(['ID', 'LIMIT_BAL', 'EDUCATION', 'PAY_1', 'PAY_2', 'PAY_3', 'PAY_4',\n",
       "       'PAY_5', 'PAY_6', 'BILL_AMT1', 'BILL_AMT2', 'BILL_AMT3', 'BILL_AMT4',\n",
       "       'BILL_AMT5', 'BILL_AMT6', 'PAY_AMT1', 'PAY_AMT2', 'PAY_AMT3',\n",
       "       'PAY_AMT4', 'PAY_AMT5', 'PAY_AMT6', 'gen_mar', 'Age_bin',\n",
       "       'default_pay'],\n",
       "      dtype='object')"
      ]
     },
     "execution_count": 4,
     "metadata": {},
     "output_type": "execute_result"
    }
   ],
   "source": [
    "data2.columns"
   ]
  },
  {
   "cell_type": "code",
   "execution_count": 4,
   "metadata": {},
   "outputs": [],
   "source": [
    "y = data2.iloc[:, -1].values"
   ]
  },
  {
   "cell_type": "code",
   "execution_count": 5,
   "metadata": {},
   "outputs": [],
   "source": [
    "X = data2.iloc[:, 0:-1].values"
   ]
  },
  {
   "cell_type": "code",
   "execution_count": 7,
   "metadata": {},
   "outputs": [
    {
     "data": {
      "text/plain": [
       "(30000, 24)"
      ]
     },
     "execution_count": 7,
     "metadata": {},
     "output_type": "execute_result"
    }
   ],
   "source": [
    "data2.shape"
   ]
  },
  {
   "cell_type": "code",
   "execution_count": 6,
   "metadata": {},
   "outputs": [],
   "source": [
    "df_train = data2.iloc[:22500, :]\n",
    "df_test = data2.iloc[22500:, :]"
   ]
  },
  {
   "cell_type": "code",
   "execution_count": 7,
   "metadata": {},
   "outputs": [],
   "source": [
    "from sklearn.utils import resample"
   ]
  },
  {
   "cell_type": "code",
   "execution_count": 8,
   "metadata": {},
   "outputs": [
    {
     "name": "stdout",
     "output_type": "stream",
     "text": [
      "17412\n",
      "-----------\n",
      "5088\n",
      "-----------\n",
      "0    17412\n",
      "1     5088\n",
      "Name: default_pay, dtype: int64\n"
     ]
    }
   ],
   "source": [
    "df_majority = df_train[df_train.default_pay==0]\n",
    "df_minority = df_train[df_train.default_pay==1]\n",
    "\n",
    "print(df_majority.default_pay.count())\n",
    "print(\"-----------\")\n",
    "print(df_minority.default_pay.count())\n",
    "print(\"-----------\")\n",
    "print(df_train.default_pay.value_counts())"
   ]
  },
  {
   "cell_type": "code",
   "execution_count": 9,
   "metadata": {},
   "outputs": [],
   "source": [
    "# Upsample minority class\n",
    "df_minority_upsampled = resample(df_minority, \n",
    "                                 replace=True,     # sample with replacement\n",
    "                                 n_samples=17412,    # to match majority class\n",
    "                                 random_state=5) # reproducible results"
   ]
  },
  {
   "cell_type": "code",
   "execution_count": 10,
   "metadata": {},
   "outputs": [],
   "source": [
    "# Combine majority class with upsampled minority class\n",
    "df_upsampled = pd.concat([df_majority, df_minority_upsampled])"
   ]
  },
  {
   "cell_type": "code",
   "execution_count": 11,
   "metadata": {},
   "outputs": [
    {
     "data": {
      "text/plain": [
       "1    17412\n",
       "0    17412\n",
       "Name: default_pay, dtype: int64"
      ]
     },
     "execution_count": 11,
     "metadata": {},
     "output_type": "execute_result"
    }
   ],
   "source": [
    "# Display new class counts\n",
    "df_upsampled.default_pay.value_counts()"
   ]
  },
  {
   "cell_type": "code",
   "execution_count": 14,
   "metadata": {},
   "outputs": [
    {
     "data": {
      "text/plain": [
       "(34824, 24)"
      ]
     },
     "execution_count": 14,
     "metadata": {},
     "output_type": "execute_result"
    }
   ],
   "source": [
    "df_upsampled.shape"
   ]
  },
  {
   "cell_type": "code",
   "execution_count": 15,
   "metadata": {},
   "outputs": [
    {
     "data": {
      "text/plain": [
       "'default_pay'"
      ]
     },
     "execution_count": 15,
     "metadata": {},
     "output_type": "execute_result"
    }
   ],
   "source": [
    "df_upsampled.columns[-1]"
   ]
  },
  {
   "cell_type": "code",
   "execution_count": 16,
   "metadata": {},
   "outputs": [],
   "source": [
    "X = df_upsampled.iloc[:, 0:-1].values\n",
    "y = df_upsampled.iloc[:,-1].values"
   ]
  },
  {
   "cell_type": "code",
   "execution_count": 6,
   "metadata": {},
   "outputs": [],
   "source": [
    "from sklearn.model_selection import train_test_split\n",
    "X_train, X_test, y_train, y_test = train_test_split(X, y, test_size = 0.25, random_state = 0, stratify = y)"
   ]
  },
  {
   "cell_type": "markdown",
   "metadata": {},
   "source": [
    "### Applying various ML models to check the accuracy "
   ]
  },
  {
   "cell_type": "markdown",
   "metadata": {},
   "source": [
    "### 1. Naive Bayes "
   ]
  },
  {
   "cell_type": "code",
   "execution_count": 7,
   "metadata": {},
   "outputs": [],
   "source": [
    "y_train = y_train.astype('int')"
   ]
  },
  {
   "cell_type": "code",
   "execution_count": 9,
   "metadata": {},
   "outputs": [
    {
     "data": {
      "text/plain": [
       "GaussianNB(priors=None, var_smoothing=1e-09)"
      ]
     },
     "execution_count": 9,
     "metadata": {},
     "output_type": "execute_result"
    }
   ],
   "source": [
    "# Fitting Naive Bayes to the Training set(95%, 92% us)\n",
    "from sklearn.naive_bayes import GaussianNB\n",
    "classifier_naive = GaussianNB()\n",
    "classifier_naive.fit(X_train, y_train)"
   ]
  },
  {
   "cell_type": "code",
   "execution_count": 10,
   "metadata": {},
   "outputs": [],
   "source": [
    "y_pred_test = classifier_naive.predict(X_test)"
   ]
  },
  {
   "cell_type": "code",
   "execution_count": 11,
   "metadata": {},
   "outputs": [],
   "source": [
    "y_pred_train = classifier_naive.predict(X_train)"
   ]
  },
  {
   "cell_type": "code",
   "execution_count": 12,
   "metadata": {},
   "outputs": [],
   "source": [
    "y_test = y_test.astype('int')"
   ]
  },
  {
   "cell_type": "code",
   "execution_count": 25,
   "metadata": {},
   "outputs": [
    {
     "name": "stdout",
     "output_type": "stream",
     "text": [
      "Accuracy Score : 0.5722490236618424\n",
      "Precision Score : 0.5587301587301587\n",
      "Recall Score : 0.6873420629450954\n",
      "F1 Score : 0.6163988463123198\n"
     ]
    }
   ],
   "source": [
    "# New Model Evaluation metrics for test data(data = cleanedcreditcard_2)(upsampled)\n",
    "print('Accuracy Score : ' + str(accuracy_score(y_test,y_pred_test)))\n",
    "print('Precision Score : ' + str(precision_score(y_test,y_pred_test)))\n",
    "print('Recall Score : ' + str(recall_score(y_test,y_pred_test)))\n",
    "print('F1 Score : ' + str(f1_score(y_test,y_pred_test)))"
   ]
  },
  {
   "cell_type": "code",
   "execution_count": 13,
   "metadata": {},
   "outputs": [
    {
     "name": "stdout",
     "output_type": "stream",
     "text": [
      "Accuracy Score : 0.6761333333333334\n",
      "Precision Score : 0.31805293005671076\n",
      "Recall Score : 0.405666063893912\n",
      "F1 Score : 0.3565562913907284\n"
     ]
    }
   ],
   "source": [
    "# New Model Evaluation metrics for test data(data = cleanedcreditcard_2)( without sampling)\n",
    "print('Accuracy Score : ' + str(accuracy_score(y_test,y_pred_test)))\n",
    "print('Precision Score : ' + str(precision_score(y_test,y_pred_test)))\n",
    "print('Recall Score : ' + str(recall_score(y_test,y_pred_test)))\n",
    "print('F1 Score : ' + str(f1_score(y_test,y_pred_test)))"
   ]
  },
  {
   "cell_type": "code",
   "execution_count": 26,
   "metadata": {},
   "outputs": [
    {
     "name": "stdout",
     "output_type": "stream",
     "text": [
      "Accuracy Score : 0.5861474844934528\n",
      "Precision Score : 0.5705948795180723\n",
      "Recall Score : 0.6963014013324145\n",
      "F1 Score : 0.6272115882048629\n"
     ]
    }
   ],
   "source": [
    "# New Model Evaluation metrics for train data (-ve replaced)(data = cleanedcreditcard_2)(upsampled)\n",
    "print('Accuracy Score : ' + str(accuracy_score(y_train,y_pred_train)))\n",
    "print('Precision Score : ' + str(precision_score(y_train,y_pred_train)))\n",
    "print('Recall Score : ' + str(recall_score(y_train,y_pred_train)))\n",
    "print('F1 Score : ' + str(f1_score(y_train,y_pred_train)))"
   ]
  },
  {
   "cell_type": "code",
   "execution_count": 14,
   "metadata": {},
   "outputs": [
    {
     "name": "stdout",
     "output_type": "stream",
     "text": [
      "Accuracy Score : 0.6901777777777778\n",
      "Precision Score : 0.33976213436194147\n",
      "Recall Score : 0.4247538677918425\n",
      "F1 Score : 0.3775337083668185\n"
     ]
    }
   ],
   "source": [
    "# New Model Evaluation metrics for train data (without -ve replace)(data = cleanedcreditcard_2)(without sampling)\n",
    "print('Accuracy Score : ' + str(accuracy_score(y_train,y_pred_train)))\n",
    "print('Precision Score : ' + str(precision_score(y_train,y_pred_train)))\n",
    "print('Recall Score : ' + str(recall_score(y_train,y_pred_train)))\n",
    "print('F1 Score : ' + str(f1_score(y_train,y_pred_train)))"
   ]
  },
  {
   "cell_type": "code",
   "execution_count": 23,
   "metadata": {},
   "outputs": [
    {
     "name": "stdout",
     "output_type": "stream",
     "text": [
      "Accuracy Score : 0.5736273834137376\n",
      "Precision Score : 0.5597836224584966\n",
      "Recall Score : 0.6894096025729382\n",
      "F1 Score : 0.6178711138562899\n"
     ]
    }
   ],
   "source": [
    "# New Model Evaluation metrics for test data(data = cleanedcreditcard_1)(upsampled)\n",
    "print('Accuracy Score : ' + str(accuracy_score(y_test,y_pred_test)))\n",
    "print('Precision Score : ' + str(precision_score(y_test,y_pred_test)))\n",
    "print('Recall Score : ' + str(recall_score(y_test,y_pred_test)))\n",
    "print('F1 Score : ' + str(f1_score(y_test,y_pred_test)))"
   ]
  },
  {
   "cell_type": "code",
   "execution_count": 24,
   "metadata": {},
   "outputs": [
    {
     "name": "stdout",
     "output_type": "stream",
     "text": [
      "Accuracy Score : 0.5861474844934528\n",
      "Precision Score : 0.5704622322435174\n",
      "Recall Score : 0.6974500344589938\n",
      "F1 Score : 0.6275968992248062\n"
     ]
    }
   ],
   "source": [
    "# New Model Evaluation metrics for train data (without -ve replace)(data = cleanedcreditcard_1)(upsampled)\n",
    "print('Accuracy Score : ' + str(accuracy_score(y_train,y_pred_train)))\n",
    "print('Precision Score : ' + str(precision_score(y_train,y_pred_train)))\n",
    "print('Recall Score : ' + str(recall_score(y_train,y_pred_train)))\n",
    "print('F1 Score : ' + str(f1_score(y_train,y_pred_train)))"
   ]
  },
  {
   "cell_type": "code",
   "execution_count": 27,
   "metadata": {},
   "outputs": [
    {
     "name": "stdout",
     "output_type": "stream",
     "text": [
      "True Positives: 2992\n",
      "False Positive: 2363\n",
      "True Negative: 1990\n",
      "False Negative: 1361\n",
      "Precision: 0.56\n",
      "Recall: 0.69\n",
      "Problematic ratio: 0.31\n"
     ]
    }
   ],
   "source": [
    "# New Model Evaluation metrics for train data (without -ve replace)(data = cleanedcreditcard_1)(upsampled)\n",
    "TP = np.sum(np.logical_and(y_pred_test == 1, y_test == 1))\n",
    "TN = np.sum(np.logical_and(y_pred_test == 0, y_test == 0))\n",
    "FP = np.sum(np.logical_and(y_pred_test == 1, y_test == 0))\n",
    "FN = np.sum(np.logical_and(y_pred_test == 0, y_test == 1))\n",
    "pred = len(y_pred_test)\n",
    "\n",
    "print('True Positives: {}'.format(TP))\n",
    "print('False Positive: {}'.format(FP))\n",
    "print('True Negative: {}'.format(TN))\n",
    "print('False Negative: {}'.format(FN))\n",
    "print('Precision: {}'.format(round(TP/(TP+FP),2)))\n",
    "print('Recall: {}'.format(round(TP/(TP+FN),2)))\n",
    "print('Problematic ratio: {}'.format(round(FN/(FN+TP),2)))"
   ]
  },
  {
   "cell_type": "code",
   "execution_count": 76,
   "metadata": {},
   "outputs": [
    {
     "name": "stdout",
     "output_type": "stream",
     "text": [
      "True Positives: 676\n",
      "False Positive: 1441\n",
      "True Negative: 4400\n",
      "False Negative: 983\n",
      "Precision: 0.32\n",
      "Recall: 0.41\n",
      "Problematic ratio: 0.59\n"
     ]
    }
   ],
   "source": [
    "# New Model Evaluation metrics for train data (without -ve replace)(data = cleanedcreditcard_1)(upsampled)\n",
    "TP = np.sum(np.logical_and(y_pred_test == 1, y_test == 1))\n",
    "TN = np.sum(np.logical_and(y_pred_test == 0, y_test == 0))\n",
    "FP = np.sum(np.logical_and(y_pred_test == 1, y_test == 0))\n",
    "FN = np.sum(np.logical_and(y_pred_test == 0, y_test == 1))\n",
    "pred = len(y_pred_test)\n",
    "\n",
    "print('True Positives: {}'.format(TP))\n",
    "print('False Positive: {}'.format(FP))\n",
    "print('True Negative: {}'.format(TN))\n",
    "print('False Negative: {}'.format(FN))\n",
    "print('Precision: {}'.format(round(TP/(TP+FP),2)))\n",
    "print('Recall: {}'.format(round(TP/(TP+FN),2)))\n",
    "print('Problematic ratio: {}'.format(round(FN/(FN+TP),2)))"
   ]
  },
  {
   "cell_type": "code",
   "execution_count": 25,
   "metadata": {},
   "outputs": [
    {
     "name": "stdout",
     "output_type": "stream",
     "text": [
      "True Positives: 3001\n",
      "False Positive: 2360\n",
      "True Negative: 1993\n",
      "False Negative: 1352\n",
      "Precision: 0.56\n",
      "Recall: 0.69\n",
      "Problematic ratio: 0.31\n"
     ]
    }
   ],
   "source": [
    "# New Model Evaluation metrics for train data (without -ve replace)(data = cleanedcreditcard_1)\n",
    "TP = np.sum(np.logical_and(y_pred_test == 1, y_test == 1))\n",
    "TN = np.sum(np.logical_and(y_pred_test == 0, y_test == 0))\n",
    "FP = np.sum(np.logical_and(y_pred_test == 1, y_test == 0))\n",
    "FN = np.sum(np.logical_and(y_pred_test == 0, y_test == 1))\n",
    "pred = len(y_pred_test)\n",
    "\n",
    "print('True Positives: {}'.format(TP))\n",
    "print('False Positive: {}'.format(FP))\n",
    "print('True Negative: {}'.format(TN))\n",
    "print('False Negative: {}'.format(FN))\n",
    "print('Precision: {}'.format(round(TP/(TP+FP),2)))\n",
    "print('Recall: {}'.format(round(TP/(TP+FN),2)))\n",
    "print('Problematic ratio: {}'.format(round(FN/(FN+TP),2)))"
   ]
  },
  {
   "cell_type": "markdown",
   "metadata": {},
   "source": [
    "### 2. Linear Regression"
   ]
  },
  {
   "cell_type": "code",
   "execution_count": 15,
   "metadata": {},
   "outputs": [
    {
     "data": {
      "text/plain": [
       "LinearRegression(copy_X=True, fit_intercept=True, n_jobs=None, normalize=False)"
      ]
     },
     "execution_count": 15,
     "metadata": {},
     "output_type": "execute_result"
    }
   ],
   "source": [
    "from sklearn.linear_model import LinearRegression\n",
    "regressor = LinearRegression()\n",
    "regressor.fit(X_train, y_train)"
   ]
  },
  {
   "cell_type": "code",
   "execution_count": 16,
   "metadata": {},
   "outputs": [],
   "source": [
    "y_pred_test = regressor.predict(X_test)"
   ]
  },
  {
   "cell_type": "code",
   "execution_count": 17,
   "metadata": {},
   "outputs": [],
   "source": [
    "y_pred_test = y_pred_test.astype('int')"
   ]
  },
  {
   "cell_type": "code",
   "execution_count": 18,
   "metadata": {},
   "outputs": [],
   "source": [
    "y_pred_train = regressor.predict(X_train)"
   ]
  },
  {
   "cell_type": "code",
   "execution_count": 19,
   "metadata": {},
   "outputs": [],
   "source": [
    "y_pred_train = y_pred_train.astype('int')"
   ]
  },
  {
   "cell_type": "code",
   "execution_count": 33,
   "metadata": {},
   "outputs": [
    {
     "name": "stdout",
     "output_type": "stream",
     "text": [
      "True Positives: 159\n",
      "False Positive: 20\n",
      "True Negative: 4331\n",
      "False Negative: 4186\n",
      "Precision: 0.89\n",
      "Recall: 0.04\n",
      "Problematic ratio: 0.96\n"
     ]
    }
   ],
   "source": [
    "# New Model Evaluation metrics for test data (-ve replaced)(data = cleanedcreditcard_2)\n",
    "TP = np.sum(np.logical_and(y_pred_test == 1, y_test == 1))\n",
    "TN = np.sum(np.logical_and(y_pred_test == 0, y_test == 0))\n",
    "FP = np.sum(np.logical_and(y_pred_test == 1, y_test == 0))\n",
    "FN = np.sum(np.logical_and(y_pred_test == 0, y_test == 1))\n",
    "pred = len(y_pred_test)\n",
    "\n",
    "print('True Positives: {}'.format(TP))\n",
    "print('False Positive: {}'.format(FP))\n",
    "print('True Negative: {}'.format(TN))\n",
    "print('False Negative: {}'.format(FN))\n",
    "print('Precision: {}'.format(round(TP/(TP+FP),2)))\n",
    "print('Recall: {}'.format(round(TP/(TP+FN),2)))\n",
    "print('Problematic ratio: {}'.format(round(FN/(FN+TP),2)))"
   ]
  },
  {
   "cell_type": "code",
   "execution_count": 34,
   "metadata": {},
   "outputs": [
    {
     "name": "stdout",
     "output_type": "stream",
     "text": [
      "Accuracy Score : 0.5157362738341373\n",
      "Precision Score : 0.5157362738341373\n",
      "Recall Score : 0.5157362738341373\n",
      "F1 Score : 0.5157362738341373\n"
     ]
    }
   ],
   "source": [
    "# New Model Evaluation metrics for test data (-ve replaced)(data = cleanedcreditcard_2) (with sampling)\n",
    "print('Accuracy Score : ' + str(accuracy_score(y_test,y_pred_test)))\n",
    "print('Precision Score : ' + str(precision_score(y_test,y_pred_test, average='micro')))\n",
    "print('Recall Score : ' + str(recall_score(y_test,y_pred_test, average='micro')))\n",
    "print('F1 Score : ' + str(f1_score(y_test,y_pred_test, average='micro')))"
   ]
  },
  {
   "cell_type": "code",
   "execution_count": 21,
   "metadata": {},
   "outputs": [
    {
     "name": "stdout",
     "output_type": "stream",
     "text": [
      "Accuracy Score : 0.7809333333333334\n",
      "Precision Score : 0.7809333333333334\n",
      "Recall Score : 0.7809333333333334\n",
      "F1 Score : 0.7809333333333334\n"
     ]
    }
   ],
   "source": [
    "# New Model Evaluation metrics for test data (-ve replaced)(data = cleanedcreditcard_2) (without sampling)\n",
    "print('Accuracy Score : ' + str(accuracy_score(y_test,y_pred_test)))\n",
    "print('Precision Score : ' + str(precision_score(y_test,y_pred_test, average='micro')))\n",
    "print('Recall Score : ' + str(recall_score(y_test,y_pred_test, average='micro')))\n",
    "print('F1 Score : ' + str(f1_score(y_test,y_pred_test, average='micro')))"
   ]
  },
  {
   "cell_type": "code",
   "execution_count": 35,
   "metadata": {},
   "outputs": [
    {
     "name": "stdout",
     "output_type": "stream",
     "text": [
      "Accuracy Score : 0.5176889501493223\n",
      "Precision Score : 0.5176889501493223\n",
      "Recall Score : 0.5176889501493223\n",
      "F1 Score : 0.5176889501493223\n"
     ]
    }
   ],
   "source": [
    "# New Model Evaluation metrics for train data (-ve replace)(data = cleanedcreditcard_2) (with sampling)\n",
    "print('Accuracy Score : ' + str(accuracy_score(y_train,y_pred_train)))\n",
    "print('Precision Score : ' + str(precision_score(y_train,y_pred_train, average='micro')))\n",
    "print('Recall Score : ' + str(recall_score(y_train,y_pred_train, average='micro')))\n",
    "print('F1 Score : ' + str(f1_score(y_train,y_pred_train, average='micro')))"
   ]
  },
  {
   "cell_type": "code",
   "execution_count": 22,
   "metadata": {},
   "outputs": [
    {
     "name": "stdout",
     "output_type": "stream",
     "text": [
      "Accuracy Score : 0.7810222222222222\n",
      "Precision Score : 0.7810222222222222\n",
      "Recall Score : 0.7810222222222222\n",
      "F1 Score : 0.7810222222222221\n"
     ]
    }
   ],
   "source": [
    "# New Model Evaluation metrics for train data (-ve replace)(data = cleanedcreditcard_2) (without sampling)\n",
    "print('Accuracy Score : ' + str(accuracy_score(y_train,y_pred_train)))\n",
    "print('Precision Score : ' + str(precision_score(y_train,y_pred_train, average='micro')))\n",
    "print('Recall Score : ' + str(recall_score(y_train,y_pred_train, average='micro')))\n",
    "print('F1 Score : ' + str(f1_score(y_train,y_pred_train, average='micro')))"
   ]
  },
  {
   "cell_type": "code",
   "execution_count": 128,
   "metadata": {},
   "outputs": [
    {
     "name": "stdout",
     "output_type": "stream",
     "text": [
      "True Positives: 156\n",
      "False Positive: 20\n",
      "True Negative: 4331\n",
      "False Negative: 4189\n",
      "Precision: 0.89\n",
      "Recall: 0.04\n",
      "Problematic ratio: 0.96\n"
     ]
    }
   ],
   "source": [
    "# New Model Evaluation metrics for test data (without -ve replace)(data = cleanedcreditcard_1)\n",
    "TP = np.sum(np.logical_and(y_pred_test == 1, y_test == 1))\n",
    "TN = np.sum(np.logical_and(y_pred_test == 0, y_test == 0))\n",
    "FP = np.sum(np.logical_and(y_pred_test == 1, y_test == 0))\n",
    "FN = np.sum(np.logical_and(y_pred_test == 0, y_test == 1))\n",
    "pred = len(y_pred_test)\n",
    "\n",
    "print('True Positives: {}'.format(TP))\n",
    "print('False Positive: {}'.format(FP))\n",
    "print('True Negative: {}'.format(TN))\n",
    "print('False Negative: {}'.format(FN))\n",
    "print('Precision: {}'.format(round(TP/(TP+FP),2)))\n",
    "print('Recall: {}'.format(round(TP/(TP+FN),2)))\n",
    "print('Problematic ratio: {}'.format(round(FN/(FN+TP),2)))"
   ]
  },
  {
   "cell_type": "code",
   "execution_count": 131,
   "metadata": {},
   "outputs": [
    {
     "name": "stdout",
     "output_type": "stream",
     "text": [
      "Accuracy Score : 0.5153916838961635\n",
      "Precision Score : 0.5153916838961635\n",
      "Recall Score : 0.5153916838961635\n",
      "F1 Score : 0.5153916838961635\n"
     ]
    }
   ],
   "source": [
    "# New Model Evaluation metrics for test data (without -ve replace)(data = cleanedcreditcard_1)\n",
    "print('Accuracy Score : ' + str(accuracy_score(y_test,y_pred_test)))\n",
    "print('Precision Score : ' + str(precision_score(y_test,y_pred_test, average='micro')))\n",
    "print('Recall Score : ' + str(recall_score(y_test,y_pred_test, average='micro')))\n",
    "print('F1 Score : ' + str(f1_score(y_test,y_pred_test, average='micro')))"
   ]
  },
  {
   "cell_type": "code",
   "execution_count": 132,
   "metadata": {},
   "outputs": [
    {
     "name": "stdout",
     "output_type": "stream",
     "text": [
      "Accuracy Score : 0.5173826479822344\n",
      "Precision Score : 0.5173826479822344\n",
      "Recall Score : 0.5173826479822344\n",
      "F1 Score : 0.5173826479822344\n"
     ]
    }
   ],
   "source": [
    "# New Model Evaluation metrics for train data (without -ve replace)(data = cleanedcreditcard_1)\n",
    "print('Accuracy Score : ' + str(accuracy_score(y_train,y_pred_train)))\n",
    "print('Precision Score : ' + str(precision_score(y_train,y_pred_train, average='micro')))\n",
    "print('Recall Score : ' + str(recall_score(y_train,y_pred_train, average='micro')))\n",
    "print('F1 Score : ' + str(f1_score(y_train,y_pred_train, average='micro')))"
   ]
  },
  {
   "cell_type": "markdown",
   "metadata": {},
   "source": [
    "### 3. Logistic Regression "
   ]
  },
  {
   "cell_type": "code",
   "execution_count": 23,
   "metadata": {},
   "outputs": [],
   "source": [
    "from sklearn.linear_model import LogisticRegression"
   ]
  },
  {
   "cell_type": "code",
   "execution_count": 24,
   "metadata": {
    "scrolled": true
   },
   "outputs": [
    {
     "name": "stderr",
     "output_type": "stream",
     "text": [
      "/opt/anaconda3/lib/python3.7/site-packages/sklearn/model_selection/_validation.py:536: FitFailedWarning: Estimator fit failed. The score on this train-test partition for these parameters will be set to nan. Details: \n",
      "ValueError: Solver lbfgs supports only 'l2' or 'none' penalties, got l1 penalty.\n",
      "\n",
      "  FitFailedWarning)\n",
      "/opt/anaconda3/lib/python3.7/site-packages/sklearn/linear_model/_logistic.py:940: ConvergenceWarning: lbfgs failed to converge (status=1):\n",
      "STOP: TOTAL NO. of ITERATIONS REACHED LIMIT.\n",
      "\n",
      "Increase the number of iterations (max_iter) or scale the data as shown in:\n",
      "    https://scikit-learn.org/stable/modules/preprocessing.html\n",
      "Please also refer to the documentation for alternative solver options:\n",
      "    https://scikit-learn.org/stable/modules/linear_model.html#logistic-regression\n",
      "  extra_warning_msg=_LOGISTIC_SOLVER_CONVERGENCE_MSG)\n",
      "/opt/anaconda3/lib/python3.7/site-packages/sklearn/linear_model/_logistic.py:940: ConvergenceWarning: lbfgs failed to converge (status=1):\n",
      "STOP: TOTAL NO. of ITERATIONS REACHED LIMIT.\n",
      "\n",
      "Increase the number of iterations (max_iter) or scale the data as shown in:\n",
      "    https://scikit-learn.org/stable/modules/preprocessing.html\n",
      "Please also refer to the documentation for alternative solver options:\n",
      "    https://scikit-learn.org/stable/modules/linear_model.html#logistic-regression\n",
      "  extra_warning_msg=_LOGISTIC_SOLVER_CONVERGENCE_MSG)\n",
      "/opt/anaconda3/lib/python3.7/site-packages/sklearn/linear_model/_logistic.py:940: ConvergenceWarning: lbfgs failed to converge (status=1):\n",
      "STOP: TOTAL NO. of ITERATIONS REACHED LIMIT.\n",
      "\n",
      "Increase the number of iterations (max_iter) or scale the data as shown in:\n",
      "    https://scikit-learn.org/stable/modules/preprocessing.html\n",
      "Please also refer to the documentation for alternative solver options:\n",
      "    https://scikit-learn.org/stable/modules/linear_model.html#logistic-regression\n",
      "  extra_warning_msg=_LOGISTIC_SOLVER_CONVERGENCE_MSG)\n",
      "/opt/anaconda3/lib/python3.7/site-packages/sklearn/linear_model/_logistic.py:940: ConvergenceWarning: lbfgs failed to converge (status=1):\n",
      "STOP: TOTAL NO. of ITERATIONS REACHED LIMIT.\n",
      "\n",
      "Increase the number of iterations (max_iter) or scale the data as shown in:\n",
      "    https://scikit-learn.org/stable/modules/preprocessing.html\n",
      "Please also refer to the documentation for alternative solver options:\n",
      "    https://scikit-learn.org/stable/modules/linear_model.html#logistic-regression\n",
      "  extra_warning_msg=_LOGISTIC_SOLVER_CONVERGENCE_MSG)\n",
      "/opt/anaconda3/lib/python3.7/site-packages/sklearn/model_selection/_validation.py:536: FitFailedWarning: Estimator fit failed. The score on this train-test partition for these parameters will be set to nan. Details: \n",
      "ValueError: Solver lbfgs supports only 'l2' or 'none' penalties, got l1 penalty.\n",
      "\n",
      "  FitFailedWarning)\n",
      "/opt/anaconda3/lib/python3.7/site-packages/sklearn/linear_model/_logistic.py:940: ConvergenceWarning: lbfgs failed to converge (status=1):\n",
      "STOP: TOTAL NO. of ITERATIONS REACHED LIMIT.\n",
      "\n",
      "Increase the number of iterations (max_iter) or scale the data as shown in:\n",
      "    https://scikit-learn.org/stable/modules/preprocessing.html\n",
      "Please also refer to the documentation for alternative solver options:\n",
      "    https://scikit-learn.org/stable/modules/linear_model.html#logistic-regression\n",
      "  extra_warning_msg=_LOGISTIC_SOLVER_CONVERGENCE_MSG)\n",
      "/opt/anaconda3/lib/python3.7/site-packages/sklearn/linear_model/_logistic.py:940: ConvergenceWarning: lbfgs failed to converge (status=1):\n",
      "STOP: TOTAL NO. of ITERATIONS REACHED LIMIT.\n",
      "\n",
      "Increase the number of iterations (max_iter) or scale the data as shown in:\n",
      "    https://scikit-learn.org/stable/modules/preprocessing.html\n",
      "Please also refer to the documentation for alternative solver options:\n",
      "    https://scikit-learn.org/stable/modules/linear_model.html#logistic-regression\n",
      "  extra_warning_msg=_LOGISTIC_SOLVER_CONVERGENCE_MSG)\n",
      "/opt/anaconda3/lib/python3.7/site-packages/sklearn/linear_model/_logistic.py:940: ConvergenceWarning: lbfgs failed to converge (status=1):\n",
      "STOP: TOTAL NO. of ITERATIONS REACHED LIMIT.\n",
      "\n",
      "Increase the number of iterations (max_iter) or scale the data as shown in:\n",
      "    https://scikit-learn.org/stable/modules/preprocessing.html\n",
      "Please also refer to the documentation for alternative solver options:\n",
      "    https://scikit-learn.org/stable/modules/linear_model.html#logistic-regression\n",
      "  extra_warning_msg=_LOGISTIC_SOLVER_CONVERGENCE_MSG)\n",
      "/opt/anaconda3/lib/python3.7/site-packages/sklearn/linear_model/_logistic.py:940: ConvergenceWarning: lbfgs failed to converge (status=1):\n",
      "STOP: TOTAL NO. of ITERATIONS REACHED LIMIT.\n",
      "\n",
      "Increase the number of iterations (max_iter) or scale the data as shown in:\n",
      "    https://scikit-learn.org/stable/modules/preprocessing.html\n",
      "Please also refer to the documentation for alternative solver options:\n",
      "    https://scikit-learn.org/stable/modules/linear_model.html#logistic-regression\n",
      "  extra_warning_msg=_LOGISTIC_SOLVER_CONVERGENCE_MSG)\n",
      "/opt/anaconda3/lib/python3.7/site-packages/sklearn/linear_model/_logistic.py:940: ConvergenceWarning: lbfgs failed to converge (status=1):\n",
      "STOP: TOTAL NO. of ITERATIONS REACHED LIMIT.\n",
      "\n",
      "Increase the number of iterations (max_iter) or scale the data as shown in:\n",
      "    https://scikit-learn.org/stable/modules/preprocessing.html\n",
      "Please also refer to the documentation for alternative solver options:\n",
      "    https://scikit-learn.org/stable/modules/linear_model.html#logistic-regression\n",
      "  extra_warning_msg=_LOGISTIC_SOLVER_CONVERGENCE_MSG)\n",
      "/opt/anaconda3/lib/python3.7/site-packages/sklearn/linear_model/_logistic.py:940: ConvergenceWarning: lbfgs failed to converge (status=1):\n",
      "STOP: TOTAL NO. of ITERATIONS REACHED LIMIT.\n",
      "\n",
      "Increase the number of iterations (max_iter) or scale the data as shown in:\n",
      "    https://scikit-learn.org/stable/modules/preprocessing.html\n",
      "Please also refer to the documentation for alternative solver options:\n",
      "    https://scikit-learn.org/stable/modules/linear_model.html#logistic-regression\n",
      "  extra_warning_msg=_LOGISTIC_SOLVER_CONVERGENCE_MSG)\n",
      "/opt/anaconda3/lib/python3.7/site-packages/sklearn/model_selection/_validation.py:536: FitFailedWarning: Estimator fit failed. The score on this train-test partition for these parameters will be set to nan. Details: \n",
      "ValueError: Solver lbfgs supports only 'l2' or 'none' penalties, got l1 penalty.\n",
      "\n",
      "  FitFailedWarning)\n",
      "/opt/anaconda3/lib/python3.7/site-packages/sklearn/linear_model/_logistic.py:940: ConvergenceWarning: lbfgs failed to converge (status=1):\n",
      "STOP: TOTAL NO. of ITERATIONS REACHED LIMIT.\n",
      "\n",
      "Increase the number of iterations (max_iter) or scale the data as shown in:\n",
      "    https://scikit-learn.org/stable/modules/preprocessing.html\n",
      "Please also refer to the documentation for alternative solver options:\n",
      "    https://scikit-learn.org/stable/modules/linear_model.html#logistic-regression\n",
      "  extra_warning_msg=_LOGISTIC_SOLVER_CONVERGENCE_MSG)\n",
      "/opt/anaconda3/lib/python3.7/site-packages/sklearn/linear_model/_logistic.py:940: ConvergenceWarning: lbfgs failed to converge (status=1):\n",
      "STOP: TOTAL NO. of ITERATIONS REACHED LIMIT.\n",
      "\n",
      "Increase the number of iterations (max_iter) or scale the data as shown in:\n",
      "    https://scikit-learn.org/stable/modules/preprocessing.html\n",
      "Please also refer to the documentation for alternative solver options:\n",
      "    https://scikit-learn.org/stable/modules/linear_model.html#logistic-regression\n",
      "  extra_warning_msg=_LOGISTIC_SOLVER_CONVERGENCE_MSG)\n",
      "/opt/anaconda3/lib/python3.7/site-packages/sklearn/linear_model/_logistic.py:940: ConvergenceWarning: lbfgs failed to converge (status=1):\n",
      "STOP: TOTAL NO. of ITERATIONS REACHED LIMIT.\n",
      "\n",
      "Increase the number of iterations (max_iter) or scale the data as shown in:\n",
      "    https://scikit-learn.org/stable/modules/preprocessing.html\n",
      "Please also refer to the documentation for alternative solver options:\n",
      "    https://scikit-learn.org/stable/modules/linear_model.html#logistic-regression\n",
      "  extra_warning_msg=_LOGISTIC_SOLVER_CONVERGENCE_MSG)\n",
      "/opt/anaconda3/lib/python3.7/site-packages/sklearn/linear_model/_logistic.py:940: ConvergenceWarning: lbfgs failed to converge (status=1):\n",
      "STOP: TOTAL NO. of ITERATIONS REACHED LIMIT.\n",
      "\n",
      "Increase the number of iterations (max_iter) or scale the data as shown in:\n",
      "    https://scikit-learn.org/stable/modules/preprocessing.html\n",
      "Please also refer to the documentation for alternative solver options:\n",
      "    https://scikit-learn.org/stable/modules/linear_model.html#logistic-regression\n",
      "  extra_warning_msg=_LOGISTIC_SOLVER_CONVERGENCE_MSG)\n"
     ]
    },
    {
     "name": "stderr",
     "output_type": "stream",
     "text": [
      "/opt/anaconda3/lib/python3.7/site-packages/sklearn/linear_model/_logistic.py:940: ConvergenceWarning: lbfgs failed to converge (status=1):\n",
      "STOP: TOTAL NO. of ITERATIONS REACHED LIMIT.\n",
      "\n",
      "Increase the number of iterations (max_iter) or scale the data as shown in:\n",
      "    https://scikit-learn.org/stable/modules/preprocessing.html\n",
      "Please also refer to the documentation for alternative solver options:\n",
      "    https://scikit-learn.org/stable/modules/linear_model.html#logistic-regression\n",
      "  extra_warning_msg=_LOGISTIC_SOLVER_CONVERGENCE_MSG)\n",
      "/opt/anaconda3/lib/python3.7/site-packages/sklearn/model_selection/_validation.py:536: FitFailedWarning: Estimator fit failed. The score on this train-test partition for these parameters will be set to nan. Details: \n",
      "ValueError: Solver lbfgs supports only 'l2' or 'none' penalties, got l1 penalty.\n",
      "\n",
      "  FitFailedWarning)\n",
      "/opt/anaconda3/lib/python3.7/site-packages/sklearn/linear_model/_logistic.py:940: ConvergenceWarning: lbfgs failed to converge (status=1):\n",
      "STOP: TOTAL NO. of ITERATIONS REACHED LIMIT.\n",
      "\n",
      "Increase the number of iterations (max_iter) or scale the data as shown in:\n",
      "    https://scikit-learn.org/stable/modules/preprocessing.html\n",
      "Please also refer to the documentation for alternative solver options:\n",
      "    https://scikit-learn.org/stable/modules/linear_model.html#logistic-regression\n",
      "  extra_warning_msg=_LOGISTIC_SOLVER_CONVERGENCE_MSG)\n",
      "/opt/anaconda3/lib/python3.7/site-packages/sklearn/linear_model/_logistic.py:940: ConvergenceWarning: lbfgs failed to converge (status=1):\n",
      "STOP: TOTAL NO. of ITERATIONS REACHED LIMIT.\n",
      "\n",
      "Increase the number of iterations (max_iter) or scale the data as shown in:\n",
      "    https://scikit-learn.org/stable/modules/preprocessing.html\n",
      "Please also refer to the documentation for alternative solver options:\n",
      "    https://scikit-learn.org/stable/modules/linear_model.html#logistic-regression\n",
      "  extra_warning_msg=_LOGISTIC_SOLVER_CONVERGENCE_MSG)\n",
      "/opt/anaconda3/lib/python3.7/site-packages/sklearn/linear_model/_logistic.py:940: ConvergenceWarning: lbfgs failed to converge (status=1):\n",
      "STOP: TOTAL NO. of ITERATIONS REACHED LIMIT.\n",
      "\n",
      "Increase the number of iterations (max_iter) or scale the data as shown in:\n",
      "    https://scikit-learn.org/stable/modules/preprocessing.html\n",
      "Please also refer to the documentation for alternative solver options:\n",
      "    https://scikit-learn.org/stable/modules/linear_model.html#logistic-regression\n",
      "  extra_warning_msg=_LOGISTIC_SOLVER_CONVERGENCE_MSG)\n",
      "/opt/anaconda3/lib/python3.7/site-packages/sklearn/linear_model/_logistic.py:940: ConvergenceWarning: lbfgs failed to converge (status=1):\n",
      "STOP: TOTAL NO. of ITERATIONS REACHED LIMIT.\n",
      "\n",
      "Increase the number of iterations (max_iter) or scale the data as shown in:\n",
      "    https://scikit-learn.org/stable/modules/preprocessing.html\n",
      "Please also refer to the documentation for alternative solver options:\n",
      "    https://scikit-learn.org/stable/modules/linear_model.html#logistic-regression\n",
      "  extra_warning_msg=_LOGISTIC_SOLVER_CONVERGENCE_MSG)\n",
      "/opt/anaconda3/lib/python3.7/site-packages/sklearn/linear_model/_logistic.py:940: ConvergenceWarning: lbfgs failed to converge (status=1):\n",
      "STOP: TOTAL NO. of ITERATIONS REACHED LIMIT.\n",
      "\n",
      "Increase the number of iterations (max_iter) or scale the data as shown in:\n",
      "    https://scikit-learn.org/stable/modules/preprocessing.html\n",
      "Please also refer to the documentation for alternative solver options:\n",
      "    https://scikit-learn.org/stable/modules/linear_model.html#logistic-regression\n",
      "  extra_warning_msg=_LOGISTIC_SOLVER_CONVERGENCE_MSG)\n",
      "/opt/anaconda3/lib/python3.7/site-packages/sklearn/linear_model/_logistic.py:940: ConvergenceWarning: lbfgs failed to converge (status=1):\n",
      "STOP: TOTAL NO. of ITERATIONS REACHED LIMIT.\n",
      "\n",
      "Increase the number of iterations (max_iter) or scale the data as shown in:\n",
      "    https://scikit-learn.org/stable/modules/preprocessing.html\n",
      "Please also refer to the documentation for alternative solver options:\n",
      "    https://scikit-learn.org/stable/modules/linear_model.html#logistic-regression\n",
      "  extra_warning_msg=_LOGISTIC_SOLVER_CONVERGENCE_MSG)\n",
      "/opt/anaconda3/lib/python3.7/site-packages/sklearn/linear_model/_logistic.py:940: ConvergenceWarning: lbfgs failed to converge (status=1):\n",
      "STOP: TOTAL NO. of ITERATIONS REACHED LIMIT.\n",
      "\n",
      "Increase the number of iterations (max_iter) or scale the data as shown in:\n",
      "    https://scikit-learn.org/stable/modules/preprocessing.html\n",
      "Please also refer to the documentation for alternative solver options:\n",
      "    https://scikit-learn.org/stable/modules/linear_model.html#logistic-regression\n",
      "  extra_warning_msg=_LOGISTIC_SOLVER_CONVERGENCE_MSG)\n",
      "/opt/anaconda3/lib/python3.7/site-packages/sklearn/model_selection/_validation.py:536: FitFailedWarning: Estimator fit failed. The score on this train-test partition for these parameters will be set to nan. Details: \n",
      "ValueError: Solver lbfgs supports only 'l2' or 'none' penalties, got l1 penalty.\n",
      "\n",
      "  FitFailedWarning)\n",
      "/opt/anaconda3/lib/python3.7/site-packages/sklearn/linear_model/_logistic.py:940: ConvergenceWarning: lbfgs failed to converge (status=1):\n",
      "STOP: TOTAL NO. of ITERATIONS REACHED LIMIT.\n",
      "\n",
      "Increase the number of iterations (max_iter) or scale the data as shown in:\n",
      "    https://scikit-learn.org/stable/modules/preprocessing.html\n",
      "Please also refer to the documentation for alternative solver options:\n",
      "    https://scikit-learn.org/stable/modules/linear_model.html#logistic-regression\n",
      "  extra_warning_msg=_LOGISTIC_SOLVER_CONVERGENCE_MSG)\n",
      "/opt/anaconda3/lib/python3.7/site-packages/sklearn/linear_model/_logistic.py:940: ConvergenceWarning: lbfgs failed to converge (status=1):\n",
      "STOP: TOTAL NO. of ITERATIONS REACHED LIMIT.\n",
      "\n",
      "Increase the number of iterations (max_iter) or scale the data as shown in:\n",
      "    https://scikit-learn.org/stable/modules/preprocessing.html\n",
      "Please also refer to the documentation for alternative solver options:\n",
      "    https://scikit-learn.org/stable/modules/linear_model.html#logistic-regression\n",
      "  extra_warning_msg=_LOGISTIC_SOLVER_CONVERGENCE_MSG)\n",
      "/opt/anaconda3/lib/python3.7/site-packages/sklearn/linear_model/_logistic.py:940: ConvergenceWarning: lbfgs failed to converge (status=1):\n",
      "STOP: TOTAL NO. of ITERATIONS REACHED LIMIT.\n",
      "\n",
      "Increase the number of iterations (max_iter) or scale the data as shown in:\n",
      "    https://scikit-learn.org/stable/modules/preprocessing.html\n",
      "Please also refer to the documentation for alternative solver options:\n",
      "    https://scikit-learn.org/stable/modules/linear_model.html#logistic-regression\n",
      "  extra_warning_msg=_LOGISTIC_SOLVER_CONVERGENCE_MSG)\n",
      "/opt/anaconda3/lib/python3.7/site-packages/sklearn/linear_model/_logistic.py:940: ConvergenceWarning: lbfgs failed to converge (status=1):\n",
      "STOP: TOTAL NO. of ITERATIONS REACHED LIMIT.\n",
      "\n",
      "Increase the number of iterations (max_iter) or scale the data as shown in:\n",
      "    https://scikit-learn.org/stable/modules/preprocessing.html\n",
      "Please also refer to the documentation for alternative solver options:\n",
      "    https://scikit-learn.org/stable/modules/linear_model.html#logistic-regression\n",
      "  extra_warning_msg=_LOGISTIC_SOLVER_CONVERGENCE_MSG)\n",
      "/opt/anaconda3/lib/python3.7/site-packages/sklearn/linear_model/_logistic.py:940: ConvergenceWarning: lbfgs failed to converge (status=1):\n",
      "STOP: TOTAL NO. of ITERATIONS REACHED LIMIT.\n",
      "\n",
      "Increase the number of iterations (max_iter) or scale the data as shown in:\n",
      "    https://scikit-learn.org/stable/modules/preprocessing.html\n",
      "Please also refer to the documentation for alternative solver options:\n",
      "    https://scikit-learn.org/stable/modules/linear_model.html#logistic-regression\n",
      "  extra_warning_msg=_LOGISTIC_SOLVER_CONVERGENCE_MSG)\n",
      "/opt/anaconda3/lib/python3.7/site-packages/sklearn/linear_model/_logistic.py:940: ConvergenceWarning: lbfgs failed to converge (status=1):\n",
      "STOP: TOTAL NO. of ITERATIONS REACHED LIMIT.\n",
      "\n",
      "Increase the number of iterations (max_iter) or scale the data as shown in:\n",
      "    https://scikit-learn.org/stable/modules/preprocessing.html\n",
      "Please also refer to the documentation for alternative solver options:\n",
      "    https://scikit-learn.org/stable/modules/linear_model.html#logistic-regression\n",
      "  extra_warning_msg=_LOGISTIC_SOLVER_CONVERGENCE_MSG)\n",
      "/opt/anaconda3/lib/python3.7/site-packages/sklearn/linear_model/_logistic.py:940: ConvergenceWarning: lbfgs failed to converge (status=1):\n",
      "STOP: TOTAL NO. of ITERATIONS REACHED LIMIT.\n",
      "\n",
      "Increase the number of iterations (max_iter) or scale the data as shown in:\n",
      "    https://scikit-learn.org/stable/modules/preprocessing.html\n",
      "Please also refer to the documentation for alternative solver options:\n",
      "    https://scikit-learn.org/stable/modules/linear_model.html#logistic-regression\n",
      "  extra_warning_msg=_LOGISTIC_SOLVER_CONVERGENCE_MSG)\n"
     ]
    },
    {
     "name": "stderr",
     "output_type": "stream",
     "text": [
      "/opt/anaconda3/lib/python3.7/site-packages/sklearn/linear_model/_logistic.py:940: ConvergenceWarning: lbfgs failed to converge (status=1):\n",
      "STOP: TOTAL NO. of ITERATIONS REACHED LIMIT.\n",
      "\n",
      "Increase the number of iterations (max_iter) or scale the data as shown in:\n",
      "    https://scikit-learn.org/stable/modules/preprocessing.html\n",
      "Please also refer to the documentation for alternative solver options:\n",
      "    https://scikit-learn.org/stable/modules/linear_model.html#logistic-regression\n",
      "  extra_warning_msg=_LOGISTIC_SOLVER_CONVERGENCE_MSG)\n",
      "/opt/anaconda3/lib/python3.7/site-packages/sklearn/model_selection/_validation.py:536: FitFailedWarning: Estimator fit failed. The score on this train-test partition for these parameters will be set to nan. Details: \n",
      "ValueError: Solver lbfgs supports only 'l2' or 'none' penalties, got l1 penalty.\n",
      "\n",
      "  FitFailedWarning)\n",
      "/opt/anaconda3/lib/python3.7/site-packages/sklearn/linear_model/_logistic.py:940: ConvergenceWarning: lbfgs failed to converge (status=1):\n",
      "STOP: TOTAL NO. of ITERATIONS REACHED LIMIT.\n",
      "\n",
      "Increase the number of iterations (max_iter) or scale the data as shown in:\n",
      "    https://scikit-learn.org/stable/modules/preprocessing.html\n",
      "Please also refer to the documentation for alternative solver options:\n",
      "    https://scikit-learn.org/stable/modules/linear_model.html#logistic-regression\n",
      "  extra_warning_msg=_LOGISTIC_SOLVER_CONVERGENCE_MSG)\n",
      "/opt/anaconda3/lib/python3.7/site-packages/sklearn/linear_model/_logistic.py:940: ConvergenceWarning: lbfgs failed to converge (status=1):\n",
      "STOP: TOTAL NO. of ITERATIONS REACHED LIMIT.\n",
      "\n",
      "Increase the number of iterations (max_iter) or scale the data as shown in:\n",
      "    https://scikit-learn.org/stable/modules/preprocessing.html\n",
      "Please also refer to the documentation for alternative solver options:\n",
      "    https://scikit-learn.org/stable/modules/linear_model.html#logistic-regression\n",
      "  extra_warning_msg=_LOGISTIC_SOLVER_CONVERGENCE_MSG)\n",
      "/opt/anaconda3/lib/python3.7/site-packages/sklearn/linear_model/_logistic.py:940: ConvergenceWarning: lbfgs failed to converge (status=1):\n",
      "STOP: TOTAL NO. of ITERATIONS REACHED LIMIT.\n",
      "\n",
      "Increase the number of iterations (max_iter) or scale the data as shown in:\n",
      "    https://scikit-learn.org/stable/modules/preprocessing.html\n",
      "Please also refer to the documentation for alternative solver options:\n",
      "    https://scikit-learn.org/stable/modules/linear_model.html#logistic-regression\n",
      "  extra_warning_msg=_LOGISTIC_SOLVER_CONVERGENCE_MSG)\n",
      "/opt/anaconda3/lib/python3.7/site-packages/sklearn/linear_model/_logistic.py:940: ConvergenceWarning: lbfgs failed to converge (status=1):\n",
      "STOP: TOTAL NO. of ITERATIONS REACHED LIMIT.\n",
      "\n",
      "Increase the number of iterations (max_iter) or scale the data as shown in:\n",
      "    https://scikit-learn.org/stable/modules/preprocessing.html\n",
      "Please also refer to the documentation for alternative solver options:\n",
      "    https://scikit-learn.org/stable/modules/linear_model.html#logistic-regression\n",
      "  extra_warning_msg=_LOGISTIC_SOLVER_CONVERGENCE_MSG)\n",
      "/opt/anaconda3/lib/python3.7/site-packages/sklearn/linear_model/_logistic.py:940: ConvergenceWarning: lbfgs failed to converge (status=1):\n",
      "STOP: TOTAL NO. of ITERATIONS REACHED LIMIT.\n",
      "\n",
      "Increase the number of iterations (max_iter) or scale the data as shown in:\n",
      "    https://scikit-learn.org/stable/modules/preprocessing.html\n",
      "Please also refer to the documentation for alternative solver options:\n",
      "    https://scikit-learn.org/stable/modules/linear_model.html#logistic-regression\n",
      "  extra_warning_msg=_LOGISTIC_SOLVER_CONVERGENCE_MSG)\n",
      "/opt/anaconda3/lib/python3.7/site-packages/sklearn/linear_model/_logistic.py:940: ConvergenceWarning: lbfgs failed to converge (status=1):\n",
      "STOP: TOTAL NO. of ITERATIONS REACHED LIMIT.\n",
      "\n",
      "Increase the number of iterations (max_iter) or scale the data as shown in:\n",
      "    https://scikit-learn.org/stable/modules/preprocessing.html\n",
      "Please also refer to the documentation for alternative solver options:\n",
      "    https://scikit-learn.org/stable/modules/linear_model.html#logistic-regression\n",
      "  extra_warning_msg=_LOGISTIC_SOLVER_CONVERGENCE_MSG)\n",
      "/opt/anaconda3/lib/python3.7/site-packages/sklearn/linear_model/_logistic.py:940: ConvergenceWarning: lbfgs failed to converge (status=1):\n",
      "STOP: TOTAL NO. of ITERATIONS REACHED LIMIT.\n",
      "\n",
      "Increase the number of iterations (max_iter) or scale the data as shown in:\n",
      "    https://scikit-learn.org/stable/modules/preprocessing.html\n",
      "Please also refer to the documentation for alternative solver options:\n",
      "    https://scikit-learn.org/stable/modules/linear_model.html#logistic-regression\n",
      "  extra_warning_msg=_LOGISTIC_SOLVER_CONVERGENCE_MSG)\n",
      "/opt/anaconda3/lib/python3.7/site-packages/sklearn/model_selection/_validation.py:536: FitFailedWarning: Estimator fit failed. The score on this train-test partition for these parameters will be set to nan. Details: \n",
      "ValueError: Solver lbfgs supports only 'l2' or 'none' penalties, got l1 penalty.\n",
      "\n",
      "  FitFailedWarning)\n",
      "/opt/anaconda3/lib/python3.7/site-packages/sklearn/linear_model/_logistic.py:940: ConvergenceWarning: lbfgs failed to converge (status=1):\n",
      "STOP: TOTAL NO. of ITERATIONS REACHED LIMIT.\n",
      "\n",
      "Increase the number of iterations (max_iter) or scale the data as shown in:\n",
      "    https://scikit-learn.org/stable/modules/preprocessing.html\n",
      "Please also refer to the documentation for alternative solver options:\n",
      "    https://scikit-learn.org/stable/modules/linear_model.html#logistic-regression\n",
      "  extra_warning_msg=_LOGISTIC_SOLVER_CONVERGENCE_MSG)\n",
      "/opt/anaconda3/lib/python3.7/site-packages/sklearn/linear_model/_logistic.py:940: ConvergenceWarning: lbfgs failed to converge (status=1):\n",
      "STOP: TOTAL NO. of ITERATIONS REACHED LIMIT.\n",
      "\n",
      "Increase the number of iterations (max_iter) or scale the data as shown in:\n",
      "    https://scikit-learn.org/stable/modules/preprocessing.html\n",
      "Please also refer to the documentation for alternative solver options:\n",
      "    https://scikit-learn.org/stable/modules/linear_model.html#logistic-regression\n",
      "  extra_warning_msg=_LOGISTIC_SOLVER_CONVERGENCE_MSG)\n",
      "/opt/anaconda3/lib/python3.7/site-packages/sklearn/linear_model/_logistic.py:940: ConvergenceWarning: lbfgs failed to converge (status=1):\n",
      "STOP: TOTAL NO. of ITERATIONS REACHED LIMIT.\n",
      "\n",
      "Increase the number of iterations (max_iter) or scale the data as shown in:\n",
      "    https://scikit-learn.org/stable/modules/preprocessing.html\n",
      "Please also refer to the documentation for alternative solver options:\n",
      "    https://scikit-learn.org/stable/modules/linear_model.html#logistic-regression\n",
      "  extra_warning_msg=_LOGISTIC_SOLVER_CONVERGENCE_MSG)\n",
      "/opt/anaconda3/lib/python3.7/site-packages/sklearn/linear_model/_logistic.py:940: ConvergenceWarning: lbfgs failed to converge (status=1):\n",
      "STOP: TOTAL NO. of ITERATIONS REACHED LIMIT.\n",
      "\n",
      "Increase the number of iterations (max_iter) or scale the data as shown in:\n",
      "    https://scikit-learn.org/stable/modules/preprocessing.html\n",
      "Please also refer to the documentation for alternative solver options:\n",
      "    https://scikit-learn.org/stable/modules/linear_model.html#logistic-regression\n",
      "  extra_warning_msg=_LOGISTIC_SOLVER_CONVERGENCE_MSG)\n",
      "/opt/anaconda3/lib/python3.7/site-packages/sklearn/linear_model/_logistic.py:940: ConvergenceWarning: lbfgs failed to converge (status=1):\n",
      "STOP: TOTAL NO. of ITERATIONS REACHED LIMIT.\n",
      "\n",
      "Increase the number of iterations (max_iter) or scale the data as shown in:\n",
      "    https://scikit-learn.org/stable/modules/preprocessing.html\n",
      "Please also refer to the documentation for alternative solver options:\n",
      "    https://scikit-learn.org/stable/modules/linear_model.html#logistic-regression\n",
      "  extra_warning_msg=_LOGISTIC_SOLVER_CONVERGENCE_MSG)\n",
      "/opt/anaconda3/lib/python3.7/site-packages/sklearn/linear_model/_logistic.py:940: ConvergenceWarning: lbfgs failed to converge (status=1):\n",
      "STOP: TOTAL NO. of ITERATIONS REACHED LIMIT.\n",
      "\n",
      "Increase the number of iterations (max_iter) or scale the data as shown in:\n",
      "    https://scikit-learn.org/stable/modules/preprocessing.html\n",
      "Please also refer to the documentation for alternative solver options:\n",
      "    https://scikit-learn.org/stable/modules/linear_model.html#logistic-regression\n",
      "  extra_warning_msg=_LOGISTIC_SOLVER_CONVERGENCE_MSG)\n",
      "/opt/anaconda3/lib/python3.7/site-packages/sklearn/linear_model/_logistic.py:940: ConvergenceWarning: lbfgs failed to converge (status=1):\n",
      "STOP: TOTAL NO. of ITERATIONS REACHED LIMIT.\n",
      "\n",
      "Increase the number of iterations (max_iter) or scale the data as shown in:\n",
      "    https://scikit-learn.org/stable/modules/preprocessing.html\n",
      "Please also refer to the documentation for alternative solver options:\n",
      "    https://scikit-learn.org/stable/modules/linear_model.html#logistic-regression\n",
      "  extra_warning_msg=_LOGISTIC_SOLVER_CONVERGENCE_MSG)\n"
     ]
    },
    {
     "name": "stderr",
     "output_type": "stream",
     "text": [
      "/opt/anaconda3/lib/python3.7/site-packages/sklearn/model_selection/_validation.py:536: FitFailedWarning: Estimator fit failed. The score on this train-test partition for these parameters will be set to nan. Details: \n",
      "ValueError: Solver lbfgs supports only 'l2' or 'none' penalties, got l1 penalty.\n",
      "\n",
      "  FitFailedWarning)\n",
      "/opt/anaconda3/lib/python3.7/site-packages/sklearn/linear_model/_logistic.py:940: ConvergenceWarning: lbfgs failed to converge (status=1):\n",
      "STOP: TOTAL NO. of ITERATIONS REACHED LIMIT.\n",
      "\n",
      "Increase the number of iterations (max_iter) or scale the data as shown in:\n",
      "    https://scikit-learn.org/stable/modules/preprocessing.html\n",
      "Please also refer to the documentation for alternative solver options:\n",
      "    https://scikit-learn.org/stable/modules/linear_model.html#logistic-regression\n",
      "  extra_warning_msg=_LOGISTIC_SOLVER_CONVERGENCE_MSG)\n",
      "/opt/anaconda3/lib/python3.7/site-packages/sklearn/linear_model/_logistic.py:940: ConvergenceWarning: lbfgs failed to converge (status=1):\n",
      "STOP: TOTAL NO. of ITERATIONS REACHED LIMIT.\n",
      "\n",
      "Increase the number of iterations (max_iter) or scale the data as shown in:\n",
      "    https://scikit-learn.org/stable/modules/preprocessing.html\n",
      "Please also refer to the documentation for alternative solver options:\n",
      "    https://scikit-learn.org/stable/modules/linear_model.html#logistic-regression\n",
      "  extra_warning_msg=_LOGISTIC_SOLVER_CONVERGENCE_MSG)\n",
      "/opt/anaconda3/lib/python3.7/site-packages/sklearn/linear_model/_logistic.py:940: ConvergenceWarning: lbfgs failed to converge (status=1):\n",
      "STOP: TOTAL NO. of ITERATIONS REACHED LIMIT.\n",
      "\n",
      "Increase the number of iterations (max_iter) or scale the data as shown in:\n",
      "    https://scikit-learn.org/stable/modules/preprocessing.html\n",
      "Please also refer to the documentation for alternative solver options:\n",
      "    https://scikit-learn.org/stable/modules/linear_model.html#logistic-regression\n",
      "  extra_warning_msg=_LOGISTIC_SOLVER_CONVERGENCE_MSG)\n",
      "/opt/anaconda3/lib/python3.7/site-packages/sklearn/linear_model/_logistic.py:940: ConvergenceWarning: lbfgs failed to converge (status=1):\n",
      "STOP: TOTAL NO. of ITERATIONS REACHED LIMIT.\n",
      "\n",
      "Increase the number of iterations (max_iter) or scale the data as shown in:\n",
      "    https://scikit-learn.org/stable/modules/preprocessing.html\n",
      "Please also refer to the documentation for alternative solver options:\n",
      "    https://scikit-learn.org/stable/modules/linear_model.html#logistic-regression\n",
      "  extra_warning_msg=_LOGISTIC_SOLVER_CONVERGENCE_MSG)\n",
      "/opt/anaconda3/lib/python3.7/site-packages/sklearn/linear_model/_logistic.py:940: ConvergenceWarning: lbfgs failed to converge (status=1):\n",
      "STOP: TOTAL NO. of ITERATIONS REACHED LIMIT.\n",
      "\n",
      "Increase the number of iterations (max_iter) or scale the data as shown in:\n",
      "    https://scikit-learn.org/stable/modules/preprocessing.html\n",
      "Please also refer to the documentation for alternative solver options:\n",
      "    https://scikit-learn.org/stable/modules/linear_model.html#logistic-regression\n",
      "  extra_warning_msg=_LOGISTIC_SOLVER_CONVERGENCE_MSG)\n",
      "/opt/anaconda3/lib/python3.7/site-packages/sklearn/linear_model/_logistic.py:940: ConvergenceWarning: lbfgs failed to converge (status=1):\n",
      "STOP: TOTAL NO. of ITERATIONS REACHED LIMIT.\n",
      "\n",
      "Increase the number of iterations (max_iter) or scale the data as shown in:\n",
      "    https://scikit-learn.org/stable/modules/preprocessing.html\n",
      "Please also refer to the documentation for alternative solver options:\n",
      "    https://scikit-learn.org/stable/modules/linear_model.html#logistic-regression\n",
      "  extra_warning_msg=_LOGISTIC_SOLVER_CONVERGENCE_MSG)\n",
      "/opt/anaconda3/lib/python3.7/site-packages/sklearn/linear_model/_logistic.py:940: ConvergenceWarning: lbfgs failed to converge (status=1):\n",
      "STOP: TOTAL NO. of ITERATIONS REACHED LIMIT.\n",
      "\n",
      "Increase the number of iterations (max_iter) or scale the data as shown in:\n",
      "    https://scikit-learn.org/stable/modules/preprocessing.html\n",
      "Please also refer to the documentation for alternative solver options:\n",
      "    https://scikit-learn.org/stable/modules/linear_model.html#logistic-regression\n",
      "  extra_warning_msg=_LOGISTIC_SOLVER_CONVERGENCE_MSG)\n"
     ]
    },
    {
     "data": {
      "text/plain": [
       "GridSearchCV(cv=10, error_score=nan,\n",
       "             estimator=LogisticRegression(C=1.0, class_weight=None, dual=False,\n",
       "                                          fit_intercept=True,\n",
       "                                          intercept_scaling=1, l1_ratio=None,\n",
       "                                          max_iter=100, multi_class='auto',\n",
       "                                          n_jobs=None, penalty='l2',\n",
       "                                          random_state=None, solver='lbfgs',\n",
       "                                          tol=0.0001, verbose=0,\n",
       "                                          warm_start=False),\n",
       "             iid='deprecated', n_jobs=None,\n",
       "             param_grid={'C': [0.001, 0.009, 0.01, 0.09, 1, 5, 10, 25],\n",
       "                         'penalty': ['l1', 'l2']},\n",
       "             pre_dispatch='2*n_jobs', refit=True, return_train_score=False,\n",
       "             scoring=None, verbose=0)"
      ]
     },
     "execution_count": 24,
     "metadata": {},
     "output_type": "execute_result"
    }
   ],
   "source": [
    "#Grid Search (cv)\n",
    "from sklearn.model_selection import GridSearchCV\n",
    "clf_grid = LogisticRegression()\n",
    "grid_values = {'penalty': ['l1', 'l2'],'C':[0.001,.009,0.01,.09,1,5,10,25]}\n",
    "grid_clf_acc_cv = GridSearchCV(clf_grid, param_grid = grid_values, cv = 10)\n",
    "grid_clf_acc_cv.fit(X_train, y_train)"
   ]
  },
  {
   "cell_type": "code",
   "execution_count": 25,
   "metadata": {},
   "outputs": [],
   "source": [
    "y_test_pred = grid_clf_acc_cv.predict(X_test)"
   ]
  },
  {
   "cell_type": "code",
   "execution_count": 26,
   "metadata": {},
   "outputs": [],
   "source": [
    "y_pred_train = grid_clf_acc_cv.predict(X_train)"
   ]
  },
  {
   "cell_type": "code",
   "execution_count": 40,
   "metadata": {},
   "outputs": [
    {
     "name": "stdout",
     "output_type": "stream",
     "text": [
      "Accuracy Score : 0.5157362738341373\n",
      "Precision Score : 0.5157362738341373\n",
      "Recall Score : 0.5157362738341373\n",
      "F1 Score : 0.5157362738341373\n"
     ]
    }
   ],
   "source": [
    "# # New Model Evaluation metrics for test data (-ve replaced)(data = cleanedcreditcard_2)\n",
    "# print('Accuracy Score : ' + str(accuracy_score(y_test,y_pred_test)))\n",
    "# print('Precision Score : ' + str(precision_score(y_test,y_pred_test, average='micro')))\n",
    "# print('Recall Score : ' + str(recall_score(y_test,y_pred_test, average='micro')))\n",
    "# print('F1 Score : ' + str(f1_score(y_test,y_pred_test, average='micro')))"
   ]
  },
  {
   "cell_type": "code",
   "execution_count": 27,
   "metadata": {},
   "outputs": [
    {
     "name": "stdout",
     "output_type": "stream",
     "text": [
      "Accuracy Score : 0.7809333333333334\n",
      "Precision Score : 0.7809333333333334\n",
      "Recall Score : 0.7809333333333334\n",
      "F1 Score : 0.7809333333333334\n"
     ]
    }
   ],
   "source": [
    "# New Model Evaluation metrics for test data (-ve replaced)(data = cleanedcreditcard_2)(without sampling)\n",
    "print('Accuracy Score : ' + str(accuracy_score(y_test,y_pred_test)))\n",
    "print('Precision Score : ' + str(precision_score(y_test,y_pred_test, average='micro')))\n",
    "print('Recall Score : ' + str(recall_score(y_test,y_pred_test, average='micro')))\n",
    "print('F1 Score : ' + str(f1_score(y_test,y_pred_test, average='micro')))"
   ]
  },
  {
   "cell_type": "code",
   "execution_count": 41,
   "metadata": {},
   "outputs": [
    {
     "name": "stdout",
     "output_type": "stream",
     "text": [
      "Accuracy Score : 0.5885213262883835\n",
      "Precision Score : 0.5885213262883835\n",
      "Recall Score : 0.5885213262883835\n",
      "F1 Score : 0.5885213262883835\n"
     ]
    }
   ],
   "source": [
    "# # New Model Evaluation metrics for train data (-ve replaced)(data = cleanedcreditcard_2)\n",
    "# print('Accuracy Score : ' + str(accuracy_score(y_train,y_pred_train)))\n",
    "# print('Precision Score : ' + str(precision_score(y_train,y_pred_train, average='micro')))\n",
    "# print('Recall Score : ' + str(recall_score(y_train,y_pred_train, average='micro')))\n",
    "# print('F1 Score : ' + str(f1_score(y_train,y_pred_train, average='micro')))"
   ]
  },
  {
   "cell_type": "code",
   "execution_count": 28,
   "metadata": {},
   "outputs": [
    {
     "name": "stdout",
     "output_type": "stream",
     "text": [
      "Accuracy Score : 0.7789333333333334\n",
      "Precision Score : 0.7789333333333334\n",
      "Recall Score : 0.7789333333333334\n",
      "F1 Score : 0.7789333333333334\n"
     ]
    }
   ],
   "source": [
    "# New Model Evaluation metrics for train data (-ve replaced)(data = cleanedcreditcard_2) (without sampling)\n",
    "print('Accuracy Score : ' + str(accuracy_score(y_train,y_pred_train)))\n",
    "print('Precision Score : ' + str(precision_score(y_train,y_pred_train, average='micro')))\n",
    "print('Recall Score : ' + str(recall_score(y_train,y_pred_train, average='micro')))\n",
    "print('F1 Score : ' + str(f1_score(y_train,y_pred_train, average='micro')))"
   ]
  },
  {
   "cell_type": "code",
   "execution_count": 37,
   "metadata": {},
   "outputs": [
    {
     "name": "stdout",
     "output_type": "stream",
     "text": [
      "Accuracy Score : 0.5153916838961635\n",
      "Precision Score : 0.5153916838961635\n",
      "Recall Score : 0.5153916838961635\n",
      "F1 Score : 0.5153916838961635\n"
     ]
    }
   ],
   "source": [
    "# New Model Evaluation metrics for test data (without -ve replaced)(data = cleanedcreditcard_1)\n",
    "print('Accuracy Score : ' + str(accuracy_score(y_test,y_pred_test)))\n",
    "print('Precision Score : ' + str(precision_score(y_test,y_pred_test, average='micro')))\n",
    "print('Recall Score : ' + str(recall_score(y_test,y_pred_test, average='micro')))\n",
    "print('F1 Score : ' + str(f1_score(y_test,y_pred_test, average='micro')))"
   ]
  },
  {
   "cell_type": "code",
   "execution_count": 38,
   "metadata": {},
   "outputs": [
    {
     "name": "stdout",
     "output_type": "stream",
     "text": [
      "Accuracy Score : 0.5885596140592695\n",
      "Precision Score : 0.5885596140592695\n",
      "Recall Score : 0.5885596140592695\n",
      "F1 Score : 0.5885596140592695\n"
     ]
    }
   ],
   "source": [
    "# New Model Evaluation metrics for train data (data = cleanedcreditcard_1)\n",
    "print('Accuracy Score : ' + str(accuracy_score(y_train,y_pred_train)))\n",
    "print('Precision Score : ' + str(precision_score(y_train,y_pred_train, average='micro')))\n",
    "print('Recall Score : ' + str(recall_score(y_train,y_pred_train, average='micro')))\n",
    "print('F1 Score : ' + str(f1_score(y_train,y_pred_train, average='micro')))"
   ]
  },
  {
   "cell_type": "code",
   "execution_count": 89,
   "metadata": {},
   "outputs": [
    {
     "name": "stdout",
     "output_type": "stream",
     "text": [
      "Accuracy Score : 0.7809333333333334\n",
      "Precision Score : 0.7222222222222222\n",
      "Recall Score : 0.01567209162145871\n",
      "F1 Score : 0.030678466076696168\n"
     ]
    }
   ],
   "source": [
    "# # New Model Evaluation metrics for test data (without -ve replace)(data = cleanedcreditcard_2)\n",
    "# print('Accuracy Score : ' + str(accuracy_score(y_test,y_pred_test)))\n",
    "# print('Precision Score : ' + str(precision_score(y_test,y_pred_test)))\n",
    "# print('Recall Score : ' + str(recall_score(y_test,y_pred_test)))\n",
    "# print('F1 Score : ' + str(f1_score(y_test,y_pred_test)))"
   ]
  },
  {
   "cell_type": "code",
   "execution_count": 90,
   "metadata": {},
   "outputs": [
    {
     "name": "stdout",
     "output_type": "stream",
     "text": [
      "Accuracy Score : 0.7786666666666666\n",
      "Precision Score : 0.2857142857142857\n",
      "Recall Score : 0.0004018485031143259\n",
      "F1 Score : 0.0008025682182985555\n"
     ]
    }
   ],
   "source": [
    "# # New Model Evaluation metrics for train data (without -ve replace)(data = cleanedcreditcard_2)\n",
    "# print('Accuracy Score : ' + str(accuracy_score(y_train,y_pred_train)))\n",
    "# print('Precision Score : ' + str(precision_score(y_train,y_pred_train)))\n",
    "# print('Recall Score : ' + str(recall_score(y_train,y_pred_train)))\n",
    "# print('F1 Score : ' + str(f1_score(y_train,y_pred_train)))"
   ]
  },
  {
   "cell_type": "code",
   "execution_count": 92,
   "metadata": {},
   "outputs": [
    {
     "name": "stdout",
     "output_type": "stream",
     "text": [
      "True Positives: 26\n",
      "False Positive: 10\n",
      "True Negative: 5831\n",
      "False Negative: 1633\n",
      "Precision: 0.72\n",
      "Recall: 0.02\n",
      "Problematic ratio: 0.98\n"
     ]
    }
   ],
   "source": [
    "# TP = np.sum(np.logical_and(y_pred_test == 1, y_test == 1))\n",
    "# TN = np.sum(np.logical_and(y_pred_test == 0, y_test == 0))\n",
    "# FP = np.sum(np.logical_and(y_pred_test == 1, y_test == 0))\n",
    "# FN = np.sum(np.logical_and(y_pred_test == 0, y_test == 1))\n",
    "# pred = len(y_pred_test)\n",
    "\n",
    "# print('True Positives: {}'.format(TP))\n",
    "# print('False Positive: {}'.format(FP))\n",
    "# print('True Negative: {}'.format(TN))\n",
    "# print('False Negative: {}'.format(FN))\n",
    "# print('Precision: {}'.format(round(TP/(TP+FP),2)))\n",
    "# print('Recall: {}'.format(round(TP/(TP+FN),2)))\n",
    "# print('Problematic ratio: {}'.format(round(FN/(FN+TP),2)))"
   ]
  },
  {
   "cell_type": "markdown",
   "metadata": {},
   "source": [
    "### Deep learning "
   ]
  },
  {
   "cell_type": "code",
   "execution_count": 34,
   "metadata": {},
   "outputs": [],
   "source": [
    "import tensorflow as tf\n",
    "import keras \n",
    "import time \n",
    "from keras.models import Sequential #(used to initialise the nural network)\n",
    "from keras.layers import Dense #(used to create the layers in ANN)"
   ]
  },
  {
   "cell_type": "code",
   "execution_count": 35,
   "metadata": {},
   "outputs": [],
   "source": [
    "from tensorflow.keras import layers\n",
    "import tensorflow_datasets as tfds#contains tokeniser  \n",
    "from keras.layers import Dropout"
   ]
  },
  {
   "cell_type": "code",
   "execution_count": 36,
   "metadata": {},
   "outputs": [],
   "source": [
    "# Initialising the ANN\n",
    "classifier = Sequential()"
   ]
  },
  {
   "cell_type": "code",
   "execution_count": 37,
   "metadata": {},
   "outputs": [
    {
     "data": {
      "text/plain": [
       "(22500,)"
      ]
     },
     "execution_count": 37,
     "metadata": {},
     "output_type": "execute_result"
    }
   ],
   "source": [
    "y_train.shape"
   ]
  },
  {
   "cell_type": "code",
   "execution_count": 38,
   "metadata": {},
   "outputs": [
    {
     "data": {
      "text/plain": [
       "(22500, 23)"
      ]
     },
     "execution_count": 38,
     "metadata": {},
     "output_type": "execute_result"
    }
   ],
   "source": [
    "X_train.shape"
   ]
  },
  {
   "cell_type": "code",
   "execution_count": 39,
   "metadata": {},
   "outputs": [],
   "source": [
    "from keras.wrappers.scikit_learn import KerasClassifier\n",
    "from sklearn.model_selection import GridSearchCV\n",
    "from keras.models import Sequential\n",
    "from keras.layers import Dense"
   ]
  },
  {
   "cell_type": "code",
   "execution_count": 40,
   "metadata": {},
   "outputs": [],
   "source": [
    "def build_classifier(optimizer):\n",
    "    classifier = Sequential()\n",
    "    classifier.add(Dense(units = 11, kernel_initializer = 'uniform', activation = 'relu', input_dim = 23))\n",
    "    classifier.add(Dense(units = 11, kernel_initializer = 'uniform', activation = 'relu'))\n",
    "    classifier.add(Dense(units = 1, kernel_initializer = 'uniform', activation = 'sigmoid'))\n",
    "    classifier.compile(optimizer = optimizer, loss = 'binary_crossentropy', metrics = ['accuracy'])\n",
    "    return classifier"
   ]
  },
  {
   "cell_type": "code",
   "execution_count": 41,
   "metadata": {},
   "outputs": [],
   "source": [
    "classifier = KerasClassifier(build_fn = build_classifier)\n",
    "parameters = {'batch_size': [25, 32],\n",
    "              'epochs': [10],\n",
    "              'optimizer': ['adam', 'rmsprop']}\n",
    "grid_search = GridSearchCV(estimator = classifier,\n",
    "                           param_grid = parameters,\n",
    "                           scoring = 'accuracy',\n",
    "                           cv = 10)"
   ]
  },
  {
   "cell_type": "code",
   "execution_count": 42,
   "metadata": {},
   "outputs": [],
   "source": [
    "y_test = y_test.astype('int')"
   ]
  },
  {
   "cell_type": "code",
   "execution_count": 43,
   "metadata": {},
   "outputs": [],
   "source": [
    "y_train = y_train.astype('int')"
   ]
  },
  {
   "cell_type": "code",
   "execution_count": 44,
   "metadata": {},
   "outputs": [
    {
     "name": "stdout",
     "output_type": "stream",
     "text": [
      "CPU times: user 2 µs, sys: 0 ns, total: 2 µs\n",
      "Wall time: 5.01 µs\n",
      "Epoch 1/10\n",
      "20250/20250 [==============================] - 2s 75us/step - loss: 0.5416 - accuracy: 0.7737\n",
      "Epoch 2/10\n",
      "20250/20250 [==============================] - 2s 75us/step - loss: 0.5124 - accuracy: 0.7802\n",
      "Epoch 3/10\n",
      "20250/20250 [==============================] - 3s 147us/step - loss: 0.5085 - accuracy: 0.7803\n",
      "Epoch 4/10\n",
      "20250/20250 [==============================] - 3s 147us/step - loss: 0.5078 - accuracy: 0.7803\n",
      "Epoch 5/10\n",
      "20250/20250 [==============================] - 2s 118us/step - loss: 0.5078 - accuracy: 0.7803\n",
      "Epoch 6/10\n",
      "20250/20250 [==============================] - 3s 134us/step - loss: 0.5065 - accuracy: 0.7805\n",
      "Epoch 7/10\n",
      "20250/20250 [==============================] - 5s 253us/step - loss: 0.5059 - accuracy: 0.78051s\n",
      "Epoch 8/10\n",
      "20250/20250 [==============================] - 4s 176us/step - loss: 0.5071 - accuracy: 0.7798\n",
      "Epoch 9/10\n",
      "20250/20250 [==============================] - 3s 160us/step - loss: 0.5070 - accuracy: 0.78031s - loss:\n",
      "Epoch 10/10\n",
      "20250/20250 [==============================] - 2s 123us/step - loss: 0.5046 - accuracy: 0.7803\n",
      "Epoch 1/10\n",
      "20250/20250 [==============================] - 2s 118us/step - loss: 0.9253 - accuracy: 0.7576\n",
      "Epoch 2/10\n",
      "20250/20250 [==============================] - 2s 82us/step - loss: 0.5195 - accuracy: 0.7772\n",
      "Epoch 3/10\n",
      "20250/20250 [==============================] - 2s 77us/step - loss: 0.5166 - accuracy: 0.7782\n",
      "Epoch 4/10\n",
      "20250/20250 [==============================] - 2s 80us/step - loss: 0.5140 - accuracy: 0.7784\n",
      "Epoch 5/10\n",
      "20250/20250 [==============================] - 2s 89us/step - loss: 0.5129 - accuracy: 0.7784\n",
      "Epoch 6/10\n",
      "20250/20250 [==============================] - 2s 81us/step - loss: 0.5124 - accuracy: 0.7783\n",
      "Epoch 7/10\n",
      "20250/20250 [==============================] - 2s 108us/step - loss: 0.5107 - accuracy: 0.7784\n",
      "Epoch 8/10\n",
      "20250/20250 [==============================] - 5s 246us/step - loss: 0.5122 - accuracy: 0.7784\n",
      "Epoch 9/10\n",
      "20250/20250 [==============================] - 5s 256us/step - loss: 0.5105 - accuracy: 0.77841s - loss: - ETA: 0s - loss:\n",
      "Epoch 10/10\n",
      "20250/20250 [==============================] - 4s 199us/step - loss: 0.5106 - accuracy: 0.7784\n",
      "Epoch 1/10\n",
      "20250/20250 [==============================] - 2s 123us/step - loss: 0.5535 - accuracy: 0.7729\n",
      "Epoch 2/10\n",
      "20250/20250 [==============================] - 2s 107us/step - loss: 0.5200 - accuracy: 0.7770\n",
      "Epoch 3/10\n",
      "20250/20250 [==============================] - 2s 113us/step - loss: 0.5164 - accuracy: 0.7771\n",
      "Epoch 4/10\n",
      "20250/20250 [==============================] - 2s 100us/step - loss: 0.5154 - accuracy: 0.7772\n",
      "Epoch 5/10\n",
      "20250/20250 [==============================] - 2s 110us/step - loss: 0.5135 - accuracy: 0.7771\n",
      "Epoch 6/10\n",
      "20250/20250 [==============================] - 2s 105us/step - loss: 0.5117 - accuracy: 0.7775\n",
      "Epoch 7/10\n",
      "20250/20250 [==============================] - 2s 86us/step - loss: 0.5108 - accuracy: 0.7773\n",
      "Epoch 8/10\n",
      "20250/20250 [==============================] - 2s 100us/step - loss: 0.5103 - accuracy: 0.7775\n",
      "Epoch 9/10\n",
      "20250/20250 [==============================] - 2s 88us/step - loss: 0.5102 - accuracy: 0.7773\n",
      "Epoch 10/10\n",
      "20250/20250 [==============================] - 3s 142us/step - loss: 0.5111 - accuracy: 0.7773\n",
      "Epoch 1/10\n",
      "20250/20250 [==============================] - 2s 121us/step - loss: 0.5793 - accuracy: 0.7720\n",
      "Epoch 2/10\n",
      "20250/20250 [==============================] - 2s 116us/step - loss: 0.5157 - accuracy: 0.7789\n",
      "Epoch 3/10\n",
      "20250/20250 [==============================] - 2s 87us/step - loss: 0.5122 - accuracy: 0.7790\n",
      "Epoch 4/10\n",
      "20250/20250 [==============================] - 4s 174us/step - loss: 0.5106 - accuracy: 0.7788\n",
      "Epoch 5/10\n",
      "20250/20250 [==============================] - 5s 243us/step - loss: 0.5094 - accuracy: 0.7788\n",
      "Epoch 6/10\n",
      "20250/20250 [==============================] - 4s 216us/step - loss: 0.5091 - accuracy: 0.7790\n",
      "Epoch 7/10\n",
      "20250/20250 [==============================] - 2s 105us/step - loss: 0.5093 - accuracy: 0.7789\n",
      "Epoch 8/10\n",
      "20250/20250 [==============================] - 2s 78us/step - loss: 0.5091 - accuracy: 0.7790\n",
      "Epoch 9/10\n",
      "20250/20250 [==============================] - 2s 91us/step - loss: 0.5091 - accuracy: 0.7790\n",
      "Epoch 10/10\n",
      "20250/20250 [==============================] - 2s 112us/step - loss: 0.5104 - accuracy: 0.7790\n",
      "Epoch 1/10\n",
      "20250/20250 [==============================] - 2s 100us/step - loss: 0.5612 - accuracy: 0.7697\n",
      "Epoch 2/10\n",
      "20250/20250 [==============================] - 2s 85us/step - loss: 0.5148 - accuracy: 0.7794\n",
      "Epoch 3/10\n",
      "20250/20250 [==============================] - 2s 93us/step - loss: 0.5109 - accuracy: 0.7795\n",
      "Epoch 4/10\n",
      "20250/20250 [==============================] - 2s 87us/step - loss: 0.5087 - accuracy: 0.7795\n",
      "Epoch 5/10\n",
      "20250/20250 [==============================] - 2s 92us/step - loss: 0.5093 - accuracy: 0.7794\n",
      "Epoch 6/10\n",
      "20250/20250 [==============================] - 3s 127us/step - loss: 0.5099 - accuracy: 0.7795\n",
      "Epoch 7/10\n",
      "20250/20250 [==============================] - 2s 90us/step - loss: 0.5083 - accuracy: 0.7795\n",
      "Epoch 8/10\n",
      "20250/20250 [==============================] - 2s 94us/step - loss: 0.5084 - accuracy: 0.7795\n",
      "Epoch 9/10\n",
      "20250/20250 [==============================] - 2s 90us/step - loss: 0.5074 - accuracy: 0.7795\n",
      "Epoch 10/10\n",
      "20250/20250 [==============================] - 2s 101us/step - loss: 0.5086 - accuracy: 0.7795\n",
      "Epoch 1/10\n",
      "20250/20250 [==============================] - 2s 92us/step - loss: 0.6632 - accuracy: 0.7692\n",
      "Epoch 2/10\n",
      "20250/20250 [==============================] - 2s 82us/step - loss: 0.5133 - accuracy: 0.7799\n",
      "Epoch 3/10\n",
      "20250/20250 [==============================] - 2s 82us/step - loss: 0.5123 - accuracy: 0.7797\n",
      "Epoch 4/10\n",
      "20250/20250 [==============================] - 2s 78us/step - loss: 0.5101 - accuracy: 0.7799\n",
      "Epoch 5/10\n",
      "20250/20250 [==============================] - 2s 85us/step - loss: 0.5101 - accuracy: 0.7798\n",
      "Epoch 6/10\n",
      "20250/20250 [==============================] - 2s 84us/step - loss: 0.5086 - accuracy: 0.7798\n",
      "Epoch 7/10\n",
      "20250/20250 [==============================] - 2s 85us/step - loss: 0.5089 - accuracy: 0.7795\n",
      "Epoch 8/10\n",
      "20250/20250 [==============================] - 2s 80us/step - loss: 0.5075 - accuracy: 0.7799\n",
      "Epoch 9/10\n",
      "20250/20250 [==============================] - 2s 86us/step - loss: 0.5078 - accuracy: 0.7798\n",
      "Epoch 10/10\n",
      "20250/20250 [==============================] - 2s 78us/step - loss: 0.5075 - accuracy: 0.7799\n",
      "Epoch 1/10\n",
      "20250/20250 [==============================] - 2s 88us/step - loss: 0.5504 - accuracy: 0.7697\n",
      "Epoch 2/10\n",
      "20250/20250 [==============================] - 2s 85us/step - loss: 0.5164 - accuracy: 0.7770\n",
      "Epoch 3/10\n",
      "20250/20250 [==============================] - 2s 85us/step - loss: 0.5139 - accuracy: 0.7771\n",
      "Epoch 4/10\n",
      "20250/20250 [==============================] - 2s 91us/step - loss: 0.5139 - accuracy: 0.7772\n",
      "Epoch 5/10\n",
      "20250/20250 [==============================] - 2s 83us/step - loss: 0.5122 - accuracy: 0.7771\n",
      "Epoch 6/10\n",
      "20250/20250 [==============================] - 2s 82us/step - loss: 0.5112 - accuracy: 0.7768\n",
      "Epoch 7/10\n",
      "20250/20250 [==============================] - 2s 81us/step - loss: 0.5107 - accuracy: 0.7767 0s - loss:\n",
      "Epoch 8/10\n",
      "20250/20250 [==============================] - 2s 92us/step - loss: 0.5101 - accuracy: 0.7773\n",
      "Epoch 9/10\n",
      "20250/20250 [==============================] - 2s 82us/step - loss: 0.5098 - accuracy: 0.7780\n",
      "Epoch 10/10\n",
      "20250/20250 [==============================] - 2s 78us/step - loss: 0.5095 - accuracy: 0.7773\n",
      "Epoch 1/10\n",
      "20250/20250 [==============================] - 2s 85us/step - loss: 0.5876 - accuracy: 0.7727\n",
      "Epoch 2/10\n",
      "20250/20250 [==============================] - 2s 76us/step - loss: 0.5161 - accuracy: 0.7792\n",
      "Epoch 3/10\n",
      "20250/20250 [==============================] - 2s 83us/step - loss: 0.5108 - accuracy: 0.7790\n",
      "Epoch 4/10\n",
      "20250/20250 [==============================] - 2s 75us/step - loss: 0.5085 - accuracy: 0.7791\n",
      "Epoch 5/10\n",
      "20250/20250 [==============================] - 2s 79us/step - loss: 0.5083 - accuracy: 0.7791\n",
      "Epoch 6/10\n",
      "20250/20250 [==============================] - 2s 82us/step - loss: 0.5077 - accuracy: 0.7791\n",
      "Epoch 7/10\n",
      "20250/20250 [==============================] - 1s 62us/step - loss: 0.5073 - accuracy: 0.7790\n",
      "Epoch 8/10\n",
      "20250/20250 [==============================] - 1s 61us/step - loss: 0.5069 - accuracy: 0.7795\n",
      "Epoch 9/10\n",
      "20250/20250 [==============================] - 1s 60us/step - loss: 0.5074 - accuracy: 0.7800\n",
      "Epoch 10/10\n",
      "20250/20250 [==============================] - 1s 61us/step - loss: 0.5082 - accuracy: 0.7800\n",
      "Epoch 1/10\n",
      "20250/20250 [==============================] - 1s 65us/step - loss: 0.5715 - accuracy: 0.7715\n",
      "Epoch 2/10\n",
      "20250/20250 [==============================] - 1s 59us/step - loss: 0.5181 - accuracy: 0.7777\n",
      "Epoch 3/10\n",
      "20250/20250 [==============================] - 1s 59us/step - loss: 0.5165 - accuracy: 0.7776\n",
      "Epoch 4/10\n",
      "20250/20250 [==============================] - 1s 59us/step - loss: 0.5157 - accuracy: 0.7779\n",
      "Epoch 5/10\n",
      "20250/20250 [==============================] - 1s 58us/step - loss: 0.5145 - accuracy: 0.7779\n",
      "Epoch 6/10\n",
      "20250/20250 [==============================] - 2s 78us/step - loss: 0.5102 - accuracy: 0.7779\n",
      "Epoch 7/10\n",
      "20250/20250 [==============================] - 1s 58us/step - loss: 0.5101 - accuracy: 0.7779\n",
      "Epoch 8/10\n",
      "20250/20250 [==============================] - 1s 59us/step - loss: 0.5111 - accuracy: 0.7779\n",
      "Epoch 9/10\n",
      "20250/20250 [==============================] - 1s 59us/step - loss: 0.5114 - accuracy: 0.7778\n",
      "Epoch 10/10\n",
      "20250/20250 [==============================] - 1s 57us/step - loss: 0.5099 - accuracy: 0.7777\n",
      "Epoch 1/10\n",
      "20250/20250 [==============================] - 1s 68us/step - loss: 0.5492 - accuracy: 0.7734\n",
      "Epoch 2/10\n",
      "20250/20250 [==============================] - 1s 59us/step - loss: 0.5176 - accuracy: 0.7791\n",
      "Epoch 3/10\n",
      "20250/20250 [==============================] - 1s 59us/step - loss: 0.5109 - accuracy: 0.7795\n",
      "Epoch 4/10\n",
      "20250/20250 [==============================] - 1s 58us/step - loss: 0.5096 - accuracy: 0.7795\n",
      "Epoch 5/10\n",
      "20250/20250 [==============================] - 1s 59us/step - loss: 0.5097 - accuracy: 0.7796\n",
      "Epoch 6/10\n",
      "20250/20250 [==============================] - 1s 62us/step - loss: 0.5095 - accuracy: 0.7795\n",
      "Epoch 7/10\n",
      "20250/20250 [==============================] - 1s 60us/step - loss: 0.5076 - accuracy: 0.7795\n",
      "Epoch 8/10\n",
      "20250/20250 [==============================] - 1s 59us/step - loss: 0.5073 - accuracy: 0.7795\n",
      "Epoch 9/10\n",
      "20250/20250 [==============================] - 1s 60us/step - loss: 0.5093 - accuracy: 0.7795\n",
      "Epoch 10/10\n",
      "20250/20250 [==============================] - 1s 59us/step - loss: 0.5065 - accuracy: 0.7796\n",
      "Epoch 1/10\n",
      "20250/20250 [==============================] - 1s 61us/step - loss: 0.5714 - accuracy: 0.7701\n",
      "Epoch 2/10\n",
      "20250/20250 [==============================] - 1s 54us/step - loss: 0.5175 - accuracy: 0.7803\n",
      "Epoch 3/10\n",
      "20250/20250 [==============================] - 1s 54us/step - loss: 0.5176 - accuracy: 0.7801 0s - loss: 0.5203 - accuracy: 0.\n",
      "Epoch 4/10\n",
      "20250/20250 [==============================] - 1s 54us/step - loss: 0.5127 - accuracy: 0.7801\n",
      "Epoch 5/10\n",
      "20250/20250 [==============================] - 1s 55us/step - loss: 0.5137 - accuracy: 0.7801\n",
      "Epoch 6/10\n",
      "20250/20250 [==============================] - 1s 52us/step - loss: 0.5103 - accuracy: 0.7803\n",
      "Epoch 7/10\n",
      "20250/20250 [==============================] - 1s 52us/step - loss: 0.5113 - accuracy: 0.7802\n",
      "Epoch 8/10\n",
      "20250/20250 [==============================] - 1s 56us/step - loss: 0.5116 - accuracy: 0.7802\n",
      "Epoch 9/10\n",
      "20250/20250 [==============================] - 1s 54us/step - loss: 0.5095 - accuracy: 0.7802\n",
      "Epoch 10/10\n",
      "20250/20250 [==============================] - 1s 53us/step - loss: 0.5116 - accuracy: 0.7800\n",
      "Epoch 1/10\n",
      "20250/20250 [==============================] - 1s 61us/step - loss: 0.5912 - accuracy: 0.7647\n",
      "Epoch 2/10\n",
      "20250/20250 [==============================] - 1s 56us/step - loss: 0.5219 - accuracy: 0.7783\n",
      "Epoch 3/10\n",
      "20250/20250 [==============================] - 1s 54us/step - loss: 0.5172 - accuracy: 0.7784\n",
      "Epoch 4/10\n",
      "20250/20250 [==============================] - 1s 53us/step - loss: 0.5166 - accuracy: 0.7784\n",
      "Epoch 5/10\n",
      "20250/20250 [==============================] - 1s 53us/step - loss: 0.5151 - accuracy: 0.7784\n",
      "Epoch 6/10\n",
      "20250/20250 [==============================] - 1s 51us/step - loss: 0.5167 - accuracy: 0.7784\n",
      "Epoch 7/10\n",
      "20250/20250 [==============================] - 1s 52us/step - loss: 0.5153 - accuracy: 0.7784\n",
      "Epoch 8/10\n",
      "20250/20250 [==============================] - 1s 50us/step - loss: 0.5155 - accuracy: 0.7784\n",
      "Epoch 9/10\n",
      "20250/20250 [==============================] - 1s 50us/step - loss: 0.5144 - accuracy: 0.7784\n",
      "Epoch 10/10\n",
      "20250/20250 [==============================] - 1s 50us/step - loss: 0.5156 - accuracy: 0.7784\n",
      "Epoch 1/10\n",
      "20250/20250 [==============================] - 1s 58us/step - loss: 0.5707 - accuracy: 0.7658\n",
      "Epoch 2/10\n",
      "20250/20250 [==============================] - 1s 53us/step - loss: 0.5206 - accuracy: 0.7769\n",
      "Epoch 3/10\n",
      "20250/20250 [==============================] - 1s 52us/step - loss: 0.5168 - accuracy: 0.7774\n",
      "Epoch 4/10\n",
      "20250/20250 [==============================] - 1s 52us/step - loss: 0.5176 - accuracy: 0.7770\n",
      "Epoch 5/10\n",
      "20250/20250 [==============================] - 1s 59us/step - loss: 0.5168 - accuracy: 0.7773\n",
      "Epoch 6/10\n",
      "20250/20250 [==============================] - 1s 50us/step - loss: 0.5192 - accuracy: 0.7774\n",
      "Epoch 7/10\n",
      "20250/20250 [==============================] - 1s 51us/step - loss: 0.5164 - accuracy: 0.7773\n",
      "Epoch 8/10\n",
      "20250/20250 [==============================] - 1s 50us/step - loss: 0.5181 - accuracy: 0.7774\n",
      "Epoch 9/10\n",
      "20250/20250 [==============================] - 1s 52us/step - loss: 0.5201 - accuracy: 0.7773\n",
      "Epoch 10/10\n",
      "20250/20250 [==============================] - 1s 51us/step - loss: 0.5182 - accuracy: 0.7774\n",
      "Epoch 1/10\n",
      "20250/20250 [==============================] - 1s 60us/step - loss: 0.5358 - accuracy: 0.7753\n",
      "Epoch 2/10\n",
      "20250/20250 [==============================] - 1s 53us/step - loss: 0.5172 - accuracy: 0.7790\n",
      "Epoch 3/10\n",
      "20250/20250 [==============================] - 1s 51us/step - loss: 0.5186 - accuracy: 0.7790\n",
      "Epoch 4/10\n",
      "20250/20250 [==============================] - 1s 52us/step - loss: 0.5168 - accuracy: 0.7790\n",
      "Epoch 5/10\n",
      "20250/20250 [==============================] - 1s 52us/step - loss: 0.5163 - accuracy: 0.7785\n",
      "Epoch 6/10\n",
      "20250/20250 [==============================] - 1s 52us/step - loss: 0.5150 - accuracy: 0.7790\n",
      "Epoch 7/10\n",
      "20250/20250 [==============================] - 1s 52us/step - loss: 0.5161 - accuracy: 0.7790\n",
      "Epoch 8/10\n",
      "20250/20250 [==============================] - 1s 51us/step - loss: 0.5148 - accuracy: 0.7789\n",
      "Epoch 9/10\n",
      "20250/20250 [==============================] - 1s 51us/step - loss: 0.5126 - accuracy: 0.7790\n",
      "Epoch 10/10\n",
      "20250/20250 [==============================] - 1s 52us/step - loss: 0.5166 - accuracy: 0.7789\n",
      "Epoch 1/10\n",
      "20250/20250 [==============================] - 1s 59us/step - loss: 0.5609 - accuracy: 0.7702\n",
      "Epoch 2/10\n",
      "20250/20250 [==============================] - 1s 53us/step - loss: 0.5181 - accuracy: 0.7794\n",
      "Epoch 3/10\n",
      "20250/20250 [==============================] - 1s 55us/step - loss: 0.5206 - accuracy: 0.7795\n",
      "Epoch 4/10\n",
      "20250/20250 [==============================] - 1s 56us/step - loss: 0.5165 - accuracy: 0.7795 0s - loss: 0.5141 - accuracy: \n",
      "Epoch 5/10\n",
      "20250/20250 [==============================] - 1s 53us/step - loss: 0.5178 - accuracy: 0.7795\n",
      "Epoch 6/10\n",
      "20250/20250 [==============================] - 1s 52us/step - loss: 0.5164 - accuracy: 0.7795\n",
      "Epoch 7/10\n",
      "20250/20250 [==============================] - 1s 53us/step - loss: 0.5185 - accuracy: 0.7795\n",
      "Epoch 8/10\n",
      "20250/20250 [==============================] - 1s 53us/step - loss: 0.5186 - accuracy: 0.7795\n",
      "Epoch 9/10\n",
      "20250/20250 [==============================] - 1s 53us/step - loss: 0.5186 - accuracy: 0.7795\n",
      "Epoch 10/10\n",
      "20250/20250 [==============================] - 1s 52us/step - loss: 0.5165 - accuracy: 0.7795\n",
      "Epoch 1/10\n",
      "20250/20250 [==============================] - 1s 57us/step - loss: 0.6021 - accuracy: 0.7671\n",
      "Epoch 2/10\n",
      "20250/20250 [==============================] - 1s 62us/step - loss: 0.5172 - accuracy: 0.7798\n",
      "Epoch 3/10\n",
      "20250/20250 [==============================] - 1s 50us/step - loss: 0.5154 - accuracy: 0.7798\n",
      "Epoch 4/10\n"
     ]
    },
    {
     "name": "stdout",
     "output_type": "stream",
     "text": [
      "20250/20250 [==============================] - 1s 71us/step - loss: 0.5150 - accuracy: 0.7799\n",
      "Epoch 5/10\n",
      "20250/20250 [==============================] - 1s 61us/step - loss: 0.5141 - accuracy: 0.7797\n",
      "Epoch 6/10\n",
      "20250/20250 [==============================] - 1s 62us/step - loss: 0.5113 - accuracy: 0.7799\n",
      "Epoch 7/10\n",
      "20250/20250 [==============================] - 1s 60us/step - loss: 0.5123 - accuracy: 0.7799\n",
      "Epoch 8/10\n",
      "20250/20250 [==============================] - 1s 63us/step - loss: 0.5134 - accuracy: 0.7798\n",
      "Epoch 9/10\n",
      "20250/20250 [==============================] - 1s 61us/step - loss: 0.5132 - accuracy: 0.7799 0s - loss: 0.5142 - accuracy:  - ETA: 0s - loss: 0.516\n",
      "Epoch 10/10\n",
      "20250/20250 [==============================] - 1s 59us/step - loss: 0.5158 - accuracy: 0.7799\n",
      "Epoch 1/10\n",
      "20250/20250 [==============================] - 1s 71us/step - loss: 0.5662 - accuracy: 0.7697\n",
      "Epoch 2/10\n",
      "20250/20250 [==============================] - 1s 62us/step - loss: 0.5196 - accuracy: 0.7770\n",
      "Epoch 3/10\n",
      "20250/20250 [==============================] - 1s 64us/step - loss: 0.5192 - accuracy: 0.7772 0s - loss: 0.516 - ETA: 0s - loss: 0.5176 - accuracy: \n",
      "Epoch 4/10\n",
      "20250/20250 [==============================] - 2s 80us/step - loss: 0.5174 - accuracy: 0.7772\n",
      "Epoch 5/10\n",
      "20250/20250 [==============================] - 2s 85us/step - loss: 0.5192 - accuracy: 0.7772\n",
      "Epoch 6/10\n",
      "20250/20250 [==============================] - 2s 74us/step - loss: 0.5172 - accuracy: 0.7772\n",
      "Epoch 7/10\n",
      "20250/20250 [==============================] - 4s 222us/step - loss: 0.5211 - accuracy: 0.7772\n",
      "Epoch 8/10\n",
      "20250/20250 [==============================] - 2s 84us/step - loss: 0.5188 - accuracy: 0.7771\n",
      "Epoch 9/10\n",
      "20250/20250 [==============================] - 2s 103us/step - loss: 0.5193 - accuracy: 0.7772\n",
      "Epoch 10/10\n",
      "20250/20250 [==============================] - 2s 79us/step - loss: 0.5196 - accuracy: 0.7772\n",
      "Epoch 1/10\n",
      "20250/20250 [==============================] - 2s 110us/step - loss: 0.5940 - accuracy: 0.7661\n",
      "Epoch 2/10\n",
      "20250/20250 [==============================] - 3s 124us/step - loss: 0.5180 - accuracy: 0.7791\n",
      "Epoch 3/10\n",
      "20250/20250 [==============================] - 2s 96us/step - loss: 0.5190 - accuracy: 0.7785\n",
      "Epoch 4/10\n",
      "20250/20250 [==============================] - 1s 66us/step - loss: 0.5176 - accuracy: 0.7791 \n",
      "Epoch 5/10\n",
      "20250/20250 [==============================] - 2s 94us/step - loss: 0.5173 - accuracy: 0.7790\n",
      "Epoch 6/10\n",
      "20250/20250 [==============================] - 2s 99us/step - loss: 0.5180 - accuracy: 0.7791\n",
      "Epoch 7/10\n",
      "20250/20250 [==============================] - 2s 93us/step - loss: 0.5188 - accuracy: 0.7791\n",
      "Epoch 8/10\n",
      "20250/20250 [==============================] - 2s 90us/step - loss: 0.5185 - accuracy: 0.7791\n",
      "Epoch 9/10\n",
      "20250/20250 [==============================] - 1s 73us/step - loss: 0.5179 - accuracy: 0.7791\n",
      "Epoch 10/10\n",
      "20250/20250 [==============================] - 1s 73us/step - loss: 0.5197 - accuracy: 0.7791\n",
      "Epoch 1/10\n",
      "20250/20250 [==============================] - 3s 132us/step - loss: 0.5579 - accuracy: 0.7704\n",
      "Epoch 2/10\n",
      "20250/20250 [==============================] - 2s 77us/step - loss: 0.5246 - accuracy: 0.7779 1s - loss: 0.4992 - accura - ETA: 1s - loss: 0.5134  - ETA: 0s - loss: 0\n",
      "Epoch 3/10\n",
      "20250/20250 [==============================] - 2s 79us/step - loss: 0.5206 - accuracy: 0.7778 0s - loss: 0.5188 - accu\n",
      "Epoch 4/10\n",
      "20250/20250 [==============================] - 1s 63us/step - loss: 0.5235 - accuracy: 0.7779\n",
      "Epoch 5/10\n",
      "20250/20250 [==============================] - 1s 64us/step - loss: 0.5235 - accuracy: 0.7776\n",
      "Epoch 6/10\n",
      "20250/20250 [==============================] - 1s 62us/step - loss: 0.5209 - accuracy: 0.7779\n",
      "Epoch 7/10\n",
      "20250/20250 [==============================] - 1s 62us/step - loss: 0.5233 - accuracy: 0.7779\n",
      "Epoch 8/10\n",
      "20250/20250 [==============================] - 1s 68us/step - loss: 0.5224 - accuracy: 0.7779 0s - loss: 0.523 - ETA: 0s - loss: 0.5232 - accuracy: 0. - ETA: 0s - loss: 0.5235 - ac\n",
      "Epoch 9/10\n",
      "20250/20250 [==============================] - 1s 72us/step - loss: 0.5235 - accuracy: 0.7779\n",
      "Epoch 10/10\n",
      "20250/20250 [==============================] - 2s 75us/step - loss: 0.5241 - accuracy: 0.7779\n",
      "Epoch 1/10\n",
      "20250/20250 [==============================] - 2s 75us/step - loss: 0.5767 - accuracy: 0.7670\n",
      "Epoch 2/10\n",
      "20250/20250 [==============================] - 1s 72us/step - loss: 0.5154 - accuracy: 0.7795\n",
      "Epoch 3/10\n",
      "20250/20250 [==============================] - 2s 75us/step - loss: 0.5133 - accuracy: 0.7794\n",
      "Epoch 4/10\n",
      "20250/20250 [==============================] - 1s 66us/step - loss: 0.5157 - accuracy: 0.7791 0s - loss: - ETA: 0s - loss: 0.5159 - accura\n",
      "Epoch 5/10\n",
      "20250/20250 [==============================] - 1s 72us/step - loss: 0.5178 - accuracy: 0.7796\n",
      "Epoch 6/10\n",
      "20250/20250 [==============================] - 2s 76us/step - loss: 0.5173 - accuracy: 0.7796 0s -\n",
      "Epoch 7/10\n",
      "20250/20250 [==============================] - 1s 70us/step - loss: 0.5190 - accuracy: 0.7796\n",
      "Epoch 8/10\n",
      "20250/20250 [==============================] - 2s 93us/step - loss: 0.5168 - accuracy: 0.7794\n",
      "Epoch 9/10\n",
      "20250/20250 [==============================] - 1s 61us/step - loss: 0.5177 - accuracy: 0.7796\n",
      "Epoch 10/10\n",
      "20250/20250 [==============================] - 1s 62us/step - loss: 0.5189 - accuracy: 0.7794\n",
      "Epoch 1/10\n",
      "20250/20250 [==============================] - 2s 74us/step - loss: 0.5343 - accuracy: 0.7755 0s - l\n",
      "Epoch 2/10\n",
      "20250/20250 [==============================] - 1s 63us/step - loss: 0.5132 - accuracy: 0.7798\n",
      "Epoch 3/10\n",
      "20250/20250 [==============================] - 1s 64us/step - loss: 0.5098 - accuracy: 0.7803\n",
      "Epoch 4/10\n",
      "20250/20250 [==============================] - 1s 73us/step - loss: 0.5063 - accuracy: 0.7804\n",
      "Epoch 5/10\n",
      "20250/20250 [==============================] - 1s 74us/step - loss: 0.5064 - accuracy: 0.7803 0s - loss: 0.5017 - ac - ETA: 0s - loss: 0\n",
      "Epoch 6/10\n",
      "20250/20250 [==============================] - 2s 98us/step - loss: 0.5051 - accuracy: 0.7804\n",
      "Epoch 7/10\n",
      "20250/20250 [==============================] - 2s 76us/step - loss: 0.5061 - accuracy: 0.7803 0s - loss: 0.5070 - accura\n",
      "Epoch 8/10\n",
      "20250/20250 [==============================] - 2s 76us/step - loss: 0.5059 - accuracy: 0.7803\n",
      "Epoch 9/10\n",
      "20250/20250 [==============================] - 2s 89us/step - loss: 0.5060 - accuracy: 0.7801\n",
      "Epoch 10/10\n",
      "20250/20250 [==============================] - 1s 70us/step - loss: 0.5045 - accuracy: 0.7803 \n",
      "Epoch 1/10\n",
      "20250/20250 [==============================] - 1s 72us/step - loss: 0.5645 - accuracy: 0.7739\n",
      "Epoch 2/10\n",
      "20250/20250 [==============================] - 1s 51us/step - loss: 0.5157 - accuracy: 0.7782 0s - loss: 0.5156 - accuracy: 0.77\n",
      "Epoch 3/10\n",
      "20250/20250 [==============================] - 1s 60us/step - loss: 0.5129 - accuracy: 0.7784\n",
      "Epoch 4/10\n",
      "20250/20250 [==============================] - 1s 54us/step - loss: 0.5109 - accuracy: 0.7784\n",
      "Epoch 5/10\n",
      "20250/20250 [==============================] - 1s 58us/step - loss: 0.5097 - accuracy: 0.7784\n",
      "Epoch 6/10\n",
      "20250/20250 [==============================] - 1s 55us/step - loss: 0.5078 - accuracy: 0.7784 0s - loss: 0\n",
      "Epoch 7/10\n",
      "20250/20250 [==============================] - 1s 50us/step - loss: 0.5080 - accuracy: 0.7784\n",
      "Epoch 8/10\n",
      "20250/20250 [==============================] - 1s 73us/step - loss: 0.5066 - accuracy: 0.7784 0s - loss: 0.5058 - accuracy: 0.\n",
      "Epoch 9/10\n",
      "20250/20250 [==============================] - 2s 85us/step - loss: 0.5090 - accuracy: 0.7783\n",
      "Epoch 10/10\n",
      "20250/20250 [==============================] - 2s 82us/step - loss: 0.5078 - accuracy: 0.7784\n",
      "Epoch 1/10\n",
      "20250/20250 [==============================] - 2s 79us/step - loss: 0.6018 - accuracy: 0.7679\n",
      "Epoch 2/10\n",
      "20250/20250 [==============================] - 2s 96us/step - loss: 0.5225 - accuracy: 0.7774 0s - loss: 0.5268 \n",
      "Epoch 3/10\n",
      "20250/20250 [==============================] - 2s 81us/step - loss: 0.5278 - accuracy: 0.7772\n",
      "Epoch 4/10\n",
      "20250/20250 [==============================] - 1s 59us/step - loss: 0.5147 - accuracy: 0.7774 \n",
      "Epoch 5/10\n",
      "20250/20250 [==============================] - 1s 54us/step - loss: 0.5114 - accuracy: 0.7774\n",
      "Epoch 6/10\n",
      "20250/20250 [==============================] - 1s 51us/step - loss: 0.5117 - accuracy: 0.7774\n",
      "Epoch 7/10\n"
     ]
    },
    {
     "name": "stdout",
     "output_type": "stream",
     "text": [
      "20250/20250 [==============================] - 1s 62us/step - loss: 0.5118 - accuracy: 0.7774\n",
      "Epoch 8/10\n",
      "20250/20250 [==============================] - 1s 56us/step - loss: 0.5106 - accuracy: 0.7774\n",
      "Epoch 9/10\n",
      "20250/20250 [==============================] - 1s 60us/step - loss: 0.5114 - accuracy: 0.7774\n",
      "Epoch 10/10\n",
      "20250/20250 [==============================] - 1s 60us/step - loss: 0.5109 - accuracy: 0.7774\n",
      "Epoch 1/10\n",
      "20250/20250 [==============================] - 1s 70us/step - loss: 0.5321 - accuracy: 0.7759\n",
      "Epoch 2/10\n",
      "20250/20250 [==============================] - 1s 64us/step - loss: 0.5136 - accuracy: 0.7789\n",
      "Epoch 3/10\n",
      "20250/20250 [==============================] - 1s 62us/step - loss: 0.5109 - accuracy: 0.7789\n",
      "Epoch 4/10\n",
      "20250/20250 [==============================] - 1s 52us/step - loss: 0.5085 - accuracy: 0.7790\n",
      "Epoch 5/10\n",
      "20250/20250 [==============================] - 1s 60us/step - loss: 0.5071 - accuracy: 0.7789\n",
      "Epoch 6/10\n",
      "20250/20250 [==============================] - 1s 55us/step - loss: 0.5076 - accuracy: 0.7789 0s - loss: 0.5090 - accura - ETA: 0s - loss: 0.5075 - accuracy: 0.\n",
      "Epoch 7/10\n",
      "20250/20250 [==============================] - 1s 57us/step - loss: 0.5067 - accuracy: 0.7790\n",
      "Epoch 8/10\n",
      "20250/20250 [==============================] - 1s 52us/step - loss: 0.5071 - accuracy: 0.7790\n",
      "Epoch 9/10\n",
      "20250/20250 [==============================] - 1s 62us/step - loss: 0.5068 - accuracy: 0.7787 0s - loss: 0.5057 - accu\n",
      "Epoch 10/10\n",
      "20250/20250 [==============================] - 1s 52us/step - loss: 0.5061 - accuracy: 0.7791\n",
      "Epoch 1/10\n",
      "20250/20250 [==============================] - 1s 56us/step - loss: 0.5780 - accuracy: 0.7685\n",
      "Epoch 2/10\n",
      "20250/20250 [==============================] - 1s 51us/step - loss: 0.5209 - accuracy: 0.7795\n",
      "Epoch 3/10\n",
      "20250/20250 [==============================] - 1s 65us/step - loss: 0.5144 - accuracy: 0.7794 0s - loss: 0.5142 - accuracy: 0.\n",
      "Epoch 4/10\n",
      "20250/20250 [==============================] - 1s 58us/step - loss: 0.5138 - accuracy: 0.7795 0s - loss: 0.5196 - \n",
      "Epoch 5/10\n",
      "20250/20250 [==============================] - 1s 57us/step - loss: 0.5140 - accuracy: 0.7795\n",
      "Epoch 6/10\n",
      "20250/20250 [==============================] - 1s 53us/step - loss: 0.5129 - accuracy: 0.7795\n",
      "Epoch 7/10\n",
      "20250/20250 [==============================] - 1s 52us/step - loss: 0.5106 - accuracy: 0.7795 0s - loss: 0.504\n",
      "Epoch 8/10\n",
      "20250/20250 [==============================] - 1s 51us/step - loss: 0.5126 - accuracy: 0.7793\n",
      "Epoch 9/10\n",
      "20250/20250 [==============================] - 1s 52us/step - loss: 0.5097 - accuracy: 0.7795\n",
      "Epoch 10/10\n",
      "20250/20250 [==============================] - 1s 52us/step - loss: 0.5099 - accuracy: 0.7795\n",
      "Epoch 1/10\n",
      "20250/20250 [==============================] - 1s 58us/step - loss: 0.5596 - accuracy: 0.7679\n",
      "Epoch 2/10\n",
      "20250/20250 [==============================] - 1s 53us/step - loss: 0.5120 - accuracy: 0.7799\n",
      "Epoch 3/10\n",
      "20250/20250 [==============================] - 1s 51us/step - loss: 0.5096 - accuracy: 0.7798 0s - loss: 0.5041 - \n",
      "Epoch 4/10\n",
      "20250/20250 [==============================] - 1s 52us/step - loss: 0.5097 - accuracy: 0.7799\n",
      "Epoch 5/10\n",
      "20250/20250 [==============================] - 1s 69us/step - loss: 0.5094 - accuracy: 0.7795\n",
      "Epoch 6/10\n",
      "20250/20250 [==============================] - 1s 56us/step - loss: 0.5092 - accuracy: 0.7800\n",
      "Epoch 7/10\n",
      "20250/20250 [==============================] - 1s 51us/step - loss: 0.5073 - accuracy: 0.7798\n",
      "Epoch 8/10\n",
      "20250/20250 [==============================] - 1s 49us/step - loss: 0.5079 - accuracy: 0.7799\n",
      "Epoch 9/10\n",
      "20250/20250 [==============================] - 1s 50us/step - loss: 0.5077 - accuracy: 0.7798\n",
      "Epoch 10/10\n",
      "20250/20250 [==============================] - 1s 51us/step - loss: 0.5080 - accuracy: 0.7799 0s - loss: 0.5096 - accuracy: \n",
      "Epoch 1/10\n",
      "20250/20250 [==============================] - 1s 61us/step - loss: 0.5701 - accuracy: 0.7680\n",
      "Epoch 2/10\n",
      "20250/20250 [==============================] - 1s 50us/step - loss: 0.5182 - accuracy: 0.7766\n",
      "Epoch 3/10\n",
      "20250/20250 [==============================] - 1s 49us/step - loss: 0.5153 - accuracy: 0.7772\n",
      "Epoch 4/10\n",
      "20250/20250 [==============================] - 1s 49us/step - loss: 0.5136 - accuracy: 0.7772\n",
      "Epoch 5/10\n",
      "20250/20250 [==============================] - 1s 53us/step - loss: 0.5117 - accuracy: 0.7767\n",
      "Epoch 6/10\n",
      "20250/20250 [==============================] - 1s 51us/step - loss: 0.5114 - accuracy: 0.7772\n",
      "Epoch 7/10\n",
      "20250/20250 [==============================] - 1s 50us/step - loss: 0.5096 - accuracy: 0.7772\n",
      "Epoch 8/10\n",
      "20250/20250 [==============================] - 1s 50us/step - loss: 0.5094 - accuracy: 0.7772\n",
      "Epoch 9/10\n",
      "20250/20250 [==============================] - 1s 49us/step - loss: 0.5109 - accuracy: 0.7772\n",
      "Epoch 10/10\n",
      "20250/20250 [==============================] - 1s 53us/step - loss: 0.5116 - accuracy: 0.7772\n",
      "Epoch 1/10\n",
      "20250/20250 [==============================] - 1s 62us/step - loss: 0.5457 - accuracy: 0.7775\n",
      "Epoch 2/10\n",
      "20250/20250 [==============================] - 1s 51us/step - loss: 0.5135 - accuracy: 0.7791\n",
      "Epoch 3/10\n",
      "20250/20250 [==============================] - 1s 50us/step - loss: 0.5107 - accuracy: 0.7791\n",
      "Epoch 4/10\n",
      "20250/20250 [==============================] - 1s 51us/step - loss: 0.5093 - accuracy: 0.7791\n",
      "Epoch 5/10\n",
      "20250/20250 [==============================] - 2s 96us/step - loss: 0.5121 - accuracy: 0.7791\n",
      "Epoch 6/10\n",
      "20250/20250 [==============================] - 2s 77us/step - loss: 0.5092 - accuracy: 0.7790 0s - loss: 0.5096 - accuracy: 0.77\n",
      "Epoch 7/10\n",
      "20250/20250 [==============================] - 1s 55us/step - loss: 0.5090 - accuracy: 0.7791\n",
      "Epoch 8/10\n",
      "20250/20250 [==============================] - 2s 91us/step - loss: 0.5094 - accuracy: 0.7791 0s - loss: 0.5095 - accuracy: \n",
      "Epoch 9/10\n",
      "20250/20250 [==============================] - 1s 63us/step - loss: 0.5090 - accuracy: 0.7791\n",
      "Epoch 10/10\n",
      "20250/20250 [==============================] - 1s 52us/step - loss: 0.5077 - accuracy: 0.7791\n",
      "Epoch 1/10\n",
      "20250/20250 [==============================] - 2s 82us/step - loss: 0.7269 - accuracy: 0.7510\n",
      "Epoch 2/10\n",
      "20250/20250 [==============================] - 1s 55us/step - loss: 0.5237 - accuracy: 0.7759\n",
      "Epoch 3/10\n",
      "20250/20250 [==============================] - 1s 54us/step - loss: 0.5159 - accuracy: 0.7779\n",
      "Epoch 4/10\n",
      "20250/20250 [==============================] - 1s 53us/step - loss: 0.5132 - accuracy: 0.7774\n",
      "Epoch 5/10\n",
      "20250/20250 [==============================] - 1s 50us/step - loss: 0.5121 - accuracy: 0.7777\n",
      "Epoch 6/10\n",
      "20250/20250 [==============================] - 1s 54us/step - loss: 0.5105 - accuracy: 0.7779\n",
      "Epoch 7/10\n",
      "20250/20250 [==============================] - 1s 54us/step - loss: 0.5094 - accuracy: 0.7779\n",
      "Epoch 8/10\n",
      "20250/20250 [==============================] - 1s 60us/step - loss: 0.5099 - accuracy: 0.7779\n",
      "Epoch 9/10\n",
      "20250/20250 [==============================] - 1s 55us/step - loss: 0.5081 - accuracy: 0.7777\n",
      "Epoch 10/10\n",
      "20250/20250 [==============================] - 2s 89us/step - loss: 0.5098 - accuracy: 0.7776\n",
      "Epoch 1/10\n",
      "20250/20250 [==============================] - 2s 74us/step - loss: 0.5433 - accuracy: 0.7750 1s - los\n",
      "Epoch 2/10\n",
      "20250/20250 [==============================] - 1s 69us/step - loss: 0.5160 - accuracy: 0.7795 0s - loss:\n",
      "Epoch 3/10\n",
      "20250/20250 [==============================] - 1s 53us/step - loss: 0.5113 - accuracy: 0.7795 0s -\n",
      "Epoch 4/10\n",
      "20250/20250 [==============================] - 1s 52us/step - loss: 0.5112 - accuracy: 0.7795\n",
      "Epoch 5/10\n",
      "20250/20250 [==============================] - 1s 51us/step - loss: 0.5093 - accuracy: 0.7794 0s - loss: 0.507\n",
      "Epoch 6/10\n",
      "20250/20250 [==============================] - 1s 51us/step - loss: 0.5083 - accuracy: 0.7794 0s - loss: 0.5074 - accura\n",
      "Epoch 7/10\n",
      "20250/20250 [==============================] - 1s 50us/step - loss: 0.5069 - accuracy: 0.7794\n",
      "Epoch 8/10\n",
      "20250/20250 [==============================] - 1s 53us/step - loss: 0.5074 - accuracy: 0.7793\n",
      "Epoch 9/10\n",
      "20250/20250 [==============================] - 1s 52us/step - loss: 0.5064 - accuracy: 0.7796\n",
      "Epoch 10/10\n",
      "20250/20250 [==============================] - 1s 53us/step - loss: 0.5073 - accuracy: 0.7796\n",
      "Epoch 1/10\n",
      "20250/20250 [==============================] - 1s 54us/step - loss: 0.5670 - accuracy: 0.7717 0s - loss: 0.5776 - accura\n",
      "Epoch 2/10\n",
      "20250/20250 [==============================] - 1s 46us/step - loss: 0.5168 - accuracy: 0.7802\n",
      "Epoch 3/10\n",
      "20250/20250 [==============================] - 1s 48us/step - loss: 0.5122 - accuracy: 0.7803\n",
      "Epoch 4/10\n",
      "20250/20250 [==============================] - 1s 48us/step - loss: 0.5114 - accuracy: 0.7803\n",
      "Epoch 5/10\n",
      "20250/20250 [==============================] - 1s 46us/step - loss: 0.5101 - accuracy: 0.7803\n",
      "Epoch 6/10\n",
      "20250/20250 [==============================] - 1s 47us/step - loss: 0.5094 - accuracy: 0.7803 0s - loss: 0\n",
      "Epoch 7/10\n",
      "20250/20250 [==============================] - 1s 47us/step - loss: 0.5108 - accuracy: 0.7803\n",
      "Epoch 8/10\n",
      "20250/20250 [==============================] - 1s 45us/step - loss: 0.5113 - accuracy: 0.7801\n",
      "Epoch 9/10\n",
      "20250/20250 [==============================] - 1s 45us/step - loss: 0.5095 - accuracy: 0.7803\n",
      "Epoch 10/10\n",
      "20250/20250 [==============================] - 1s 48us/step - loss: 0.5101 - accuracy: 0.7803\n",
      "Epoch 1/10\n",
      "20250/20250 [==============================] - 1s 53us/step - loss: 0.5404 - accuracy: 0.7733\n",
      "Epoch 2/10\n",
      "20250/20250 [==============================] - 1s 47us/step - loss: 0.5158 - accuracy: 0.7782\n",
      "Epoch 3/10\n",
      "20250/20250 [==============================] - 1s 46us/step - loss: 0.5191 - accuracy: 0.7782\n",
      "Epoch 4/10\n",
      "20250/20250 [==============================] - 1s 45us/step - loss: 0.5174 - accuracy: 0.7784\n",
      "Epoch 5/10\n",
      "20250/20250 [==============================] - 1s 49us/step - loss: 0.5179 - accuracy: 0.7784\n",
      "Epoch 6/10\n",
      "20250/20250 [==============================] - 1s 43us/step - loss: 0.5174 - accuracy: 0.7784\n",
      "Epoch 7/10\n",
      "20250/20250 [==============================] - 1s 45us/step - loss: 0.5165 - accuracy: 0.7784\n",
      "Epoch 8/10\n",
      "20250/20250 [==============================] - 1s 44us/step - loss: 0.5169 - accuracy: 0.7784\n",
      "Epoch 9/10\n",
      "20250/20250 [==============================] - 1s 44us/step - loss: 0.5145 - accuracy: 0.7784 0s - loss: 0.5153 - accuracy\n",
      "Epoch 10/10\n",
      "20250/20250 [==============================] - 1s 43us/step - loss: 0.5156 - accuracy: 0.7784\n",
      "Epoch 1/10\n",
      "20250/20250 [==============================] - 1s 53us/step - loss: 0.5496 - accuracy: 0.7721\n",
      "Epoch 2/10\n",
      "20250/20250 [==============================] - 1s 43us/step - loss: 0.5191 - accuracy: 0.7768\n",
      "Epoch 3/10\n",
      "20250/20250 [==============================] - 1s 44us/step - loss: 0.5176 - accuracy: 0.7774\n",
      "Epoch 4/10\n",
      "20250/20250 [==============================] - 1s 44us/step - loss: 0.5175 - accuracy: 0.7774\n",
      "Epoch 5/10\n",
      "20250/20250 [==============================] - 1s 43us/step - loss: 0.5187 - accuracy: 0.7774\n",
      "Epoch 6/10\n",
      "20250/20250 [==============================] - 1s 47us/step - loss: 0.5150 - accuracy: 0.7774\n",
      "Epoch 7/10\n",
      "20250/20250 [==============================] - 1s 44us/step - loss: 0.5179 - accuracy: 0.7774\n",
      "Epoch 8/10\n",
      "20250/20250 [==============================] - 1s 44us/step - loss: 0.5155 - accuracy: 0.7774\n",
      "Epoch 9/10\n",
      "20250/20250 [==============================] - 1s 46us/step - loss: 0.5162 - accuracy: 0.7774\n",
      "Epoch 10/10\n",
      "20250/20250 [==============================] - 1s 43us/step - loss: 0.5138 - accuracy: 0.7774\n",
      "Epoch 1/10\n",
      "20250/20250 [==============================] - 1s 51us/step - loss: 0.5506 - accuracy: 0.7733\n",
      "Epoch 2/10\n",
      "20250/20250 [==============================] - 1s 46us/step - loss: 0.5163 - accuracy: 0.7790\n",
      "Epoch 3/10\n",
      "20250/20250 [==============================] - 1s 48us/step - loss: 0.5185 - accuracy: 0.7789\n",
      "Epoch 4/10\n",
      "20250/20250 [==============================] - 1s 46us/step - loss: 0.5175 - accuracy: 0.7790\n",
      "Epoch 5/10\n",
      "20250/20250 [==============================] - 1s 45us/step - loss: 0.5155 - accuracy: 0.7789\n",
      "Epoch 6/10\n",
      "20250/20250 [==============================] - 1s 45us/step - loss: 0.5160 - accuracy: 0.7790\n",
      "Epoch 7/10\n",
      "20250/20250 [==============================] - 1s 44us/step - loss: 0.5168 - accuracy: 0.7790\n",
      "Epoch 8/10\n",
      "20250/20250 [==============================] - 1s 57us/step - loss: 0.5155 - accuracy: 0.7790 0s\n",
      "Epoch 9/10\n",
      "20250/20250 [==============================] - 1s 47us/step - loss: 0.5143 - accuracy: 0.7790 0s - loss: 0\n",
      "Epoch 10/10\n",
      "20250/20250 [==============================] - 1s 63us/step - loss: 0.5170 - accuracy: 0.7790\n",
      "Epoch 1/10\n",
      "20250/20250 [==============================] - 1s 48us/step - loss: 0.5750 - accuracy: 0.7682\n",
      "Epoch 2/10\n",
      "20250/20250 [==============================] - 1s 44us/step - loss: 0.5222 - accuracy: 0.7794\n",
      "Epoch 3/10\n",
      "20250/20250 [==============================] - 1s 45us/step - loss: 0.5146 - accuracy: 0.7795\n",
      "Epoch 4/10\n",
      "20250/20250 [==============================] - 1s 43us/step - loss: 0.5138 - accuracy: 0.7793\n",
      "Epoch 5/10\n",
      "20250/20250 [==============================] - 1s 43us/step - loss: 0.5140 - accuracy: 0.7795\n",
      "Epoch 6/10\n",
      "20250/20250 [==============================] - 1s 45us/step - loss: 0.5141 - accuracy: 0.7795\n",
      "Epoch 7/10\n",
      "20250/20250 [==============================] - 1s 43us/step - loss: 0.5149 - accuracy: 0.7795\n",
      "Epoch 8/10\n",
      "20250/20250 [==============================] - 1s 43us/step - loss: 0.5165 - accuracy: 0.7790\n",
      "Epoch 9/10\n",
      "20250/20250 [==============================] - 1s 45us/step - loss: 0.5142 - accuracy: 0.7793 0s - loss: 0.515\n",
      "Epoch 10/10\n",
      "20250/20250 [==============================] - 1s 43us/step - loss: 0.5157 - accuracy: 0.7794\n",
      "Epoch 1/10\n",
      "20250/20250 [==============================] - 1s 49us/step - loss: 0.5539 - accuracy: 0.7726\n",
      "Epoch 2/10\n",
      "20250/20250 [==============================] - 1s 44us/step - loss: 0.5147 - accuracy: 0.7799\n",
      "Epoch 3/10\n",
      "20250/20250 [==============================] - 1s 43us/step - loss: 0.5107 - accuracy: 0.7797\n",
      "Epoch 4/10\n",
      "20250/20250 [==============================] - 1s 52us/step - loss: 0.5100 - accuracy: 0.7799\n",
      "Epoch 5/10\n",
      "20250/20250 [==============================] - 1s 43us/step - loss: 0.5098 - accuracy: 0.7799\n",
      "Epoch 6/10\n",
      "20250/20250 [==============================] - 1s 44us/step - loss: 0.5094 - accuracy: 0.7799\n",
      "Epoch 7/10\n",
      "20250/20250 [==============================] - 1s 43us/step - loss: 0.5086 - accuracy: 0.7799\n",
      "Epoch 8/10\n",
      "20250/20250 [==============================] - 1s 43us/step - loss: 0.5105 - accuracy: 0.7799\n",
      "Epoch 9/10\n",
      "20250/20250 [==============================] - 1s 45us/step - loss: 0.5100 - accuracy: 0.7797\n",
      "Epoch 10/10\n",
      "20250/20250 [==============================] - 1s 46us/step - loss: 0.5115 - accuracy: 0.7798\n",
      "Epoch 1/10\n",
      "20250/20250 [==============================] - 1s 49us/step - loss: 0.7430 - accuracy: 0.7482\n",
      "Epoch 2/10\n",
      "20250/20250 [==============================] - 1s 44us/step - loss: 0.5209 - accuracy: 0.7770\n",
      "Epoch 3/10\n",
      "20250/20250 [==============================] - 1s 44us/step - loss: 0.5175 - accuracy: 0.7772\n",
      "Epoch 4/10\n",
      "20250/20250 [==============================] - 1s 47us/step - loss: 0.5155 - accuracy: 0.7769\n",
      "Epoch 5/10\n",
      "20250/20250 [==============================] - 1s 45us/step - loss: 0.5142 - accuracy: 0.7772\n",
      "Epoch 6/10\n",
      "20250/20250 [==============================] - 1s 45us/step - loss: 0.5146 - accuracy: 0.7772\n",
      "Epoch 7/10\n",
      "20250/20250 [==============================] - 1s 45us/step - loss: 0.5143 - accuracy: 0.7771\n",
      "Epoch 8/10\n",
      "20250/20250 [==============================] - 1s 45us/step - loss: 0.5158 - accuracy: 0.7772\n",
      "Epoch 9/10\n",
      "20250/20250 [==============================] - 1s 45us/step - loss: 0.5147 - accuracy: 0.7772\n",
      "Epoch 10/10\n",
      "20250/20250 [==============================] - 1s 42us/step - loss: 0.5142 - accuracy: 0.7772\n",
      "Epoch 1/10\n",
      "20250/20250 [==============================] - 1s 66us/step - loss: 0.5615 - accuracy: 0.7706\n",
      "Epoch 2/10\n",
      "20250/20250 [==============================] - 1s 57us/step - loss: 0.5186 - accuracy: 0.7791 0s - loss: 0.5236 - ac\n",
      "Epoch 3/10\n",
      "20250/20250 [==============================] - 1s 46us/step - loss: 0.5154 - accuracy: 0.7790\n",
      "Epoch 4/10\n",
      "20250/20250 [==============================] - 1s 46us/step - loss: 0.5146 - accuracy: 0.7790\n",
      "Epoch 5/10\n",
      "20250/20250 [==============================] - 1s 46us/step - loss: 0.5117 - accuracy: 0.7790\n",
      "Epoch 6/10\n",
      "20250/20250 [==============================] - 1s 50us/step - loss: 0.5100 - accuracy: 0.7790\n",
      "Epoch 7/10\n"
     ]
    },
    {
     "name": "stdout",
     "output_type": "stream",
     "text": [
      "20250/20250 [==============================] - 1s 48us/step - loss: 0.5101 - accuracy: 0.7790\n",
      "Epoch 8/10\n",
      "20250/20250 [==============================] - 1s 48us/step - loss: 0.5096 - accuracy: 0.7790\n",
      "Epoch 9/10\n",
      "20250/20250 [==============================] - 1s 45us/step - loss: 0.5102 - accuracy: 0.7791\n",
      "Epoch 10/10\n",
      "20250/20250 [==============================] - 1s 46us/step - loss: 0.5092 - accuracy: 0.7791\n",
      "Epoch 1/10\n",
      "20250/20250 [==============================] - 1s 54us/step - loss: 0.5982 - accuracy: 0.7676\n",
      "Epoch 2/10\n",
      "20250/20250 [==============================] - 1s 46us/step - loss: 0.5172 - accuracy: 0.7775\n",
      "Epoch 3/10\n",
      "20250/20250 [==============================] - 1s 48us/step - loss: 0.5140 - accuracy: 0.7780\n",
      "Epoch 4/10\n",
      "20250/20250 [==============================] - 1s 50us/step - loss: 0.5135 - accuracy: 0.7779\n",
      "Epoch 5/10\n",
      "20250/20250 [==============================] - 1s 46us/step - loss: 0.5125 - accuracy: 0.7778\n",
      "Epoch 6/10\n",
      "20250/20250 [==============================] - 1s 47us/step - loss: 0.5117 - accuracy: 0.7779\n",
      "Epoch 7/10\n",
      "20250/20250 [==============================] - 1s 48us/step - loss: 0.5121 - accuracy: 0.7779\n",
      "Epoch 8/10\n",
      "20250/20250 [==============================] - 1s 50us/step - loss: 0.5117 - accuracy: 0.7779\n",
      "Epoch 9/10\n",
      "20250/20250 [==============================] - 1s 50us/step - loss: 0.5112 - accuracy: 0.7779\n",
      "Epoch 10/10\n",
      "20250/20250 [==============================] - 1s 48us/step - loss: 0.5115 - accuracy: 0.7778\n",
      "Epoch 1/10\n",
      "20250/20250 [==============================] - 1s 57us/step - loss: 0.6169 - accuracy: 0.7663\n",
      "Epoch 2/10\n",
      "20250/20250 [==============================] - 1s 46us/step - loss: 0.5160 - accuracy: 0.7795\n",
      "Epoch 3/10\n",
      "20250/20250 [==============================] - 1s 48us/step - loss: 0.5157 - accuracy: 0.7795\n",
      "Epoch 4/10\n",
      "20250/20250 [==============================] - 1s 46us/step - loss: 0.5165 - accuracy: 0.7795\n",
      "Epoch 5/10\n",
      "20250/20250 [==============================] - 1s 45us/step - loss: 0.5132 - accuracy: 0.7796\n",
      "Epoch 6/10\n",
      "20250/20250 [==============================] - 1s 58us/step - loss: 0.5116 - accuracy: 0.7796\n",
      "Epoch 7/10\n",
      "20250/20250 [==============================] - 1s 57us/step - loss: 0.5112 - accuracy: 0.7795\n",
      "Epoch 8/10\n",
      "20250/20250 [==============================] - 1s 47us/step - loss: 0.5110 - accuracy: 0.7795 0s - loss: 0\n",
      "Epoch 9/10\n",
      "20250/20250 [==============================] - 1s 46us/step - loss: 0.5117 - accuracy: 0.7796 0s - loss: 0.5126 - accuracy\n",
      "Epoch 10/10\n",
      "20250/20250 [==============================] - 1s 46us/step - loss: 0.5114 - accuracy: 0.7795\n",
      "Epoch 1/10\n",
      "22500/22500 [==============================] - 2s 68us/step - loss: 0.6370 - accuracy: 0.7699\n",
      "Epoch 2/10\n",
      "22500/22500 [==============================] - 1s 64us/step - loss: 0.5167 - accuracy: 0.7788\n",
      "Epoch 3/10\n",
      "22500/22500 [==============================] - 2s 69us/step - loss: 0.5125 - accuracy: 0.7787\n",
      "Epoch 4/10\n",
      "22500/22500 [==============================] - 1s 65us/step - loss: 0.5094 - accuracy: 0.7788 0s - loss: 0.5080 - accu\n",
      "Epoch 5/10\n",
      "22500/22500 [==============================] - 1s 62us/step - loss: 0.5098 - accuracy: 0.7788\n",
      "Epoch 6/10\n",
      "22500/22500 [==============================] - 1s 59us/step - loss: 0.5083 - accuracy: 0.7788\n",
      "Epoch 7/10\n",
      "22500/22500 [==============================] - 2s 71us/step - loss: 0.5092 - accuracy: 0.7788\n",
      "Epoch 8/10\n",
      "22500/22500 [==============================] - 1s 65us/step - loss: 0.5093 - accuracy: 0.7787\n",
      "Epoch 9/10\n",
      "22500/22500 [==============================] - 1s 64us/step - loss: 0.5099 - accuracy: 0.7785\n",
      "Epoch 10/10\n",
      "22500/22500 [==============================] - 1s 67us/step - loss: 0.5089 - accuracy: 0.7786 0s - loss: 0.5089 - accuracy\n"
     ]
    }
   ],
   "source": [
    "%time\n",
    "grid_search = grid_search.fit(X_train, y_train)"
   ]
  },
  {
   "cell_type": "code",
   "execution_count": 45,
   "metadata": {},
   "outputs": [],
   "source": [
    "y_pred = grid_search.predict(X_test)"
   ]
  },
  {
   "cell_type": "code",
   "execution_count": 46,
   "metadata": {},
   "outputs": [],
   "source": [
    "y_pred_train = grid_search.predict(X_train)"
   ]
  },
  {
   "cell_type": "code",
   "execution_count": 47,
   "metadata": {},
   "outputs": [],
   "source": [
    "y_pred_train = (y_pred_train > 0.5)"
   ]
  },
  {
   "cell_type": "code",
   "execution_count": 48,
   "metadata": {},
   "outputs": [],
   "source": [
    "y_pred_train = y_pred_train.astype('int')"
   ]
  },
  {
   "cell_type": "code",
   "execution_count": 49,
   "metadata": {},
   "outputs": [],
   "source": [
    "y_pred = (y_pred > 0.5)"
   ]
  },
  {
   "cell_type": "code",
   "execution_count": 50,
   "metadata": {},
   "outputs": [],
   "source": [
    "y_pred = y_pred.astype('int')"
   ]
  },
  {
   "cell_type": "code",
   "execution_count": 60,
   "metadata": {},
   "outputs": [
    {
     "name": "stdout",
     "output_type": "stream",
     "text": [
      "Accuracy Score : 0.5048242591316333\n",
      "Precision Score : 0.5024333719582851\n",
      "Recall Score : 0.9960946473696302\n",
      "F1 Score : 0.6679503966725719\n"
     ]
    }
   ],
   "source": [
    "# New Model Evaluation metrics Train (data - cleanedcreditcard_2)\n",
    "print('Accuracy Score : ' + str(accuracy_score(y_train,y_pred_train)))\n",
    "print('Precision Score : ' + str(precision_score(y_train,y_pred_train)))\n",
    "print('Recall Score : ' + str(recall_score(y_train,y_pred_train)))\n",
    "print('F1 Score : ' + str(f1_score(y_train,y_pred_train)))"
   ]
  },
  {
   "cell_type": "code",
   "execution_count": 51,
   "metadata": {},
   "outputs": [
    {
     "name": "stdout",
     "output_type": "stream",
     "text": [
      "Accuracy Score : 0.7789333333333334\n",
      "Precision Score : 0.6363636363636364\n",
      "Recall Score : 0.0014064697609001407\n",
      "F1 Score : 0.002806736166800321\n"
     ]
    }
   ],
   "source": [
    "# New Model Evaluation metrics Train (data - cleanedcreditcard_2)(without sampling)\n",
    "print('Accuracy Score : ' + str(accuracy_score(y_train,y_pred_train)))\n",
    "print('Precision Score : ' + str(precision_score(y_train,y_pred_train)))\n",
    "print('Recall Score : ' + str(recall_score(y_train,y_pred_train)))\n",
    "print('F1 Score : ' + str(f1_score(y_train,y_pred_train)))"
   ]
  },
  {
   "cell_type": "code",
   "execution_count": 118,
   "metadata": {},
   "outputs": [
    {
     "name": "stdout",
     "output_type": "stream",
     "text": [
      "Accuracy Score : 0.6096944635883299\n",
      "Precision Score : 0.5916682664618929\n",
      "Recall Score : 0.708017459223524\n",
      "F1 Score : 0.6446350135954821\n"
     ]
    }
   ],
   "source": [
    "# New Model Evaluation metrics Train (data - cleanedcreditcard_1)\n",
    "print('Accuracy Score : ' + str(accuracy_score(y_train,y_pred_train)))\n",
    "print('Precision Score : ' + str(precision_score(y_train,y_pred_train)))\n",
    "print('Recall Score : ' + str(recall_score(y_train,y_pred_train)))\n",
    "print('F1 Score : ' + str(f1_score(y_train,y_pred_train)))"
   ]
  },
  {
   "cell_type": "code",
   "execution_count": 61,
   "metadata": {},
   "outputs": [
    {
     "name": "stdout",
     "output_type": "stream",
     "text": [
      "Accuracy Score : 0.5056283023202389\n",
      "Precision Score : 0.5028392629505157\n",
      "Recall Score : 0.9967838272455778\n",
      "F1 Score : 0.6684640271144663\n"
     ]
    }
   ],
   "source": [
    "# New Model Evaluation metrics Test (data - cleanedcreditcard_2)\n",
    "print('Accuracy Score : ' + str(accuracy_score(y_test,y_pred)))\n",
    "print('Precision Score : ' + str(precision_score(y_test,y_pred)))\n",
    "print('Recall Score : ' + str(recall_score(y_test,y_pred)))\n",
    "print('F1 Score : ' + str(f1_score(y_test,y_pred)))"
   ]
  },
  {
   "cell_type": "code",
   "execution_count": 52,
   "metadata": {},
   "outputs": [
    {
     "name": "stdout",
     "output_type": "stream",
     "text": [
      "Accuracy Score : 0.7794666666666666\n",
      "Precision Score : 1.0\n",
      "Recall Score : 0.0030138637733574444\n",
      "F1 Score : 0.006009615384615385\n"
     ]
    }
   ],
   "source": [
    "# New Model Evaluation metrics Test (data - cleanedcreditcard_2) (without sampling)\n",
    "print('Accuracy Score : ' + str(accuracy_score(y_test,y_pred)))\n",
    "print('Precision Score : ' + str(precision_score(y_test,y_pred)))\n",
    "print('Recall Score : ' + str(recall_score(y_test,y_pred)))\n",
    "print('F1 Score : ' + str(f1_score(y_test,y_pred)))"
   ]
  },
  {
   "cell_type": "code",
   "execution_count": 112,
   "metadata": {},
   "outputs": [
    {
     "name": "stdout",
     "output_type": "stream",
     "text": [
      "Accuracy Score : 0.6006202618883528\n",
      "Precision Score : 0.5847523219814241\n",
      "Recall Score : 0.6942338617045716\n",
      "F1 Score : 0.6348072681441025\n"
     ]
    }
   ],
   "source": [
    "# New Model Evaluation metrics Test (data - cleanedcreditcard_1)\n",
    "print('Accuracy Score : ' + str(accuracy_score(y_test,y_pred)))\n",
    "print('Precision Score : ' + str(precision_score(y_test,y_pred)))\n",
    "print('Recall Score : ' + str(recall_score(y_test,y_pred)))\n",
    "print('F1 Score : ' + str(f1_score(y_test,y_pred)))"
   ]
  },
  {
   "cell_type": "code",
   "execution_count": 113,
   "metadata": {},
   "outputs": [
    {
     "name": "stdout",
     "output_type": "stream",
     "text": [
      "              precision    recall  f1-score   support\n",
      "\n",
      "    negative       0.62      0.51      0.56      4353\n",
      "    positive       0.58      0.69      0.63      4353\n",
      "\n",
      "    accuracy                           0.60      8706\n",
      "   macro avg       0.60      0.60      0.60      8706\n",
      "weighted avg       0.60      0.60      0.60      8706\n",
      "\n"
     ]
    }
   ],
   "source": [
    "#model evaluation for test (data - cleanedcreditcard_1)\n",
    "target_names = ['negative', 'positive']\n",
    "print(classification_report(y_test, y_pred, target_names= target_names))"
   ]
  },
  {
   "cell_type": "code",
   "execution_count": 64,
   "metadata": {},
   "outputs": [
    {
     "name": "stdout",
     "output_type": "stream",
     "text": [
      "              precision    recall  f1-score   support\n",
      "\n",
      "    negative       0.82      0.01      0.03      4353\n",
      "    positive       0.50      1.00      0.67      4353\n",
      "\n",
      "    accuracy                           0.51      8706\n",
      "   macro avg       0.66      0.51      0.35      8706\n",
      "weighted avg       0.66      0.51      0.35      8706\n",
      "\n"
     ]
    }
   ],
   "source": [
    "#model evaluation for test (data - cleanedcreditcard_2)\n",
    "target_names = ['negative', 'positive']\n",
    "print(classification_report(y_test, y_pred, target_names= target_names))"
   ]
  }
 ],
 "metadata": {
  "kernelspec": {
   "display_name": "Python 3",
   "language": "python",
   "name": "python3"
  },
  "language_info": {
   "codemirror_mode": {
    "name": "ipython",
    "version": 3
   },
   "file_extension": ".py",
   "mimetype": "text/x-python",
   "name": "python",
   "nbconvert_exporter": "python",
   "pygments_lexer": "ipython3",
   "version": "3.8.3"
  }
 },
 "nbformat": 4,
 "nbformat_minor": 2
}
